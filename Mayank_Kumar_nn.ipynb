{
  "cells": [
    {
      "cell_type": "markdown",
      "metadata": {
        "id": "yDriIbfa5lwD"
      },
      "source": [
        "Problem statement: To build a CNN based model which can accurately detect melanoma. Melanoma is a type of cancer that can be deadly if not detected early. It accounts for 75% of skin cancer deaths. A solution which can evaluate images and alert the dermatologists about the presence of melanoma has the potential to reduce a lot of manual effort needed in diagnosis."
      ]
    },
    {
      "cell_type": "code",
      "source": [
        "from google.colab import drive\n",
        "drive.mount('/content/drive')"
      ],
      "metadata": {
        "colab": {
          "base_uri": "https://localhost:8080/"
        },
        "id": "egce0n27e4mU",
        "outputId": "ce0a058d-d973-40fb-b6ce-a26d39f7b806"
      },
      "execution_count": 1,
      "outputs": [
        {
          "output_type": "stream",
          "name": "stdout",
          "text": [
            "Mounted at /content/drive\n"
          ]
        }
      ]
    },
    {
      "cell_type": "markdown",
      "metadata": {
        "id": "lvR7ppk77v31"
      },
      "source": [
        "### Importing Skin Cancer Data\n",
        "#### To do: Take necessary actions to read the data"
      ]
    },
    {
      "cell_type": "markdown",
      "metadata": {
        "id": "JfcpIXQZN2Rh"
      },
      "source": [
        "### Importing all the important libraries"
      ]
    },
    {
      "cell_type": "code",
      "execution_count": 2,
      "metadata": {
        "id": "WC8xCQuELWms"
      },
      "outputs": [],
      "source": [
        "import pathlib\n",
        "import tensorflow as tf\n",
        "import matplotlib.pyplot as plt\n",
        "import numpy as np\n",
        "import pandas as pd\n",
        "import os\n",
        "import PIL\n",
        "from tensorflow import keras\n",
        "from tensorflow.keras import layers\n",
        "from tensorflow.keras.layers import Dense, Dropout, Activation, Flatten, Conv2D, MaxPooling2D\n",
        "from tensorflow.keras.models import Sequential"
      ]
    },
    {
      "cell_type": "code",
      "execution_count": null,
      "metadata": {
        "id": "i0Y5zh74mE2K"
      },
      "outputs": [],
      "source": [
        "#from google.colab import drive\n",
        "#drive.mount('/content/drive',force_remount = True)"
      ]
    },
    {
      "cell_type": "markdown",
      "metadata": {
        "id": "RpUsRQwOOL72"
      },
      "source": [
        "This assignment uses a dataset of about 2357 images of skin cancer types. The dataset contains 9 sub-directories in each train and test subdirectories. The 9 sub-directories contains the images of 9 skin cancer types respectively."
      ]
    },
    {
      "cell_type": "markdown",
      "source": [
        "The file loaded into google drive is a zipped file, this needs to be unzipped first and saved into a new folder"
      ],
      "metadata": {
        "id": "61kVWeETyYdT"
      }
    },
    {
      "cell_type": "code",
      "source": [],
      "metadata": {
        "id": "5tcZdbUsU64-"
      },
      "execution_count": null,
      "outputs": []
    },
    {
      "cell_type": "code",
      "source": [
        "!unzip -q \"/content/drive/MyDrive/CNN_assignment.zip\" -d \"/content/drive/MyDrive/CNN_assignment_Extracted\""
      ],
      "metadata": {
        "id": "itRovPbcvwyU"
      },
      "execution_count": 9,
      "outputs": []
    },
    {
      "cell_type": "code",
      "execution_count": 10,
      "metadata": {
        "id": "D57L-ovIKtI4"
      },
      "outputs": [],
      "source": [
        "# Defining the path for train and test images\n",
        "## Todo: Update the paths of the train and test dataset\n",
        "data_dir_train = pathlib.Path(\"/content/drive/MyDrive/CNN_assignment_Extracted/Skin cancer ISIC The International Skin Imaging Collaboration/Train\")\n",
        "data_dir_test = pathlib.Path(\"/content/drive/MyDrive/CNN_assignment_Extracted/Skin cancer ISIC The International Skin Imaging Collaboration/Test\")"
      ]
    },
    {
      "cell_type": "code",
      "execution_count": 11,
      "metadata": {
        "id": "DqksN1w5Fu-N",
        "colab": {
          "base_uri": "https://localhost:8080/"
        },
        "outputId": "dee122dd-2b22-4675-9069-152de0d00fed"
      },
      "outputs": [
        {
          "output_type": "stream",
          "name": "stdout",
          "text": [
            "2239\n",
            "118\n"
          ]
        }
      ],
      "source": [
        "image_count_train = len(list(data_dir_train.glob('*/*.jpg')))\n",
        "print(image_count_train)\n",
        "image_count_test = len(list(data_dir_test.glob('*/*.jpg')))\n",
        "print(image_count_test)"
      ]
    },
    {
      "cell_type": "markdown",
      "metadata": {
        "id": "O8HkfW3jPJun"
      },
      "source": [
        "### Load using keras.preprocessing\n",
        "\n",
        "Let's load these images off disk using the helpful image_dataset_from_directory utility."
      ]
    },
    {
      "cell_type": "markdown",
      "metadata": {
        "id": "cDBKZG3jPcMc"
      },
      "source": [
        "### Create a dataset\n",
        "\n",
        "Define some parameters for the loader:"
      ]
    },
    {
      "cell_type": "code",
      "execution_count": 12,
      "metadata": {
        "id": "VLfcXcZ9LjGv"
      },
      "outputs": [],
      "source": [
        "batch_size = 32\n",
        "img_height = 180\n",
        "img_width = 180"
      ]
    },
    {
      "cell_type": "markdown",
      "metadata": {
        "id": "Y5f5y43GPog1"
      },
      "source": [
        "Use 80% of the images for training, and 20% for validation."
      ]
    },
    {
      "cell_type": "code",
      "execution_count": 13,
      "metadata": {
        "id": "G1BWmDzr7w-5",
        "colab": {
          "base_uri": "https://localhost:8080/"
        },
        "outputId": "ec518c32-6e72-45e0-8303-0e3ec486f2e6"
      },
      "outputs": [
        {
          "output_type": "stream",
          "name": "stdout",
          "text": [
            "Found 2239 files belonging to 9 classes.\n"
          ]
        }
      ],
      "source": [
        "## Write your train dataset here\n",
        "## Note use seed=123 while creating your dataset using tf.keras.preprocessing.image_dataset_from_directory\n",
        "## Note, make sure your resize your images to the size img_height*img_width, while writting the dataset\n",
        "\n",
        "train_ds = keras.preprocessing.image_dataset_from_directory(\n",
        "    data_dir_train,\n",
        "    image_size=(img_height,img_width),\n",
        "    batch_size = batch_size,\n",
        "    seed = 123\n",
        ")"
      ]
    },
    {
      "cell_type": "code",
      "execution_count": 14,
      "metadata": {
        "id": "LYch6-SR-i2g",
        "colab": {
          "base_uri": "https://localhost:8080/"
        },
        "outputId": "7f7e9db9-e82f-4821-a4bf-af49012e600d"
      },
      "outputs": [
        {
          "output_type": "stream",
          "name": "stdout",
          "text": [
            "Found 2239 files belonging to 9 classes.\n",
            "Using 1792 files for training.\n"
          ]
        }
      ],
      "source": [
        "## Write your validation dataset here\n",
        "## Note use seed=123 while creating your dataset using tf.keras.preprocessing.image_dataset_from_directory\n",
        "## Note, make sure your resize your images to the size img_height*img_width, while writting the dataset\n",
        "val_ds = keras.preprocessing.image_dataset_from_directory(\n",
        "    data_dir_train,\n",
        "    image_size=(img_height,img_width),\n",
        "    batch_size = batch_size,\n",
        "    subset = \"training\",\n",
        "    seed = 123,\n",
        "    validation_split = 0.2\n",
        ")"
      ]
    },
    {
      "cell_type": "code",
      "execution_count": 15,
      "metadata": {
        "id": "Bk0RV7G7-nad",
        "colab": {
          "base_uri": "https://localhost:8080/"
        },
        "outputId": "e00323d1-91d7-4a11-fc46-6bfe16e30a62"
      },
      "outputs": [
        {
          "output_type": "stream",
          "name": "stdout",
          "text": [
            "['actinic keratosis', 'basal cell carcinoma', 'dermatofibroma', 'melanoma', 'nevus', 'pigmented benign keratosis', 'seborrheic keratosis', 'squamous cell carcinoma', 'vascular lesion']\n"
          ]
        }
      ],
      "source": [
        "# List out all the classes of skin cancer and store them in a list.\n",
        "# You can find the class names in the class_names attribute on these datasets.\n",
        "# These correspond to the directory names in alphabetical order.\n",
        "class_names = train_ds.class_names\n",
        "print(class_names)"
      ]
    },
    {
      "cell_type": "markdown",
      "metadata": {
        "id": "jbsm5oYiQH_b"
      },
      "source": [
        "### Visualize the data\n",
        "#### Todo, create a code to visualize one instance of all the nine classes present in the dataset"
      ]
    },
    {
      "cell_type": "code",
      "execution_count": 16,
      "metadata": {
        "id": "tKILZ48I-q1k",
        "colab": {
          "base_uri": "https://localhost:8080/",
          "height": 1000
        },
        "collapsed": true,
        "outputId": "af0b3341-ce1b-4268-c7c1-de737f027c67"
      },
      "outputs": [
        {
          "output_type": "display_data",
          "data": {
            "text/plain": [
              "<Figure size 1000x1000 with 9 Axes>"
            ],
            "image/png": "[encoded data removed]"
          },
          "metadata": {}
        }
      ],
      "source": [
        "import matplotlib.pyplot as plt\n",
        "\n",
        "### your code goes here, you can use training or validation data to visualize\n",
        "def plot_images_from_dataset(dataset, class_names, num_classes=9, images_per_class=1):\n",
        "    fig, axes = plt.subplots(num_classes, images_per_class, figsize=(10, 10))\n",
        "    axes = axes.flatten()\n",
        "\n",
        "    class_counts = {class_name: 0 for class_name in class_names}\n",
        "    plotted_images = {class_name: [] for class_name in class_names}\n",
        "\n",
        "    for images, labels in dataset:\n",
        "        for image, label in zip(images, labels):\n",
        "            class_name = class_names[label]\n",
        "            if class_counts[class_name] < images_per_class:\n",
        "                idx = class_counts[class_name] * num_classes + class_names.index(class_name)\n",
        "                axes[idx].imshow(image.numpy().astype(\"uint8\"))\n",
        "                axes[idx].set_title(class_name)\n",
        "                axes[idx].axis('off')\n",
        "                class_counts[class_name] += 1\n",
        "                if all(count == images_per_class for count in class_counts.values()):\n",
        "                    #break\n",
        "                    plt.tight_layout()\n",
        "                    plt.show()\n",
        "                    return\n",
        "        #if all(count == images_per_class for count in class_counts.values()):\n",
        "            #break\n",
        "\n",
        "    plt.tight_layout()\n",
        "    plt.show()\n",
        "\n",
        "# Plot images from the training dataset\n",
        "plot_images_from_dataset(train_ds, class_names)"
      ]
    },
    {
      "cell_type": "markdown",
      "metadata": {
        "id": "8cAZPYaeQjQy"
      },
      "source": [
        "The `image_batch` is a tensor of the shape `(32, 180, 180, 3)`. This is a batch of 32 images of shape `180x180x3` (the last dimension refers to color channels RGB). The `label_batch` is a tensor of the shape `(32,)`, these are corresponding labels to the 32 images."
      ]
    },
    {
      "cell_type": "markdown",
      "metadata": {
        "id": "jzVXBHiyQ7_I"
      },
      "source": [
        "`Dataset.cache()` keeps the images in memory after they're loaded off disk during the first epoch.\n",
        "\n",
        "`Dataset.prefetch()` overlaps data preprocessing and model execution while training."
      ]
    },
    {
      "cell_type": "code",
      "execution_count": null,
      "metadata": {
        "id": "7wZlKRBEGNtU"
      },
      "outputs": [],
      "source": [
        "AUTOTUNE = tf.data.experimental.AUTOTUNE\n",
        "train_ds = train_ds.cache().shuffle(1000).prefetch(buffer_size=AUTOTUNE)\n",
        "val_ds = val_ds.cache().prefetch(buffer_size=AUTOTUNE)"
      ]
    },
    {
      "cell_type": "markdown",
      "metadata": {
        "id": "1JEAF6-sRyz8"
      },
      "source": [
        "### Create the model\n",
        "#### Todo: Create a CNN model, which can accurately detect 9 classes present in the dataset. Use ```layers.experimental.preprocessing.Rescaling``` to normalize pixel values between (0,1). The RGB channel values are in the `[0, 255]` range. This is not ideal for a neural network. Here, it is good to standardize values to be in the `[0, 1]`"
      ]
    },
    {
      "cell_type": "code",
      "execution_count": null,
      "metadata": {
        "id": "ync9xoW7GZgn"
      },
      "outputs": [],
      "source": [
        "### Your code goes here\n",
        "model = Sequential(layers.experimental.preprocessing.Rescaling(scale = 1./255))\n",
        "model.add(Conv2D(32, (3, 3), padding='same',\n",
        "                 input_shape=(180,180,3)))\n",
        "model.add(Activation('relu'))\n",
        "model.add(Conv2D(32, (3, 3)))\n",
        "model.add(Activation('relu'))\n",
        "\n",
        "model.add(Flatten())\n",
        "model.add(Dense(128))\n",
        "model.add(Activation('relu'))\n",
        "model.add(Dropout(0.5))\n",
        "model.add(Dense(len(class_names)))\n",
        "model.add(Activation('softmax'))"
      ]
    },
    {
      "cell_type": "markdown",
      "metadata": {
        "id": "SDKzJmHwSCtt"
      },
      "source": [
        "### Compile the model\n",
        "Choose an appropirate optimiser and loss function for model training"
      ]
    },
    {
      "cell_type": "code",
      "execution_count": null,
      "metadata": {
        "id": "XB8wKtiPGe1j"
      },
      "outputs": [],
      "source": [
        "### Todo, choose an appropirate optimiser and loss function\n",
        "model.compile(optimizer='adam',\n",
        "              loss='sparse_categorical_crossentropy',\n",
        "              metrics=['accuracy'])"
      ]
    },
    {
      "cell_type": "code",
      "execution_count": null,
      "metadata": {
        "id": "_ZGWN4MZGhtJ",
        "colab": {
          "base_uri": "https://localhost:8080/"
        },
        "outputId": "e8faa9ce-6032-46f4-f43d-957bb52ea592"
      },
      "outputs": [
        {
          "output_type": "stream",
          "name": "stdout",
          "text": [
            "Model: \"sequential_2\"\n",
            "_________________________________________________________________\n",
            " Layer (type)                Output Shape              Param #   \n",
            "=================================================================\n",
            " rescaling_2 (Rescaling)     (None, 180, 180, 3)       0         \n",
            "                                                                 \n",
            " conv2d_4 (Conv2D)           (None, 180, 180, 32)      896       \n",
            "                                                                 \n",
            " activation_8 (Activation)   (None, 180, 180, 32)      0         \n",
            "                                                                 \n",
            " conv2d_5 (Conv2D)           (None, 178, 178, 32)      9248      \n",
            "                                                                 \n",
            " activation_9 (Activation)   (None, 178, 178, 32)      0         \n",
            "                                                                 \n",
            " flatten_2 (Flatten)         (None, 1013888)           0         \n",
            "                                                                 \n",
            " dense_4 (Dense)             (None, 128)               129777792 \n",
            "                                                                 \n",
            " activation_10 (Activation)  (None, 128)               0         \n",
            "                                                                 \n",
            " dropout_2 (Dropout)         (None, 128)               0         \n",
            "                                                                 \n",
            " dense_5 (Dense)             (None, 9)                 1161      \n",
            "                                                                 \n",
            " activation_11 (Activation)  (None, 9)                 0         \n",
            "                                                                 \n",
            "=================================================================\n",
            "Total params: 129789097 (495.11 MB)\n",
            "Trainable params: 129789097 (495.11 MB)\n",
            "Non-trainable params: 0 (0.00 Byte)\n",
            "_________________________________________________________________\n"
          ]
        }
      ],
      "source": [
        "# View the summary of all layers\n",
        "model.build((None, img_height, img_width, 3))\n",
        "model.summary()"
      ]
    },
    {
      "cell_type": "markdown",
      "metadata": {
        "id": "ljD_83rwSl5O"
      },
      "source": [
        "### Train the model"
      ]
    },
    {
      "cell_type": "code",
      "execution_count": null,
      "metadata": {
        "id": "Kkfw2rJXGlYC",
        "colab": {
          "base_uri": "https://localhost:8080/"
        },
        "outputId": "33487c02-278c-47df-b2ee-9d0e0edd4e48",
        "collapsed": true
      },
      "outputs": [
        {
          "output_type": "stream",
          "name": "stdout",
          "text": [
            "Epoch 1/20\n",
            "211/211 [==============================] - 88s 226ms/step - loss: 3.3843 - accuracy: 0.2422 - val_loss: 1.8931 - val_accuracy: 0.3279\n",
            "Epoch 2/20\n",
            "211/211 [==============================] - 18s 86ms/step - loss: 1.6437 - accuracy: 0.4017 - val_loss: 1.2303 - val_accuracy: 0.5406\n",
            "Epoch 3/20\n",
            "211/211 [==============================] - 18s 85ms/step - loss: 1.2962 - accuracy: 0.5409 - val_loss: 0.9827 - val_accuracy: 0.6801\n",
            "Epoch 4/20\n",
            "211/211 [==============================] - 18s 84ms/step - loss: 1.0168 - accuracy: 0.6519 - val_loss: 0.6736 - val_accuracy: 0.8027\n",
            "Epoch 5/20\n",
            "211/211 [==============================] - 18s 83ms/step - loss: 0.8247 - accuracy: 0.7341 - val_loss: 0.4404 - val_accuracy: 0.8869\n",
            "Epoch 6/20\n",
            "211/211 [==============================] - 18s 83ms/step - loss: 0.5949 - accuracy: 0.8218 - val_loss: 0.3348 - val_accuracy: 0.9234\n",
            "Epoch 7/20\n",
            "211/211 [==============================] - 18s 84ms/step - loss: 0.4873 - accuracy: 0.8610 - val_loss: 0.3161 - val_accuracy: 0.9329\n",
            "Epoch 8/20\n",
            "211/211 [==============================] - 18s 84ms/step - loss: 0.3600 - accuracy: 0.8973 - val_loss: 0.1642 - val_accuracy: 0.9590\n",
            "Epoch 9/20\n",
            "211/211 [==============================] - 18s 85ms/step - loss: 0.2970 - accuracy: 0.9154 - val_loss: 0.1432 - val_accuracy: 0.9649\n",
            "Epoch 10/20\n",
            "211/211 [==============================] - 18s 84ms/step - loss: 0.2524 - accuracy: 0.9273 - val_loss: 0.1014 - val_accuracy: 0.9668\n",
            "Epoch 11/20\n",
            "211/211 [==============================] - 18s 84ms/step - loss: 0.2191 - accuracy: 0.9320 - val_loss: 0.1084 - val_accuracy: 0.9683\n",
            "Epoch 12/20\n",
            "211/211 [==============================] - 18s 85ms/step - loss: 0.2044 - accuracy: 0.9423 - val_loss: 0.0895 - val_accuracy: 0.9674\n",
            "Epoch 13/20\n",
            "211/211 [==============================] - 18s 84ms/step - loss: 0.1864 - accuracy: 0.9427 - val_loss: 0.1235 - val_accuracy: 0.9629\n",
            "Epoch 14/20\n",
            "211/211 [==============================] - 18s 84ms/step - loss: 0.1708 - accuracy: 0.9461 - val_loss: 0.1037 - val_accuracy: 0.9661\n",
            "Epoch 15/20\n",
            "211/211 [==============================] - 18s 85ms/step - loss: 0.1860 - accuracy: 0.9463 - val_loss: 0.0845 - val_accuracy: 0.9698\n",
            "Epoch 16/20\n",
            "211/211 [==============================] - 18s 84ms/step - loss: 0.1723 - accuracy: 0.9495 - val_loss: 0.0795 - val_accuracy: 0.9694\n",
            "Epoch 17/20\n",
            "211/211 [==============================] - 18s 85ms/step - loss: 0.1893 - accuracy: 0.9380 - val_loss: 0.0794 - val_accuracy: 0.9664\n",
            "Epoch 18/20\n",
            "211/211 [==============================] - 18s 84ms/step - loss: 0.1577 - accuracy: 0.9487 - val_loss: 0.0780 - val_accuracy: 0.9701\n",
            "Epoch 19/20\n",
            "211/211 [==============================] - 18s 85ms/step - loss: 0.1523 - accuracy: 0.9509 - val_loss: 0.0670 - val_accuracy: 0.9700\n",
            "Epoch 20/20\n",
            "211/211 [==============================] - 18s 84ms/step - loss: 0.1358 - accuracy: 0.9507 - val_loss: 0.0682 - val_accuracy: 0.9709\n"
          ]
        }
      ],
      "source": [
        "epochs = 20\n",
        "history = model.fit(\n",
        "  train_ds,\n",
        "  validation_data=val_ds,\n",
        "  epochs=epochs\n",
        ")"
      ]
    },
    {
      "cell_type": "markdown",
      "metadata": {
        "id": "w3679V8OShSE"
      },
      "source": [
        "### Visualizing training results"
      ]
    },
    {
      "cell_type": "code",
      "execution_count": null,
      "metadata": {
        "id": "R1xkgk5nGubz",
        "colab": {
          "base_uri": "https://localhost:8080/",
          "height": 622
        },
        "outputId": "991ce4dc-b66e-4918-f69a-1111cda0271b"
      },
      "outputs": [
        {
          "output_type": "display_data",
          "data": {
            "text/plain": [
              "<Figure size 700x700 with 2 Axes>"
            ],
            "image/png": "[encoded data removed]"
          },
          "metadata": {}
        }
      ],
      "source": [
        "acc = history.history['accuracy']\n",
        "val_acc = history.history['val_accuracy']\n",
        "\n",
        "loss = history.history['loss']\n",
        "val_loss = history.history['val_loss']\n",
        "\n",
        "epochs_range = range(epochs)\n",
        "\n",
        "plt.figure(figsize=(7,7))\n",
        "plt.subplot(1, 2, 1)\n",
        "plt.plot(epochs_range, acc, label='Training Accuracy')\n",
        "plt.plot(epochs_range, val_acc, label='Validation Accuracy')\n",
        "plt.legend(loc='lower right')\n",
        "plt.title('Training and Validation Accuracy')\n",
        "\n",
        "plt.subplot(1, 2, 2)\n",
        "plt.plot(epochs_range, loss, label='Training Loss')\n",
        "plt.plot(epochs_range, val_loss, label='Validation Loss')\n",
        "plt.legend(loc='upper right')\n",
        "plt.title('Training and Validation Loss')\n",
        "plt.show()"
      ]
    },
    {
      "cell_type": "markdown",
      "metadata": {
        "id": "JvPphJYuSZhK"
      },
      "source": [
        "#### The model seems to be performing well with the training and validation data for the given number of epochs. As can be inferred from the chart above, the validation accuracy gradually increases as the number of epochs increase. This suggests the model is learning well with Backpropogation. Similarly, as can be inferred from the right chart, there is a knee bend around 2nd/3rd epoch suggesting a slow decrease in the training & validation loss."
      ]
    },
    {
      "cell_type": "markdown",
      "metadata": {
        "id": "3vRTPbJEn-pX"
      },
      "source": [
        "### Write your findings here"
      ]
    },
    {
      "cell_type": "code",
      "execution_count": null,
      "metadata": {
        "id": "22hljAl6GykA"
      },
      "outputs": [],
      "source": [
        "# Todo, after you have analysed the model fit history for presence of underfit or overfit, choose an appropriate data augumentation strategy.\n",
        "# Your code goes here"
      ]
    },
    {
      "cell_type": "code",
      "execution_count": null,
      "metadata": {
        "id": "XEjPWh8GG0C7"
      },
      "outputs": [],
      "source": [
        "# Todo, visualize how your augmentation strategy works for one instance of training image.\n",
        "# Your code goes here"
      ]
    },
    {
      "cell_type": "markdown",
      "metadata": {
        "id": "XhKDHlUdTuSX"
      },
      "source": [
        "### Todo:\n",
        "### Create the model, compile and train the model\n"
      ]
    },
    {
      "cell_type": "code",
      "execution_count": null,
      "metadata": {
        "id": "W3V4l-O9G3dM"
      },
      "outputs": [],
      "source": [
        "## You can use Dropout layer if there is an evidence of overfitting in your findings\n",
        "\n",
        "## Your code goes here\n",
        "\n"
      ]
    },
    {
      "cell_type": "markdown",
      "metadata": {
        "id": "FfUWFp96UIAN"
      },
      "source": [
        "### Compiling the model"
      ]
    },
    {
      "cell_type": "code",
      "execution_count": null,
      "metadata": {
        "id": "_-7yTm8IG8zR"
      },
      "outputs": [],
      "source": [
        "## Your code goes here"
      ]
    },
    {
      "cell_type": "markdown",
      "metadata": {
        "id": "kC-D_RWOURp6"
      },
      "source": [
        "### Training the model"
      ]
    },
    {
      "cell_type": "code",
      "execution_count": null,
      "metadata": {
        "id": "UcPfkUASHBf9"
      },
      "outputs": [],
      "source": [
        "## Your code goes here, note: train your model for 20 epochs\n",
        "#history = ## your training code"
      ]
    },
    {
      "cell_type": "markdown",
      "metadata": {
        "id": "IhNOKtSyUYzC"
      },
      "source": [
        "### Visualizing the results"
      ]
    },
    {
      "cell_type": "markdown",
      "metadata": {
        "id": "7TdDi4u-VTkW"
      },
      "source": [
        "#### **Todo:** Find the distribution of classes in the training dataset.\n",
        "#### **Context:** Many times real life datasets can have class imbalance, one class can have proportionately higher number of samples compared to the others. Class imbalance can have a detrimental effect on the final model quality. Hence as a sanity check it becomes important to check what is the distribution of classes in the data."
      ]
    },
    {
      "cell_type": "code",
      "execution_count": null,
      "metadata": {
        "id": "HAhwYgtTQRzq",
        "colab": {
          "base_uri": "https://localhost:8080/"
        },
        "outputId": "f3b4816d-8671-4f42-bde5-6a3bcc8d1a48"
      },
      "outputs": [
        {
          "output_type": "stream",
          "name": "stdout",
          "text": [
            "actinic keratosis:614 images\n",
            "basal cell carcinoma:876 images\n",
            "dermatofibroma:595 images\n",
            "melanoma:938 images\n",
            "nevus:857 images\n",
            "pigmented benign keratosis:962 images\n",
            "seborrheic keratosis:577 images\n",
            "squamous cell carcinoma:681 images\n",
            "vascular lesion:639 images\n"
          ]
        }
      ],
      "source": [
        "## Your code goes here.\n",
        "import collections\n",
        "\n",
        "# Making use of the counter in collections that helps in counting the number of repetitions of an object in a list and store it in a dictionary\n",
        "Imbalancecounter = collections.Counter()\n",
        "for images,labels in train_ds:\n",
        "  Imbalancecounter.update(labels.numpy())\n",
        "\n",
        "for index, name in enumerate(class_names):\n",
        "  print(f\"{name}:{Imbalancecounter[index]} images\")\n"
      ]
    },
    {
      "cell_type": "markdown",
      "metadata": {
        "id": "4csQL1dvO0b2"
      },
      "source": [
        "\n",
        "#### **Todo:** Write your findings here:\n",
        "#### - Which class has the least number of samples?\n",
        "#### - Ans: seborrheic keratosis has the least number of samples\n",
        "#### - Which classes dominate the data in terms proportionate number of samples?\n",
        "#### - Ans: pigmented benign keratosis dominates the data in terms of proportion of samples\n"
      ]
    },
    {
      "cell_type": "markdown",
      "metadata": {
        "id": "Hb-stKyHPf8v"
      },
      "source": [
        "#### **Todo:** Rectify the class imbalance\n",
        "#### **Context:** You can use a python package known as `Augmentor` (https://augmentor.readthedocs.io/en/master/) to add more samples across all classes so that none of the classes have very few samples."
      ]
    },
    {
      "cell_type": "code",
      "execution_count": 18,
      "metadata": {
        "id": "ItAg4rU-SzJh",
        "colab": {
          "base_uri": "https://localhost:8080/"
        },
        "outputId": "2a12cf53-4dc3-4376-a423-f716e00b8463"
      },
      "outputs": [
        {
          "output_type": "stream",
          "name": "stdout",
          "text": [
            "Collecting Augmentor\n",
            "  Downloading Augmentor-0.2.12-py2.py3-none-any.whl (38 kB)\n",
            "Requirement already satisfied: Pillow>=5.2.0 in /usr/local/lib/python3.10/dist-packages (from Augmentor) (9.4.0)\n",
            "Requirement already satisfied: tqdm>=4.9.0 in /usr/local/lib/python3.10/dist-packages (from Augmentor) (4.66.4)\n",
            "Requirement already satisfied: numpy>=1.11.0 in /usr/local/lib/python3.10/dist-packages (from Augmentor) (1.25.2)\n",
            "Installing collected packages: Augmentor\n",
            "Successfully installed Augmentor-0.2.12\n"
          ]
        }
      ],
      "source": [
        "!pip install Augmentor"
      ]
    },
    {
      "cell_type": "markdown",
      "metadata": {
        "id": "BZKzTe3zWL4O"
      },
      "source": [
        "To use `Augmentor`, the following general procedure is followed:\n",
        "\n",
        "1. Instantiate a `Pipeline` object pointing to a directory containing your initial image data set.<br>\n",
        "2. Define a number of operations to perform on this data set using your `Pipeline` object.<br>\n",
        "3. Execute these operations by calling the `Pipeline’s` `sample()` method.\n"
      ]
    },
    {
      "cell_type": "code",
      "execution_count": 19,
      "metadata": {
        "colab": {
          "base_uri": "https://localhost:8080/"
        },
        "id": "9Egt9EHjR-Dd",
        "collapsed": true,
        "outputId": "ed13ce08-64c8-434a-f32e-5ae868c25dfe"
      },
      "outputs": [
        {
          "output_type": "stream",
          "name": "stdout",
          "text": [
            "Initialised with 114 image(s) found.\n",
            "Output directory set to /content/drive/MyDrive/CNN_assignment_Extracted/Skin cancer ISIC The International Skin Imaging Collaboration/Train/actinic keratosis/output."
          ]
        },
        {
          "output_type": "stream",
          "name": "stderr",
          "text": [
            "Processing <PIL.Image.Image image mode=RGB size=600x450 at 0x7A765FC4B220>: 100%|██████████| 500/500 [00:22<00:00, 21.84 Samples/s]\n"
          ]
        },
        {
          "output_type": "stream",
          "name": "stdout",
          "text": [
            "Initialised with 376 image(s) found.\n",
            "Output directory set to /content/drive/MyDrive/CNN_assignment_Extracted/Skin cancer ISIC The International Skin Imaging Collaboration/Train/basal cell carcinoma/output."
          ]
        },
        {
          "output_type": "stream",
          "name": "stderr",
          "text": [
            "Processing <PIL.JpegImagePlugin.JpegImageFile image mode=RGB size=600x450 at 0x7A765FC63970>: 100%|██████████| 500/500 [00:23<00:00, 21.15 Samples/s]\n"
          ]
        },
        {
          "output_type": "stream",
          "name": "stdout",
          "text": [
            "Initialised with 95 image(s) found.\n",
            "Output directory set to /content/drive/MyDrive/CNN_assignment_Extracted/Skin cancer ISIC The International Skin Imaging Collaboration/Train/dermatofibroma/output."
          ]
        },
        {
          "output_type": "stream",
          "name": "stderr",
          "text": [
            "Processing <PIL.Image.Image image mode=RGB size=600x450 at 0x7A765FCA7670>: 100%|██████████| 500/500 [00:27<00:00, 18.15 Samples/s]\n"
          ]
        },
        {
          "output_type": "stream",
          "name": "stdout",
          "text": [
            "Initialised with 438 image(s) found.\n",
            "Output directory set to /content/drive/MyDrive/CNN_assignment_Extracted/Skin cancer ISIC The International Skin Imaging Collaboration/Train/melanoma/output."
          ]
        },
        {
          "output_type": "stream",
          "name": "stderr",
          "text": [
            "Processing <PIL.JpegImagePlugin.JpegImageFile image mode=RGB size=1024x768 at 0x7A765FC2FA90>: 100%|██████████| 500/500 [01:28<00:00,  5.62 Samples/s]\n"
          ]
        },
        {
          "output_type": "stream",
          "name": "stdout",
          "text": [
            "Initialised with 357 image(s) found.\n",
            "Output directory set to /content/drive/MyDrive/CNN_assignment_Extracted/Skin cancer ISIC The International Skin Imaging Collaboration/Train/nevus/output."
          ]
        },
        {
          "output_type": "stream",
          "name": "stderr",
          "text": [
            "Processing <PIL.JpegImagePlugin.JpegImageFile image mode=RGB size=600x450 at 0x7A765FCF7760>: 100%|██████████| 500/500 [01:33<00:00,  5.36 Samples/s]\n"
          ]
        },
        {
          "output_type": "stream",
          "name": "stdout",
          "text": [
            "Initialised with 462 image(s) found.\n",
            "Output directory set to /content/drive/MyDrive/CNN_assignment_Extracted/Skin cancer ISIC The International Skin Imaging Collaboration/Train/pigmented benign keratosis/output."
          ]
        },
        {
          "output_type": "stream",
          "name": "stderr",
          "text": [
            "Processing <PIL.Image.Image image mode=RGB size=600x450 at 0x7A765F30F9A0>: 100%|██████████| 500/500 [00:25<00:00, 19.69 Samples/s]\n"
          ]
        },
        {
          "output_type": "stream",
          "name": "stdout",
          "text": [
            "Initialised with 77 image(s) found.\n",
            "Output directory set to /content/drive/MyDrive/CNN_assignment_Extracted/Skin cancer ISIC The International Skin Imaging Collaboration/Train/seborrheic keratosis/output."
          ]
        },
        {
          "output_type": "stream",
          "name": "stderr",
          "text": [
            "Processing <PIL.Image.Image image mode=RGB size=1024x768 at 0x7A765FC2CA00>: 100%|██████████| 500/500 [00:49<00:00, 10.13 Samples/s]\n"
          ]
        },
        {
          "output_type": "stream",
          "name": "stdout",
          "text": [
            "Initialised with 181 image(s) found.\n",
            "Output directory set to /content/drive/MyDrive/CNN_assignment_Extracted/Skin cancer ISIC The International Skin Imaging Collaboration/Train/squamous cell carcinoma/output."
          ]
        },
        {
          "output_type": "stream",
          "name": "stderr",
          "text": [
            "Processing <PIL.Image.Image image mode=RGB size=600x450 at 0x7A766CAD9F30>: 100%|██████████| 500/500 [00:22<00:00, 21.90 Samples/s]\n"
          ]
        },
        {
          "output_type": "stream",
          "name": "stdout",
          "text": [
            "Initialised with 139 image(s) found.\n",
            "Output directory set to /content/drive/MyDrive/CNN_assignment_Extracted/Skin cancer ISIC The International Skin Imaging Collaboration/Train/vascular lesion/output."
          ]
        },
        {
          "output_type": "stream",
          "name": "stderr",
          "text": [
            "Processing <PIL.Image.Image image mode=RGB size=600x450 at 0x7A765F30E2F0>: 100%|██████████| 500/500 [00:25<00:00, 19.28 Samples/s]\n"
          ]
        }
      ],
      "source": [
        "path_to_training_dataset=\"/content/drive/MyDrive/CNN_assignment_Extracted/Skin cancer ISIC The International Skin Imaging Collaboration/Train/\"\n",
        "import Augmentor\n",
        "for i in class_names:\n",
        "    p = Augmentor.Pipeline(path_to_training_dataset + i)\n",
        "    p.rotate(probability=0.7, max_left_rotation=10, max_right_rotation=10)\n",
        "    p.sample(500) ## We are adding 500 samples per class to make sure that none of the classes are sparse."
      ]
    },
    {
      "cell_type": "markdown",
      "metadata": {
        "id": "CcBIFZGbWuFa"
      },
      "source": [
        "Augmentor has stored the augmented images in the output sub-directory of each of the sub-directories of skin cancer types.. Lets take a look at total count of augmented images."
      ]
    },
    {
      "cell_type": "code",
      "execution_count": 20,
      "metadata": {
        "colab": {
          "base_uri": "https://localhost:8080/"
        },
        "id": "jxWcMqZhdRWz",
        "outputId": "567d1e15-45d6-4f2b-bfdf-21fd8d918634"
      },
      "outputs": [
        {
          "output_type": "stream",
          "name": "stdout",
          "text": [
            "4500\n"
          ]
        }
      ],
      "source": [
        "image_count_train = len(list(data_dir_train.glob('*/output/*.jpg')))\n",
        "print(image_count_train)"
      ]
    },
    {
      "cell_type": "code",
      "source": [
        "data_dir_train"
      ],
      "metadata": {
        "colab": {
          "base_uri": "https://localhost:8080/"
        },
        "id": "swdnH-Rko3gx",
        "outputId": "78996c57-8987-456e-9125-542642be2f1d"
      },
      "execution_count": 21,
      "outputs": [
        {
          "output_type": "execute_result",
          "data": {
            "text/plain": [
              "PosixPath('/content/drive/MyDrive/CNN_assignment_Extracted/Skin cancer ISIC The International Skin Imaging Collaboration/Train')"
            ]
          },
          "metadata": {},
          "execution_count": 21
        }
      ]
    },
    {
      "cell_type": "markdown",
      "metadata": {
        "id": "IJ5KarKq4kWJ"
      },
      "source": [
        "### Lets see the distribution of augmented data after adding new images to the original training data."
      ]
    },
    {
      "cell_type": "code",
      "execution_count": 22,
      "metadata": {
        "id": "6tODrYIY2nxJ",
        "collapsed": true
      },
      "outputs": [],
      "source": [
        "import glob\n",
        "path_list = [x for x in glob.glob(os.path.join(data_dir_train, '*','output', '*.jpg'))]\n",
        "path_list\n",
        "path_list_new = [x for x in glob.glob(os.path.join(data_dir_train, '*','output', '*.jpg'))]"
      ]
    },
    {
      "cell_type": "code",
      "execution_count": 23,
      "metadata": {
        "id": "nZvVdF7g3E1z",
        "colab": {
          "base_uri": "https://localhost:8080/"
        },
        "collapsed": true,
        "outputId": "eeef052c-1b96-457d-d4d4-f26c5791be3c"
      },
      "outputs": [
        {
          "output_type": "execute_result",
          "data": {
            "text/plain": [
              "['actinic keratosis',\n",
              " 'actinic keratosis',\n",
              " 'actinic keratosis',\n",
              " 'actinic keratosis',\n",
              " 'actinic keratosis',\n",
              " 'actinic keratosis',\n",
              " 'actinic keratosis',\n",
              " 'actinic keratosis',\n",
              " 'actinic keratosis',\n",
              " 'actinic keratosis',\n",
              " 'actinic keratosis',\n",
              " 'actinic keratosis',\n",
              " 'actinic keratosis',\n",
              " 'actinic keratosis',\n",
              " 'actinic keratosis',\n",
              " 'actinic keratosis',\n",
              " 'actinic keratosis',\n",
              " 'actinic keratosis',\n",
              " 'actinic keratosis',\n",
              " 'actinic keratosis',\n",
              " 'actinic keratosis',\n",
              " 'actinic keratosis',\n",
              " 'actinic keratosis',\n",
              " 'actinic keratosis',\n",
              " 'actinic keratosis',\n",
              " 'actinic keratosis',\n",
              " 'actinic keratosis',\n",
              " 'actinic keratosis',\n",
              " 'actinic keratosis',\n",
              " 'actinic keratosis',\n",
              " 'actinic keratosis',\n",
              " 'actinic keratosis',\n",
              " 'actinic keratosis',\n",
              " 'actinic keratosis',\n",
              " 'actinic keratosis',\n",
              " 'actinic keratosis',\n",
              " 'actinic keratosis',\n",
              " 'actinic keratosis',\n",
              " 'actinic keratosis',\n",
              " 'actinic keratosis',\n",
              " 'actinic keratosis',\n",
              " 'actinic keratosis',\n",
              " 'actinic keratosis',\n",
              " 'actinic keratosis',\n",
              " 'actinic keratosis',\n",
              " 'actinic keratosis',\n",
              " 'actinic keratosis',\n",
              " 'actinic keratosis',\n",
              " 'actinic keratosis',\n",
              " 'actinic keratosis',\n",
              " 'actinic keratosis',\n",
              " 'actinic keratosis',\n",
              " 'actinic keratosis',\n",
              " 'actinic keratosis',\n",
              " 'actinic keratosis',\n",
              " 'actinic keratosis',\n",
              " 'actinic keratosis',\n",
              " 'actinic keratosis',\n",
              " 'actinic keratosis',\n",
              " 'actinic keratosis',\n",
              " 'actinic keratosis',\n",
              " 'actinic keratosis',\n",
              " 'actinic keratosis',\n",
              " 'actinic keratosis',\n",
              " 'actinic keratosis',\n",
              " 'actinic keratosis',\n",
              " 'actinic keratosis',\n",
              " 'actinic keratosis',\n",
              " 'actinic keratosis',\n",
              " 'actinic keratosis',\n",
              " 'actinic keratosis',\n",
              " 'actinic keratosis',\n",
              " 'actinic keratosis',\n",
              " 'actinic keratosis',\n",
              " 'actinic keratosis',\n",
              " 'actinic keratosis',\n",
              " 'actinic keratosis',\n",
              " 'actinic keratosis',\n",
              " 'actinic keratosis',\n",
              " 'actinic keratosis',\n",
              " 'actinic keratosis',\n",
              " 'actinic keratosis',\n",
              " 'actinic keratosis',\n",
              " 'actinic keratosis',\n",
              " 'actinic keratosis',\n",
              " 'actinic keratosis',\n",
              " 'actinic keratosis',\n",
              " 'actinic keratosis',\n",
              " 'actinic keratosis',\n",
              " 'actinic keratosis',\n",
              " 'actinic keratosis',\n",
              " 'actinic keratosis',\n",
              " 'actinic keratosis',\n",
              " 'actinic keratosis',\n",
              " 'actinic keratosis',\n",
              " 'actinic keratosis',\n",
              " 'actinic keratosis',\n",
              " 'actinic keratosis',\n",
              " 'actinic keratosis',\n",
              " 'actinic keratosis',\n",
              " 'actinic keratosis',\n",
              " 'actinic keratosis',\n",
              " 'actinic keratosis',\n",
              " 'actinic keratosis',\n",
              " 'actinic keratosis',\n",
              " 'actinic keratosis',\n",
              " 'actinic keratosis',\n",
              " 'actinic keratosis',\n",
              " 'actinic keratosis',\n",
              " 'actinic keratosis',\n",
              " 'actinic keratosis',\n",
              " 'actinic keratosis',\n",
              " 'actinic keratosis',\n",
              " 'actinic keratosis',\n",
              " 'actinic keratosis',\n",
              " 'actinic keratosis',\n",
              " 'actinic keratosis',\n",
              " 'actinic keratosis',\n",
              " 'actinic keratosis',\n",
              " 'actinic keratosis',\n",
              " 'actinic keratosis',\n",
              " 'actinic keratosis',\n",
              " 'actinic keratosis',\n",
              " 'actinic keratosis',\n",
              " 'actinic keratosis',\n",
              " 'actinic keratosis',\n",
              " 'actinic keratosis',\n",
              " 'actinic keratosis',\n",
              " 'actinic keratosis',\n",
              " 'actinic keratosis',\n",
              " 'actinic keratosis',\n",
              " 'actinic keratosis',\n",
              " 'actinic keratosis',\n",
              " 'actinic keratosis',\n",
              " 'actinic keratosis',\n",
              " 'actinic keratosis',\n",
              " 'actinic keratosis',\n",
              " 'actinic keratosis',\n",
              " 'actinic keratosis',\n",
              " 'actinic keratosis',\n",
              " 'actinic keratosis',\n",
              " 'actinic keratosis',\n",
              " 'actinic keratosis',\n",
              " 'actinic keratosis',\n",
              " 'actinic keratosis',\n",
              " 'actinic keratosis',\n",
              " 'actinic keratosis',\n",
              " 'actinic keratosis',\n",
              " 'actinic keratosis',\n",
              " 'actinic keratosis',\n",
              " 'actinic keratosis',\n",
              " 'actinic keratosis',\n",
              " 'actinic keratosis',\n",
              " 'actinic keratosis',\n",
              " 'actinic keratosis',\n",
              " 'actinic keratosis',\n",
              " 'actinic keratosis',\n",
              " 'actinic keratosis',\n",
              " 'actinic keratosis',\n",
              " 'actinic keratosis',\n",
              " 'actinic keratosis',\n",
              " 'actinic keratosis',\n",
              " 'actinic keratosis',\n",
              " 'actinic keratosis',\n",
              " 'actinic keratosis',\n",
              " 'actinic keratosis',\n",
              " 'actinic keratosis',\n",
              " 'actinic keratosis',\n",
              " 'actinic keratosis',\n",
              " 'actinic keratosis',\n",
              " 'actinic keratosis',\n",
              " 'actinic keratosis',\n",
              " 'actinic keratosis',\n",
              " 'actinic keratosis',\n",
              " 'actinic keratosis',\n",
              " 'actinic keratosis',\n",
              " 'actinic keratosis',\n",
              " 'actinic keratosis',\n",
              " 'actinic keratosis',\n",
              " 'actinic keratosis',\n",
              " 'actinic keratosis',\n",
              " 'actinic keratosis',\n",
              " 'actinic keratosis',\n",
              " 'actinic keratosis',\n",
              " 'actinic keratosis',\n",
              " 'actinic keratosis',\n",
              " 'actinic keratosis',\n",
              " 'actinic keratosis',\n",
              " 'actinic keratosis',\n",
              " 'actinic keratosis',\n",
              " 'actinic keratosis',\n",
              " 'actinic keratosis',\n",
              " 'actinic keratosis',\n",
              " 'actinic keratosis',\n",
              " 'actinic keratosis',\n",
              " 'actinic keratosis',\n",
              " 'actinic keratosis',\n",
              " 'actinic keratosis',\n",
              " 'actinic keratosis',\n",
              " 'actinic keratosis',\n",
              " 'actinic keratosis',\n",
              " 'actinic keratosis',\n",
              " 'actinic keratosis',\n",
              " 'actinic keratosis',\n",
              " 'actinic keratosis',\n",
              " 'actinic keratosis',\n",
              " 'actinic keratosis',\n",
              " 'actinic keratosis',\n",
              " 'actinic keratosis',\n",
              " 'actinic keratosis',\n",
              " 'actinic keratosis',\n",
              " 'actinic keratosis',\n",
              " 'actinic keratosis',\n",
              " 'actinic keratosis',\n",
              " 'actinic keratosis',\n",
              " 'actinic keratosis',\n",
              " 'actinic keratosis',\n",
              " 'actinic keratosis',\n",
              " 'actinic keratosis',\n",
              " 'actinic keratosis',\n",
              " 'actinic keratosis',\n",
              " 'actinic keratosis',\n",
              " 'actinic keratosis',\n",
              " 'actinic keratosis',\n",
              " 'actinic keratosis',\n",
              " 'actinic keratosis',\n",
              " 'actinic keratosis',\n",
              " 'actinic keratosis',\n",
              " 'actinic keratosis',\n",
              " 'actinic keratosis',\n",
              " 'actinic keratosis',\n",
              " 'actinic keratosis',\n",
              " 'actinic keratosis',\n",
              " 'actinic keratosis',\n",
              " 'actinic keratosis',\n",
              " 'actinic keratosis',\n",
              " 'actinic keratosis',\n",
              " 'actinic keratosis',\n",
              " 'actinic keratosis',\n",
              " 'actinic keratosis',\n",
              " 'actinic keratosis',\n",
              " 'actinic keratosis',\n",
              " 'actinic keratosis',\n",
              " 'actinic keratosis',\n",
              " 'actinic keratosis',\n",
              " 'actinic keratosis',\n",
              " 'actinic keratosis',\n",
              " 'actinic keratosis',\n",
              " 'actinic keratosis',\n",
              " 'actinic keratosis',\n",
              " 'actinic keratosis',\n",
              " 'actinic keratosis',\n",
              " 'actinic keratosis',\n",
              " 'actinic keratosis',\n",
              " 'actinic keratosis',\n",
              " 'actinic keratosis',\n",
              " 'actinic keratosis',\n",
              " 'actinic keratosis',\n",
              " 'actinic keratosis',\n",
              " 'actinic keratosis',\n",
              " 'actinic keratosis',\n",
              " 'actinic keratosis',\n",
              " 'actinic keratosis',\n",
              " 'actinic keratosis',\n",
              " 'actinic keratosis',\n",
              " 'actinic keratosis',\n",
              " 'actinic keratosis',\n",
              " 'actinic keratosis',\n",
              " 'actinic keratosis',\n",
              " 'actinic keratosis',\n",
              " 'actinic keratosis',\n",
              " 'actinic keratosis',\n",
              " 'actinic keratosis',\n",
              " 'actinic keratosis',\n",
              " 'actinic keratosis',\n",
              " 'actinic keratosis',\n",
              " 'actinic keratosis',\n",
              " 'actinic keratosis',\n",
              " 'actinic keratosis',\n",
              " 'actinic keratosis',\n",
              " 'actinic keratosis',\n",
              " 'actinic keratosis',\n",
              " 'actinic keratosis',\n",
              " 'actinic keratosis',\n",
              " 'actinic keratosis',\n",
              " 'actinic keratosis',\n",
              " 'actinic keratosis',\n",
              " 'actinic keratosis',\n",
              " 'actinic keratosis',\n",
              " 'actinic keratosis',\n",
              " 'actinic keratosis',\n",
              " 'actinic keratosis',\n",
              " 'actinic keratosis',\n",
              " 'actinic keratosis',\n",
              " 'actinic keratosis',\n",
              " 'actinic keratosis',\n",
              " 'actinic keratosis',\n",
              " 'actinic keratosis',\n",
              " 'actinic keratosis',\n",
              " 'actinic keratosis',\n",
              " 'actinic keratosis',\n",
              " 'actinic keratosis',\n",
              " 'actinic keratosis',\n",
              " 'actinic keratosis',\n",
              " 'actinic keratosis',\n",
              " 'actinic keratosis',\n",
              " 'actinic keratosis',\n",
              " 'actinic keratosis',\n",
              " 'actinic keratosis',\n",
              " 'actinic keratosis',\n",
              " 'actinic keratosis',\n",
              " 'actinic keratosis',\n",
              " 'actinic keratosis',\n",
              " 'actinic keratosis',\n",
              " 'actinic keratosis',\n",
              " 'actinic keratosis',\n",
              " 'actinic keratosis',\n",
              " 'actinic keratosis',\n",
              " 'actinic keratosis',\n",
              " 'actinic keratosis',\n",
              " 'actinic keratosis',\n",
              " 'actinic keratosis',\n",
              " 'actinic keratosis',\n",
              " 'actinic keratosis',\n",
              " 'actinic keratosis',\n",
              " 'actinic keratosis',\n",
              " 'actinic keratosis',\n",
              " 'actinic keratosis',\n",
              " 'actinic keratosis',\n",
              " 'actinic keratosis',\n",
              " 'actinic keratosis',\n",
              " 'actinic keratosis',\n",
              " 'actinic keratosis',\n",
              " 'actinic keratosis',\n",
              " 'actinic keratosis',\n",
              " 'actinic keratosis',\n",
              " 'actinic keratosis',\n",
              " 'actinic keratosis',\n",
              " 'actinic keratosis',\n",
              " 'actinic keratosis',\n",
              " 'actinic keratosis',\n",
              " 'actinic keratosis',\n",
              " 'actinic keratosis',\n",
              " 'actinic keratosis',\n",
              " 'actinic keratosis',\n",
              " 'actinic keratosis',\n",
              " 'actinic keratosis',\n",
              " 'actinic keratosis',\n",
              " 'actinic keratosis',\n",
              " 'actinic keratosis',\n",
              " 'actinic keratosis',\n",
              " 'actinic keratosis',\n",
              " 'actinic keratosis',\n",
              " 'actinic keratosis',\n",
              " 'actinic keratosis',\n",
              " 'actinic keratosis',\n",
              " 'actinic keratosis',\n",
              " 'actinic keratosis',\n",
              " 'actinic keratosis',\n",
              " 'actinic keratosis',\n",
              " 'actinic keratosis',\n",
              " 'actinic keratosis',\n",
              " 'actinic keratosis',\n",
              " 'actinic keratosis',\n",
              " 'actinic keratosis',\n",
              " 'actinic keratosis',\n",
              " 'actinic keratosis',\n",
              " 'actinic keratosis',\n",
              " 'actinic keratosis',\n",
              " 'actinic keratosis',\n",
              " 'actinic keratosis',\n",
              " 'actinic keratosis',\n",
              " 'actinic keratosis',\n",
              " 'actinic keratosis',\n",
              " 'actinic keratosis',\n",
              " 'actinic keratosis',\n",
              " 'actinic keratosis',\n",
              " 'actinic keratosis',\n",
              " 'actinic keratosis',\n",
              " 'actinic keratosis',\n",
              " 'actinic keratosis',\n",
              " 'actinic keratosis',\n",
              " 'actinic keratosis',\n",
              " 'actinic keratosis',\n",
              " 'actinic keratosis',\n",
              " 'actinic keratosis',\n",
              " 'actinic keratosis',\n",
              " 'actinic keratosis',\n",
              " 'actinic keratosis',\n",
              " 'actinic keratosis',\n",
              " 'actinic keratosis',\n",
              " 'actinic keratosis',\n",
              " 'actinic keratosis',\n",
              " 'actinic keratosis',\n",
              " 'actinic keratosis',\n",
              " 'actinic keratosis',\n",
              " 'actinic keratosis',\n",
              " 'actinic keratosis',\n",
              " 'actinic keratosis',\n",
              " 'actinic keratosis',\n",
              " 'actinic keratosis',\n",
              " 'actinic keratosis',\n",
              " 'actinic keratosis',\n",
              " 'actinic keratosis',\n",
              " 'actinic keratosis',\n",
              " 'actinic keratosis',\n",
              " 'actinic keratosis',\n",
              " 'actinic keratosis',\n",
              " 'actinic keratosis',\n",
              " 'actinic keratosis',\n",
              " 'actinic keratosis',\n",
              " 'actinic keratosis',\n",
              " 'actinic keratosis',\n",
              " 'actinic keratosis',\n",
              " 'actinic keratosis',\n",
              " 'actinic keratosis',\n",
              " 'actinic keratosis',\n",
              " 'actinic keratosis',\n",
              " 'actinic keratosis',\n",
              " 'actinic keratosis',\n",
              " 'actinic keratosis',\n",
              " 'actinic keratosis',\n",
              " 'actinic keratosis',\n",
              " 'actinic keratosis',\n",
              " 'actinic keratosis',\n",
              " 'actinic keratosis',\n",
              " 'actinic keratosis',\n",
              " 'actinic keratosis',\n",
              " 'actinic keratosis',\n",
              " 'actinic keratosis',\n",
              " 'actinic keratosis',\n",
              " 'actinic keratosis',\n",
              " 'actinic keratosis',\n",
              " 'actinic keratosis',\n",
              " 'actinic keratosis',\n",
              " 'actinic keratosis',\n",
              " 'actinic keratosis',\n",
              " 'actinic keratosis',\n",
              " 'actinic keratosis',\n",
              " 'actinic keratosis',\n",
              " 'actinic keratosis',\n",
              " 'actinic keratosis',\n",
              " 'actinic keratosis',\n",
              " 'actinic keratosis',\n",
              " 'actinic keratosis',\n",
              " 'actinic keratosis',\n",
              " 'actinic keratosis',\n",
              " 'actinic keratosis',\n",
              " 'actinic keratosis',\n",
              " 'actinic keratosis',\n",
              " 'actinic keratosis',\n",
              " 'actinic keratosis',\n",
              " 'actinic keratosis',\n",
              " 'actinic keratosis',\n",
              " 'actinic keratosis',\n",
              " 'actinic keratosis',\n",
              " 'actinic keratosis',\n",
              " 'actinic keratosis',\n",
              " 'actinic keratosis',\n",
              " 'actinic keratosis',\n",
              " 'actinic keratosis',\n",
              " 'actinic keratosis',\n",
              " 'actinic keratosis',\n",
              " 'actinic keratosis',\n",
              " 'actinic keratosis',\n",
              " 'actinic keratosis',\n",
              " 'actinic keratosis',\n",
              " 'actinic keratosis',\n",
              " 'actinic keratosis',\n",
              " 'actinic keratosis',\n",
              " 'actinic keratosis',\n",
              " 'actinic keratosis',\n",
              " 'actinic keratosis',\n",
              " 'actinic keratosis',\n",
              " 'actinic keratosis',\n",
              " 'actinic keratosis',\n",
              " 'actinic keratosis',\n",
              " 'actinic keratosis',\n",
              " 'actinic keratosis',\n",
              " 'actinic keratosis',\n",
              " 'actinic keratosis',\n",
              " 'actinic keratosis',\n",
              " 'actinic keratosis',\n",
              " 'actinic keratosis',\n",
              " 'actinic keratosis',\n",
              " 'actinic keratosis',\n",
              " 'actinic keratosis',\n",
              " 'actinic keratosis',\n",
              " 'actinic keratosis',\n",
              " 'actinic keratosis',\n",
              " 'actinic keratosis',\n",
              " 'actinic keratosis',\n",
              " 'actinic keratosis',\n",
              " 'actinic keratosis',\n",
              " 'actinic keratosis',\n",
              " 'actinic keratosis',\n",
              " 'actinic keratosis',\n",
              " 'actinic keratosis',\n",
              " 'actinic keratosis',\n",
              " 'actinic keratosis',\n",
              " 'basal cell carcinoma',\n",
              " 'basal cell carcinoma',\n",
              " 'basal cell carcinoma',\n",
              " 'basal cell carcinoma',\n",
              " 'basal cell carcinoma',\n",
              " 'basal cell carcinoma',\n",
              " 'basal cell carcinoma',\n",
              " 'basal cell carcinoma',\n",
              " 'basal cell carcinoma',\n",
              " 'basal cell carcinoma',\n",
              " 'basal cell carcinoma',\n",
              " 'basal cell carcinoma',\n",
              " 'basal cell carcinoma',\n",
              " 'basal cell carcinoma',\n",
              " 'basal cell carcinoma',\n",
              " 'basal cell carcinoma',\n",
              " 'basal cell carcinoma',\n",
              " 'basal cell carcinoma',\n",
              " 'basal cell carcinoma',\n",
              " 'basal cell carcinoma',\n",
              " 'basal cell carcinoma',\n",
              " 'basal cell carcinoma',\n",
              " 'basal cell carcinoma',\n",
              " 'basal cell carcinoma',\n",
              " 'basal cell carcinoma',\n",
              " 'basal cell carcinoma',\n",
              " 'basal cell carcinoma',\n",
              " 'basal cell carcinoma',\n",
              " 'basal cell carcinoma',\n",
              " 'basal cell carcinoma',\n",
              " 'basal cell carcinoma',\n",
              " 'basal cell carcinoma',\n",
              " 'basal cell carcinoma',\n",
              " 'basal cell carcinoma',\n",
              " 'basal cell carcinoma',\n",
              " 'basal cell carcinoma',\n",
              " 'basal cell carcinoma',\n",
              " 'basal cell carcinoma',\n",
              " 'basal cell carcinoma',\n",
              " 'basal cell carcinoma',\n",
              " 'basal cell carcinoma',\n",
              " 'basal cell carcinoma',\n",
              " 'basal cell carcinoma',\n",
              " 'basal cell carcinoma',\n",
              " 'basal cell carcinoma',\n",
              " 'basal cell carcinoma',\n",
              " 'basal cell carcinoma',\n",
              " 'basal cell carcinoma',\n",
              " 'basal cell carcinoma',\n",
              " 'basal cell carcinoma',\n",
              " 'basal cell carcinoma',\n",
              " 'basal cell carcinoma',\n",
              " 'basal cell carcinoma',\n",
              " 'basal cell carcinoma',\n",
              " 'basal cell carcinoma',\n",
              " 'basal cell carcinoma',\n",
              " 'basal cell carcinoma',\n",
              " 'basal cell carcinoma',\n",
              " 'basal cell carcinoma',\n",
              " 'basal cell carcinoma',\n",
              " 'basal cell carcinoma',\n",
              " 'basal cell carcinoma',\n",
              " 'basal cell carcinoma',\n",
              " 'basal cell carcinoma',\n",
              " 'basal cell carcinoma',\n",
              " 'basal cell carcinoma',\n",
              " 'basal cell carcinoma',\n",
              " 'basal cell carcinoma',\n",
              " 'basal cell carcinoma',\n",
              " 'basal cell carcinoma',\n",
              " 'basal cell carcinoma',\n",
              " 'basal cell carcinoma',\n",
              " 'basal cell carcinoma',\n",
              " 'basal cell carcinoma',\n",
              " 'basal cell carcinoma',\n",
              " 'basal cell carcinoma',\n",
              " 'basal cell carcinoma',\n",
              " 'basal cell carcinoma',\n",
              " 'basal cell carcinoma',\n",
              " 'basal cell carcinoma',\n",
              " 'basal cell carcinoma',\n",
              " 'basal cell carcinoma',\n",
              " 'basal cell carcinoma',\n",
              " 'basal cell carcinoma',\n",
              " 'basal cell carcinoma',\n",
              " 'basal cell carcinoma',\n",
              " 'basal cell carcinoma',\n",
              " 'basal cell carcinoma',\n",
              " 'basal cell carcinoma',\n",
              " 'basal cell carcinoma',\n",
              " 'basal cell carcinoma',\n",
              " 'basal cell carcinoma',\n",
              " 'basal cell carcinoma',\n",
              " 'basal cell carcinoma',\n",
              " 'basal cell carcinoma',\n",
              " 'basal cell carcinoma',\n",
              " 'basal cell carcinoma',\n",
              " 'basal cell carcinoma',\n",
              " 'basal cell carcinoma',\n",
              " 'basal cell carcinoma',\n",
              " 'basal cell carcinoma',\n",
              " 'basal cell carcinoma',\n",
              " 'basal cell carcinoma',\n",
              " 'basal cell carcinoma',\n",
              " 'basal cell carcinoma',\n",
              " 'basal cell carcinoma',\n",
              " 'basal cell carcinoma',\n",
              " 'basal cell carcinoma',\n",
              " 'basal cell carcinoma',\n",
              " 'basal cell carcinoma',\n",
              " 'basal cell carcinoma',\n",
              " 'basal cell carcinoma',\n",
              " 'basal cell carcinoma',\n",
              " 'basal cell carcinoma',\n",
              " 'basal cell carcinoma',\n",
              " 'basal cell carcinoma',\n",
              " 'basal cell carcinoma',\n",
              " 'basal cell carcinoma',\n",
              " 'basal cell carcinoma',\n",
              " 'basal cell carcinoma',\n",
              " 'basal cell carcinoma',\n",
              " 'basal cell carcinoma',\n",
              " 'basal cell carcinoma',\n",
              " 'basal cell carcinoma',\n",
              " 'basal cell carcinoma',\n",
              " 'basal cell carcinoma',\n",
              " 'basal cell carcinoma',\n",
              " 'basal cell carcinoma',\n",
              " 'basal cell carcinoma',\n",
              " 'basal cell carcinoma',\n",
              " 'basal cell carcinoma',\n",
              " 'basal cell carcinoma',\n",
              " 'basal cell carcinoma',\n",
              " 'basal cell carcinoma',\n",
              " 'basal cell carcinoma',\n",
              " 'basal cell carcinoma',\n",
              " 'basal cell carcinoma',\n",
              " 'basal cell carcinoma',\n",
              " 'basal cell carcinoma',\n",
              " 'basal cell carcinoma',\n",
              " 'basal cell carcinoma',\n",
              " 'basal cell carcinoma',\n",
              " 'basal cell carcinoma',\n",
              " 'basal cell carcinoma',\n",
              " 'basal cell carcinoma',\n",
              " 'basal cell carcinoma',\n",
              " 'basal cell carcinoma',\n",
              " 'basal cell carcinoma',\n",
              " 'basal cell carcinoma',\n",
              " 'basal cell carcinoma',\n",
              " 'basal cell carcinoma',\n",
              " 'basal cell carcinoma',\n",
              " 'basal cell carcinoma',\n",
              " 'basal cell carcinoma',\n",
              " 'basal cell carcinoma',\n",
              " 'basal cell carcinoma',\n",
              " 'basal cell carcinoma',\n",
              " 'basal cell carcinoma',\n",
              " 'basal cell carcinoma',\n",
              " 'basal cell carcinoma',\n",
              " 'basal cell carcinoma',\n",
              " 'basal cell carcinoma',\n",
              " 'basal cell carcinoma',\n",
              " 'basal cell carcinoma',\n",
              " 'basal cell carcinoma',\n",
              " 'basal cell carcinoma',\n",
              " 'basal cell carcinoma',\n",
              " 'basal cell carcinoma',\n",
              " 'basal cell carcinoma',\n",
              " 'basal cell carcinoma',\n",
              " 'basal cell carcinoma',\n",
              " 'basal cell carcinoma',\n",
              " 'basal cell carcinoma',\n",
              " 'basal cell carcinoma',\n",
              " 'basal cell carcinoma',\n",
              " 'basal cell carcinoma',\n",
              " 'basal cell carcinoma',\n",
              " 'basal cell carcinoma',\n",
              " 'basal cell carcinoma',\n",
              " 'basal cell carcinoma',\n",
              " 'basal cell carcinoma',\n",
              " 'basal cell carcinoma',\n",
              " 'basal cell carcinoma',\n",
              " 'basal cell carcinoma',\n",
              " 'basal cell carcinoma',\n",
              " 'basal cell carcinoma',\n",
              " 'basal cell carcinoma',\n",
              " 'basal cell carcinoma',\n",
              " 'basal cell carcinoma',\n",
              " 'basal cell carcinoma',\n",
              " 'basal cell carcinoma',\n",
              " 'basal cell carcinoma',\n",
              " 'basal cell carcinoma',\n",
              " 'basal cell carcinoma',\n",
              " 'basal cell carcinoma',\n",
              " 'basal cell carcinoma',\n",
              " 'basal cell carcinoma',\n",
              " 'basal cell carcinoma',\n",
              " 'basal cell carcinoma',\n",
              " 'basal cell carcinoma',\n",
              " 'basal cell carcinoma',\n",
              " 'basal cell carcinoma',\n",
              " 'basal cell carcinoma',\n",
              " 'basal cell carcinoma',\n",
              " 'basal cell carcinoma',\n",
              " 'basal cell carcinoma',\n",
              " 'basal cell carcinoma',\n",
              " 'basal cell carcinoma',\n",
              " 'basal cell carcinoma',\n",
              " 'basal cell carcinoma',\n",
              " 'basal cell carcinoma',\n",
              " 'basal cell carcinoma',\n",
              " 'basal cell carcinoma',\n",
              " 'basal cell carcinoma',\n",
              " 'basal cell carcinoma',\n",
              " 'basal cell carcinoma',\n",
              " 'basal cell carcinoma',\n",
              " 'basal cell carcinoma',\n",
              " 'basal cell carcinoma',\n",
              " 'basal cell carcinoma',\n",
              " 'basal cell carcinoma',\n",
              " 'basal cell carcinoma',\n",
              " 'basal cell carcinoma',\n",
              " 'basal cell carcinoma',\n",
              " 'basal cell carcinoma',\n",
              " 'basal cell carcinoma',\n",
              " 'basal cell carcinoma',\n",
              " 'basal cell carcinoma',\n",
              " 'basal cell carcinoma',\n",
              " 'basal cell carcinoma',\n",
              " 'basal cell carcinoma',\n",
              " 'basal cell carcinoma',\n",
              " 'basal cell carcinoma',\n",
              " 'basal cell carcinoma',\n",
              " 'basal cell carcinoma',\n",
              " 'basal cell carcinoma',\n",
              " 'basal cell carcinoma',\n",
              " 'basal cell carcinoma',\n",
              " 'basal cell carcinoma',\n",
              " 'basal cell carcinoma',\n",
              " 'basal cell carcinoma',\n",
              " 'basal cell carcinoma',\n",
              " 'basal cell carcinoma',\n",
              " 'basal cell carcinoma',\n",
              " 'basal cell carcinoma',\n",
              " 'basal cell carcinoma',\n",
              " 'basal cell carcinoma',\n",
              " 'basal cell carcinoma',\n",
              " 'basal cell carcinoma',\n",
              " 'basal cell carcinoma',\n",
              " 'basal cell carcinoma',\n",
              " 'basal cell carcinoma',\n",
              " 'basal cell carcinoma',\n",
              " 'basal cell carcinoma',\n",
              " 'basal cell carcinoma',\n",
              " 'basal cell carcinoma',\n",
              " 'basal cell carcinoma',\n",
              " 'basal cell carcinoma',\n",
              " 'basal cell carcinoma',\n",
              " 'basal cell carcinoma',\n",
              " 'basal cell carcinoma',\n",
              " 'basal cell carcinoma',\n",
              " 'basal cell carcinoma',\n",
              " 'basal cell carcinoma',\n",
              " 'basal cell carcinoma',\n",
              " 'basal cell carcinoma',\n",
              " 'basal cell carcinoma',\n",
              " 'basal cell carcinoma',\n",
              " 'basal cell carcinoma',\n",
              " 'basal cell carcinoma',\n",
              " 'basal cell carcinoma',\n",
              " 'basal cell carcinoma',\n",
              " 'basal cell carcinoma',\n",
              " 'basal cell carcinoma',\n",
              " 'basal cell carcinoma',\n",
              " 'basal cell carcinoma',\n",
              " 'basal cell carcinoma',\n",
              " 'basal cell carcinoma',\n",
              " 'basal cell carcinoma',\n",
              " 'basal cell carcinoma',\n",
              " 'basal cell carcinoma',\n",
              " 'basal cell carcinoma',\n",
              " 'basal cell carcinoma',\n",
              " 'basal cell carcinoma',\n",
              " 'basal cell carcinoma',\n",
              " 'basal cell carcinoma',\n",
              " 'basal cell carcinoma',\n",
              " 'basal cell carcinoma',\n",
              " 'basal cell carcinoma',\n",
              " 'basal cell carcinoma',\n",
              " 'basal cell carcinoma',\n",
              " 'basal cell carcinoma',\n",
              " 'basal cell carcinoma',\n",
              " 'basal cell carcinoma',\n",
              " 'basal cell carcinoma',\n",
              " 'basal cell carcinoma',\n",
              " 'basal cell carcinoma',\n",
              " 'basal cell carcinoma',\n",
              " 'basal cell carcinoma',\n",
              " 'basal cell carcinoma',\n",
              " 'basal cell carcinoma',\n",
              " 'basal cell carcinoma',\n",
              " 'basal cell carcinoma',\n",
              " 'basal cell carcinoma',\n",
              " 'basal cell carcinoma',\n",
              " 'basal cell carcinoma',\n",
              " 'basal cell carcinoma',\n",
              " 'basal cell carcinoma',\n",
              " 'basal cell carcinoma',\n",
              " 'basal cell carcinoma',\n",
              " 'basal cell carcinoma',\n",
              " 'basal cell carcinoma',\n",
              " 'basal cell carcinoma',\n",
              " 'basal cell carcinoma',\n",
              " 'basal cell carcinoma',\n",
              " 'basal cell carcinoma',\n",
              " 'basal cell carcinoma',\n",
              " 'basal cell carcinoma',\n",
              " 'basal cell carcinoma',\n",
              " 'basal cell carcinoma',\n",
              " 'basal cell carcinoma',\n",
              " 'basal cell carcinoma',\n",
              " 'basal cell carcinoma',\n",
              " 'basal cell carcinoma',\n",
              " 'basal cell carcinoma',\n",
              " 'basal cell carcinoma',\n",
              " 'basal cell carcinoma',\n",
              " 'basal cell carcinoma',\n",
              " 'basal cell carcinoma',\n",
              " 'basal cell carcinoma',\n",
              " 'basal cell carcinoma',\n",
              " 'basal cell carcinoma',\n",
              " 'basal cell carcinoma',\n",
              " 'basal cell carcinoma',\n",
              " 'basal cell carcinoma',\n",
              " 'basal cell carcinoma',\n",
              " 'basal cell carcinoma',\n",
              " 'basal cell carcinoma',\n",
              " 'basal cell carcinoma',\n",
              " 'basal cell carcinoma',\n",
              " 'basal cell carcinoma',\n",
              " 'basal cell carcinoma',\n",
              " 'basal cell carcinoma',\n",
              " 'basal cell carcinoma',\n",
              " 'basal cell carcinoma',\n",
              " 'basal cell carcinoma',\n",
              " 'basal cell carcinoma',\n",
              " 'basal cell carcinoma',\n",
              " 'basal cell carcinoma',\n",
              " 'basal cell carcinoma',\n",
              " 'basal cell carcinoma',\n",
              " 'basal cell carcinoma',\n",
              " 'basal cell carcinoma',\n",
              " 'basal cell carcinoma',\n",
              " 'basal cell carcinoma',\n",
              " 'basal cell carcinoma',\n",
              " 'basal cell carcinoma',\n",
              " 'basal cell carcinoma',\n",
              " 'basal cell carcinoma',\n",
              " 'basal cell carcinoma',\n",
              " 'basal cell carcinoma',\n",
              " 'basal cell carcinoma',\n",
              " 'basal cell carcinoma',\n",
              " 'basal cell carcinoma',\n",
              " 'basal cell carcinoma',\n",
              " 'basal cell carcinoma',\n",
              " 'basal cell carcinoma',\n",
              " 'basal cell carcinoma',\n",
              " 'basal cell carcinoma',\n",
              " 'basal cell carcinoma',\n",
              " 'basal cell carcinoma',\n",
              " 'basal cell carcinoma',\n",
              " 'basal cell carcinoma',\n",
              " 'basal cell carcinoma',\n",
              " 'basal cell carcinoma',\n",
              " 'basal cell carcinoma',\n",
              " 'basal cell carcinoma',\n",
              " 'basal cell carcinoma',\n",
              " 'basal cell carcinoma',\n",
              " 'basal cell carcinoma',\n",
              " 'basal cell carcinoma',\n",
              " 'basal cell carcinoma',\n",
              " 'basal cell carcinoma',\n",
              " 'basal cell carcinoma',\n",
              " 'basal cell carcinoma',\n",
              " 'basal cell carcinoma',\n",
              " 'basal cell carcinoma',\n",
              " 'basal cell carcinoma',\n",
              " 'basal cell carcinoma',\n",
              " 'basal cell carcinoma',\n",
              " 'basal cell carcinoma',\n",
              " 'basal cell carcinoma',\n",
              " 'basal cell carcinoma',\n",
              " 'basal cell carcinoma',\n",
              " 'basal cell carcinoma',\n",
              " 'basal cell carcinoma',\n",
              " 'basal cell carcinoma',\n",
              " 'basal cell carcinoma',\n",
              " 'basal cell carcinoma',\n",
              " 'basal cell carcinoma',\n",
              " 'basal cell carcinoma',\n",
              " 'basal cell carcinoma',\n",
              " 'basal cell carcinoma',\n",
              " 'basal cell carcinoma',\n",
              " 'basal cell carcinoma',\n",
              " 'basal cell carcinoma',\n",
              " 'basal cell carcinoma',\n",
              " 'basal cell carcinoma',\n",
              " 'basal cell carcinoma',\n",
              " 'basal cell carcinoma',\n",
              " 'basal cell carcinoma',\n",
              " 'basal cell carcinoma',\n",
              " 'basal cell carcinoma',\n",
              " 'basal cell carcinoma',\n",
              " 'basal cell carcinoma',\n",
              " 'basal cell carcinoma',\n",
              " 'basal cell carcinoma',\n",
              " 'basal cell carcinoma',\n",
              " 'basal cell carcinoma',\n",
              " 'basal cell carcinoma',\n",
              " 'basal cell carcinoma',\n",
              " 'basal cell carcinoma',\n",
              " 'basal cell carcinoma',\n",
              " 'basal cell carcinoma',\n",
              " 'basal cell carcinoma',\n",
              " 'basal cell carcinoma',\n",
              " 'basal cell carcinoma',\n",
              " 'basal cell carcinoma',\n",
              " 'basal cell carcinoma',\n",
              " 'basal cell carcinoma',\n",
              " 'basal cell carcinoma',\n",
              " 'basal cell carcinoma',\n",
              " 'basal cell carcinoma',\n",
              " 'basal cell carcinoma',\n",
              " 'basal cell carcinoma',\n",
              " 'basal cell carcinoma',\n",
              " 'basal cell carcinoma',\n",
              " 'basal cell carcinoma',\n",
              " 'basal cell carcinoma',\n",
              " 'basal cell carcinoma',\n",
              " 'basal cell carcinoma',\n",
              " 'basal cell carcinoma',\n",
              " 'basal cell carcinoma',\n",
              " 'basal cell carcinoma',\n",
              " 'basal cell carcinoma',\n",
              " 'basal cell carcinoma',\n",
              " 'basal cell carcinoma',\n",
              " 'basal cell carcinoma',\n",
              " 'basal cell carcinoma',\n",
              " 'basal cell carcinoma',\n",
              " 'basal cell carcinoma',\n",
              " 'basal cell carcinoma',\n",
              " 'basal cell carcinoma',\n",
              " 'basal cell carcinoma',\n",
              " 'basal cell carcinoma',\n",
              " 'basal cell carcinoma',\n",
              " 'basal cell carcinoma',\n",
              " 'basal cell carcinoma',\n",
              " 'basal cell carcinoma',\n",
              " 'basal cell carcinoma',\n",
              " 'basal cell carcinoma',\n",
              " 'basal cell carcinoma',\n",
              " 'basal cell carcinoma',\n",
              " 'basal cell carcinoma',\n",
              " 'basal cell carcinoma',\n",
              " 'basal cell carcinoma',\n",
              " 'basal cell carcinoma',\n",
              " 'basal cell carcinoma',\n",
              " 'basal cell carcinoma',\n",
              " 'basal cell carcinoma',\n",
              " 'basal cell carcinoma',\n",
              " 'basal cell carcinoma',\n",
              " 'basal cell carcinoma',\n",
              " 'basal cell carcinoma',\n",
              " 'basal cell carcinoma',\n",
              " 'basal cell carcinoma',\n",
              " 'basal cell carcinoma',\n",
              " 'basal cell carcinoma',\n",
              " 'basal cell carcinoma',\n",
              " 'basal cell carcinoma',\n",
              " 'basal cell carcinoma',\n",
              " 'basal cell carcinoma',\n",
              " 'basal cell carcinoma',\n",
              " 'basal cell carcinoma',\n",
              " 'basal cell carcinoma',\n",
              " 'basal cell carcinoma',\n",
              " 'basal cell carcinoma',\n",
              " 'basal cell carcinoma',\n",
              " 'basal cell carcinoma',\n",
              " 'basal cell carcinoma',\n",
              " 'basal cell carcinoma',\n",
              " 'basal cell carcinoma',\n",
              " 'basal cell carcinoma',\n",
              " 'basal cell carcinoma',\n",
              " 'basal cell carcinoma',\n",
              " 'basal cell carcinoma',\n",
              " 'basal cell carcinoma',\n",
              " 'basal cell carcinoma',\n",
              " 'basal cell carcinoma',\n",
              " 'basal cell carcinoma',\n",
              " ...]"
            ]
          },
          "metadata": {},
          "execution_count": 23
        }
      ],
      "source": [
        "lesion_list_new = [os.path.basename(os.path.dirname(os.path.dirname(y))) for y in glob.glob(os.path.join(data_dir_train, '*','output', '*.jpg'))]\n",
        "lesion_list_new"
      ]
    },
    {
      "cell_type": "code",
      "execution_count": 24,
      "metadata": {
        "id": "okcqVFAA2nxK"
      },
      "outputs": [],
      "source": [
        "dataframe_dict_new = dict(zip(path_list_new, lesion_list_new))"
      ]
    },
    {
      "cell_type": "code",
      "execution_count": 25,
      "metadata": {
        "id": "njzBxTNT2nxK"
      },
      "outputs": [],
      "source": [
        "df2 = pd.DataFrame(list(dataframe_dict_new.items()),columns = ['Path','Label'])\n",
        "#new_df = original_df.append(df2)"
      ]
    },
    {
      "cell_type": "code",
      "execution_count": 26,
      "metadata": {
        "id": "5j45rmxd2nxK",
        "colab": {
          "base_uri": "https://localhost:8080/"
        },
        "collapsed": true,
        "outputId": "80916f97-1f4d-4324-bbda-7d157d3d4f15"
      },
      "outputs": [
        {
          "output_type": "execute_result",
          "data": {
            "text/plain": [
              "Label\n",
              "actinic keratosis             500\n",
              "basal cell carcinoma          500\n",
              "dermatofibroma                500\n",
              "melanoma                      500\n",
              "nevus                         500\n",
              "pigmented benign keratosis    500\n",
              "seborrheic keratosis          500\n",
              "squamous cell carcinoma       500\n",
              "vascular lesion               500\n",
              "Name: count, dtype: int64"
            ]
          },
          "metadata": {},
          "execution_count": 26
        }
      ],
      "source": [
        "#new_df['Label'].value_counts()\n",
        "df2['Label'].value_counts()"
      ]
    },
    {
      "cell_type": "markdown",
      "metadata": {
        "id": "9NirFBvGPmgI"
      },
      "source": [
        "So, now we have added 500 images to all the classes to maintain some class balance. We can add more images as we want to improve training process."
      ]
    },
    {
      "cell_type": "markdown",
      "metadata": {
        "id": "9EnspeMbRWNs"
      },
      "source": [
        "#### **Todo**: Train the model on the data created using Augmentor"
      ]
    },
    {
      "cell_type": "code",
      "execution_count": 27,
      "metadata": {
        "id": "hFcj1XgndRWz"
      },
      "outputs": [],
      "source": [
        "batch_size = 32\n",
        "img_height = 180\n",
        "img_width = 180"
      ]
    },
    {
      "cell_type": "markdown",
      "metadata": {
        "id": "0haOU11Ey8ey"
      },
      "source": [
        "#### **Todo:** Create a training dataset"
      ]
    },
    {
      "cell_type": "code",
      "execution_count": 28,
      "metadata": {
        "id": "H4ZY11judRWz",
        "colab": {
          "base_uri": "https://localhost:8080/"
        },
        "outputId": "b457c51a-b726-4164-fc4d-6251388774b6"
      },
      "outputs": [
        {
          "output_type": "stream",
          "name": "stdout",
          "text": [
            "Found 6739 files belonging to 9 classes.\n"
          ]
        }
      ],
      "source": [
        "data_dir_train=\"/content/drive/MyDrive/CNN_assignment_Extracted/Skin cancer ISIC The International Skin Imaging Collaboration/Train\"\n",
        "train_ds = tf.keras.preprocessing.image_dataset_from_directory(\n",
        "  data_dir_train,\n",
        "  seed=123,\n",
        "  #validation_split = 0.2,\n",
        "  #subset = ## Todo choose the correct parameter value, so that only training data is refered to,\n",
        "  image_size=(img_height, img_width),\n",
        "  batch_size=batch_size)"
      ]
    },
    {
      "cell_type": "markdown",
      "source": [
        "4500 + 2239 = 6739 Files/Images found"
      ],
      "metadata": {
        "id": "TvdROtsvrNLj"
      }
    },
    {
      "cell_type": "markdown",
      "metadata": {
        "id": "mwNJVDuBP5kf"
      },
      "source": [
        "#### **Todo:** Create a validation dataset"
      ]
    },
    {
      "cell_type": "code",
      "execution_count": 29,
      "metadata": {
        "id": "TX191d_3dRW0",
        "colab": {
          "base_uri": "https://localhost:8080/"
        },
        "outputId": "7d5d0ae7-8dc8-47d1-c2ed-c49900947728"
      },
      "outputs": [
        {
          "output_type": "stream",
          "name": "stdout",
          "text": [
            "Found 6739 files belonging to 9 classes.\n",
            "Using 5392 files for training.\n"
          ]
        }
      ],
      "source": [
        "val_ds = tf.keras.preprocessing.image_dataset_from_directory(\n",
        "  data_dir_train,\n",
        "  seed=123,\n",
        "  validation_split = 0.2,\n",
        "  subset = \"training\",\n",
        "  image_size=(img_height, img_width),\n",
        "  batch_size=batch_size)"
      ]
    },
    {
      "cell_type": "markdown",
      "metadata": {
        "id": "JaoWeOEpVjqH"
      },
      "source": [
        "#### **Todo:** Create your model (make sure to include normalization)"
      ]
    },
    {
      "cell_type": "code",
      "execution_count": 30,
      "metadata": {
        "id": "Ch0MuKvFVr7O"
      },
      "outputs": [],
      "source": [
        "## your code goes here\n",
        "model = Sequential(layers.experimental.preprocessing.Rescaling(scale = 1./255))\n",
        "model.add(Conv2D(32, (3, 3), padding='same',\n",
        "                 input_shape=(180,180,3)))\n",
        "model.add(Activation('relu'))\n",
        "model.add(Conv2D(32, (3, 3)))\n",
        "model.add(Activation('relu'))\n",
        "\n",
        "model.add(Flatten())\n",
        "model.add(Dense(128))\n",
        "model.add(Activation('relu'))\n",
        "model.add(Dropout(0.5))\n",
        "model.add(Dense(len(class_names)))\n",
        "model.add(Activation('softmax'))"
      ]
    },
    {
      "cell_type": "markdown",
      "metadata": {
        "id": "Bu5N9LxkVx1B"
      },
      "source": [
        "#### **Todo:** Compile your model (Choose optimizer and loss function appropriately)"
      ]
    },
    {
      "cell_type": "code",
      "execution_count": 31,
      "metadata": {
        "id": "H47GWmLbdRW1"
      },
      "outputs": [],
      "source": [
        "## your code goes here\n",
        "model.compile(optimizer='adam',\n",
        "              loss='sparse_categorical_crossentropy',\n",
        "              metrics=['accuracy'])"
      ]
    },
    {
      "cell_type": "markdown",
      "metadata": {
        "id": "9gS-Y1bJV7uy"
      },
      "source": [
        "#### **Todo:**  Train your model"
      ]
    },
    {
      "cell_type": "code",
      "execution_count": 32,
      "metadata": {
        "id": "fcV6OdI4dRW1",
        "colab": {
          "base_uri": "https://localhost:8080/",
          "height": 446
        },
        "outputId": "6eeb9e15-0b65-4fa4-c1cc-8db38ba848c5"
      },
      "outputs": [
        {
          "output_type": "stream",
          "name": "stdout",
          "text": [
            "Epoch 1/30\n"
          ]
        },
        {
          "output_type": "stream",
          "name": "stderr",
          "text": [
            "/usr/local/lib/python3.10/dist-packages/keras/src/initializers/initializers.py:120: UserWarning: The initializer GlorotUniform is unseeded and being called multiple times, which will return identical values each time (even if the initializer is unseeded). Please update your code to provide a seed to the initializer, or avoid using the same initializer instance more than once.\n",
            "  warnings.warn(\n"
          ]
        },
        {
          "output_type": "error",
          "ename": "KeyboardInterrupt",
          "evalue": "",
          "traceback": [
            "\u001b[0;31m---------------------------------------------------------------------------\u001b[0m",
            "\u001b[0;31mKeyboardInterrupt\u001b[0m                         Traceback (most recent call last)",
            "\u001b[0;32m<ipython-input-32-33e8b296b7d8>\u001b[0m in \u001b[0;36m<cell line: 3>\u001b[0;34m()\u001b[0m\n\u001b[1;32m      1\u001b[0m \u001b[0mepochs\u001b[0m \u001b[0;34m=\u001b[0m \u001b[0;36m30\u001b[0m\u001b[0;34m\u001b[0m\u001b[0;34m\u001b[0m\u001b[0m\n\u001b[1;32m      2\u001b[0m \u001b[0;31m## Your code goes here, use 50 epochs.\u001b[0m\u001b[0;34m\u001b[0m\u001b[0;34m\u001b[0m\u001b[0m\n\u001b[0;32m----> 3\u001b[0;31m history = model.fit(\n\u001b[0m\u001b[1;32m      4\u001b[0m   \u001b[0mtrain_ds\u001b[0m\u001b[0;34m,\u001b[0m\u001b[0;34m\u001b[0m\u001b[0;34m\u001b[0m\u001b[0m\n\u001b[1;32m      5\u001b[0m   \u001b[0mvalidation_data\u001b[0m\u001b[0;34m=\u001b[0m\u001b[0mval_ds\u001b[0m\u001b[0;34m,\u001b[0m\u001b[0;34m\u001b[0m\u001b[0;34m\u001b[0m\u001b[0m\n",
            "\u001b[0;32m/usr/local/lib/python3.10/dist-packages/keras/src/utils/traceback_utils.py\u001b[0m in \u001b[0;36merror_handler\u001b[0;34m(*args, **kwargs)\u001b[0m\n\u001b[1;32m     63\u001b[0m         \u001b[0mfiltered_tb\u001b[0m \u001b[0;34m=\u001b[0m \u001b[0;32mNone\u001b[0m\u001b[0;34m\u001b[0m\u001b[0;34m\u001b[0m\u001b[0m\n\u001b[1;32m     64\u001b[0m         \u001b[0;32mtry\u001b[0m\u001b[0;34m:\u001b[0m\u001b[0;34m\u001b[0m\u001b[0;34m\u001b[0m\u001b[0m\n\u001b[0;32m---> 65\u001b[0;31m             \u001b[0;32mreturn\u001b[0m \u001b[0mfn\u001b[0m\u001b[0;34m(\u001b[0m\u001b[0;34m*\u001b[0m\u001b[0margs\u001b[0m\u001b[0;34m,\u001b[0m \u001b[0;34m**\u001b[0m\u001b[0mkwargs\u001b[0m\u001b[0;34m)\u001b[0m\u001b[0;34m\u001b[0m\u001b[0;34m\u001b[0m\u001b[0m\n\u001b[0m\u001b[1;32m     66\u001b[0m         \u001b[0;32mexcept\u001b[0m \u001b[0mException\u001b[0m \u001b[0;32mas\u001b[0m \u001b[0me\u001b[0m\u001b[0;34m:\u001b[0m\u001b[0;34m\u001b[0m\u001b[0;34m\u001b[0m\u001b[0m\n\u001b[1;32m     67\u001b[0m             \u001b[0mfiltered_tb\u001b[0m \u001b[0;34m=\u001b[0m \u001b[0m_process_traceback_frames\u001b[0m\u001b[0;34m(\u001b[0m\u001b[0me\u001b[0m\u001b[0;34m.\u001b[0m\u001b[0m__traceback__\u001b[0m\u001b[0;34m)\u001b[0m\u001b[0;34m\u001b[0m\u001b[0;34m\u001b[0m\u001b[0m\n",
            "\u001b[0;32m/usr/local/lib/python3.10/dist-packages/keras/src/engine/training.py\u001b[0m in \u001b[0;36mfit\u001b[0;34m(self, x, y, batch_size, epochs, verbose, callbacks, validation_split, validation_data, shuffle, class_weight, sample_weight, initial_epoch, steps_per_epoch, validation_steps, validation_batch_size, validation_freq, max_queue_size, workers, use_multiprocessing)\u001b[0m\n\u001b[1;32m   1805\u001b[0m                         ):\n\u001b[1;32m   1806\u001b[0m                             \u001b[0mcallbacks\u001b[0m\u001b[0;34m.\u001b[0m\u001b[0mon_train_batch_begin\u001b[0m\u001b[0;34m(\u001b[0m\u001b[0mstep\u001b[0m\u001b[0;34m)\u001b[0m\u001b[0;34m\u001b[0m\u001b[0;34m\u001b[0m\u001b[0m\n\u001b[0;32m-> 1807\u001b[0;31m                             \u001b[0mtmp_logs\u001b[0m \u001b[0;34m=\u001b[0m \u001b[0mself\u001b[0m\u001b[0;34m.\u001b[0m\u001b[0mtrain_function\u001b[0m\u001b[0;34m(\u001b[0m\u001b[0miterator\u001b[0m\u001b[0;34m)\u001b[0m\u001b[0;34m\u001b[0m\u001b[0;34m\u001b[0m\u001b[0m\n\u001b[0m\u001b[1;32m   1808\u001b[0m                             \u001b[0;32mif\u001b[0m \u001b[0mdata_handler\u001b[0m\u001b[0;34m.\u001b[0m\u001b[0mshould_sync\u001b[0m\u001b[0;34m:\u001b[0m\u001b[0;34m\u001b[0m\u001b[0;34m\u001b[0m\u001b[0m\n\u001b[1;32m   1809\u001b[0m                                 \u001b[0mcontext\u001b[0m\u001b[0;34m.\u001b[0m\u001b[0masync_wait\u001b[0m\u001b[0;34m(\u001b[0m\u001b[0;34m)\u001b[0m\u001b[0;34m\u001b[0m\u001b[0;34m\u001b[0m\u001b[0m\n",
            "\u001b[0;32m/usr/local/lib/python3.10/dist-packages/tensorflow/python/util/traceback_utils.py\u001b[0m in \u001b[0;36merror_handler\u001b[0;34m(*args, **kwargs)\u001b[0m\n\u001b[1;32m    148\u001b[0m     \u001b[0mfiltered_tb\u001b[0m \u001b[0;34m=\u001b[0m \u001b[0;32mNone\u001b[0m\u001b[0;34m\u001b[0m\u001b[0;34m\u001b[0m\u001b[0m\n\u001b[1;32m    149\u001b[0m     \u001b[0;32mtry\u001b[0m\u001b[0;34m:\u001b[0m\u001b[0;34m\u001b[0m\u001b[0;34m\u001b[0m\u001b[0m\n\u001b[0;32m--> 150\u001b[0;31m       \u001b[0;32mreturn\u001b[0m \u001b[0mfn\u001b[0m\u001b[0;34m(\u001b[0m\u001b[0;34m*\u001b[0m\u001b[0margs\u001b[0m\u001b[0;34m,\u001b[0m \u001b[0;34m**\u001b[0m\u001b[0mkwargs\u001b[0m\u001b[0;34m)\u001b[0m\u001b[0;34m\u001b[0m\u001b[0;34m\u001b[0m\u001b[0m\n\u001b[0m\u001b[1;32m    151\u001b[0m     \u001b[0;32mexcept\u001b[0m \u001b[0mException\u001b[0m \u001b[0;32mas\u001b[0m \u001b[0me\u001b[0m\u001b[0;34m:\u001b[0m\u001b[0;34m\u001b[0m\u001b[0;34m\u001b[0m\u001b[0m\n\u001b[1;32m    152\u001b[0m       \u001b[0mfiltered_tb\u001b[0m \u001b[0;34m=\u001b[0m \u001b[0m_process_traceback_frames\u001b[0m\u001b[0;34m(\u001b[0m\u001b[0me\u001b[0m\u001b[0;34m.\u001b[0m\u001b[0m__traceback__\u001b[0m\u001b[0;34m)\u001b[0m\u001b[0;34m\u001b[0m\u001b[0;34m\u001b[0m\u001b[0m\n",
            "\u001b[0;32m/usr/local/lib/python3.10/dist-packages/tensorflow/python/eager/polymorphic_function/polymorphic_function.py\u001b[0m in \u001b[0;36m__call__\u001b[0;34m(self, *args, **kwds)\u001b[0m\n\u001b[1;32m    830\u001b[0m \u001b[0;34m\u001b[0m\u001b[0m\n\u001b[1;32m    831\u001b[0m       \u001b[0;32mwith\u001b[0m \u001b[0mOptionalXlaContext\u001b[0m\u001b[0;34m(\u001b[0m\u001b[0mself\u001b[0m\u001b[0;34m.\u001b[0m\u001b[0m_jit_compile\u001b[0m\u001b[0;34m)\u001b[0m\u001b[0;34m:\u001b[0m\u001b[0;34m\u001b[0m\u001b[0;34m\u001b[0m\u001b[0m\n\u001b[0;32m--> 832\u001b[0;31m         \u001b[0mresult\u001b[0m \u001b[0;34m=\u001b[0m \u001b[0mself\u001b[0m\u001b[0;34m.\u001b[0m\u001b[0m_call\u001b[0m\u001b[0;34m(\u001b[0m\u001b[0;34m*\u001b[0m\u001b[0margs\u001b[0m\u001b[0;34m,\u001b[0m \u001b[0;34m**\u001b[0m\u001b[0mkwds\u001b[0m\u001b[0;34m)\u001b[0m\u001b[0;34m\u001b[0m\u001b[0;34m\u001b[0m\u001b[0m\n\u001b[0m\u001b[1;32m    833\u001b[0m \u001b[0;34m\u001b[0m\u001b[0m\n\u001b[1;32m    834\u001b[0m       \u001b[0mnew_tracing_count\u001b[0m \u001b[0;34m=\u001b[0m \u001b[0mself\u001b[0m\u001b[0;34m.\u001b[0m\u001b[0mexperimental_get_tracing_count\u001b[0m\u001b[0;34m(\u001b[0m\u001b[0;34m)\u001b[0m\u001b[0;34m\u001b[0m\u001b[0;34m\u001b[0m\u001b[0m\n",
            "\u001b[0;32m/usr/local/lib/python3.10/dist-packages/tensorflow/python/eager/polymorphic_function/polymorphic_function.py\u001b[0m in \u001b[0;36m_call\u001b[0;34m(self, *args, **kwds)\u001b[0m\n\u001b[1;32m    903\u001b[0m         \u001b[0;31m# Lifting succeeded, so variables are initialized and we can run the\u001b[0m\u001b[0;34m\u001b[0m\u001b[0;34m\u001b[0m\u001b[0m\n\u001b[1;32m    904\u001b[0m         \u001b[0;31m# no_variable_creation function.\u001b[0m\u001b[0;34m\u001b[0m\u001b[0;34m\u001b[0m\u001b[0m\n\u001b[0;32m--> 905\u001b[0;31m         return tracing_compilation.call_function(\n\u001b[0m\u001b[1;32m    906\u001b[0m             \u001b[0margs\u001b[0m\u001b[0;34m,\u001b[0m \u001b[0mkwds\u001b[0m\u001b[0;34m,\u001b[0m \u001b[0mself\u001b[0m\u001b[0;34m.\u001b[0m\u001b[0m_no_variable_creation_config\u001b[0m\u001b[0;34m\u001b[0m\u001b[0;34m\u001b[0m\u001b[0m\n\u001b[1;32m    907\u001b[0m         )\n",
            "\u001b[0;32m/usr/local/lib/python3.10/dist-packages/tensorflow/python/eager/polymorphic_function/tracing_compilation.py\u001b[0m in \u001b[0;36mcall_function\u001b[0;34m(args, kwargs, tracing_options)\u001b[0m\n\u001b[1;32m    137\u001b[0m   \u001b[0mbound_args\u001b[0m \u001b[0;34m=\u001b[0m \u001b[0mfunction\u001b[0m\u001b[0;34m.\u001b[0m\u001b[0mfunction_type\u001b[0m\u001b[0;34m.\u001b[0m\u001b[0mbind\u001b[0m\u001b[0;34m(\u001b[0m\u001b[0;34m*\u001b[0m\u001b[0margs\u001b[0m\u001b[0;34m,\u001b[0m \u001b[0;34m**\u001b[0m\u001b[0mkwargs\u001b[0m\u001b[0;34m)\u001b[0m\u001b[0;34m\u001b[0m\u001b[0;34m\u001b[0m\u001b[0m\n\u001b[1;32m    138\u001b[0m   \u001b[0mflat_inputs\u001b[0m \u001b[0;34m=\u001b[0m \u001b[0mfunction\u001b[0m\u001b[0;34m.\u001b[0m\u001b[0mfunction_type\u001b[0m\u001b[0;34m.\u001b[0m\u001b[0munpack_inputs\u001b[0m\u001b[0;34m(\u001b[0m\u001b[0mbound_args\u001b[0m\u001b[0;34m)\u001b[0m\u001b[0;34m\u001b[0m\u001b[0;34m\u001b[0m\u001b[0m\n\u001b[0;32m--> 139\u001b[0;31m   return function._call_flat(  # pylint: disable=protected-access\n\u001b[0m\u001b[1;32m    140\u001b[0m       \u001b[0mflat_inputs\u001b[0m\u001b[0;34m,\u001b[0m \u001b[0mcaptured_inputs\u001b[0m\u001b[0;34m=\u001b[0m\u001b[0mfunction\u001b[0m\u001b[0;34m.\u001b[0m\u001b[0mcaptured_inputs\u001b[0m\u001b[0;34m\u001b[0m\u001b[0;34m\u001b[0m\u001b[0m\n\u001b[1;32m    141\u001b[0m   )\n",
            "\u001b[0;32m/usr/local/lib/python3.10/dist-packages/tensorflow/python/eager/polymorphic_function/concrete_function.py\u001b[0m in \u001b[0;36m_call_flat\u001b[0;34m(self, tensor_inputs, captured_inputs)\u001b[0m\n\u001b[1;32m   1321\u001b[0m         and executing_eagerly):\n\u001b[1;32m   1322\u001b[0m       \u001b[0;31m# No tape is watching; skip to running the function.\u001b[0m\u001b[0;34m\u001b[0m\u001b[0;34m\u001b[0m\u001b[0m\n\u001b[0;32m-> 1323\u001b[0;31m       \u001b[0;32mreturn\u001b[0m \u001b[0mself\u001b[0m\u001b[0;34m.\u001b[0m\u001b[0m_inference_function\u001b[0m\u001b[0;34m.\u001b[0m\u001b[0mcall_preflattened\u001b[0m\u001b[0;34m(\u001b[0m\u001b[0margs\u001b[0m\u001b[0;34m)\u001b[0m\u001b[0;34m\u001b[0m\u001b[0;34m\u001b[0m\u001b[0m\n\u001b[0m\u001b[1;32m   1324\u001b[0m     forward_backward = self._select_forward_and_backward_functions(\n\u001b[1;32m   1325\u001b[0m         \u001b[0margs\u001b[0m\u001b[0;34m,\u001b[0m\u001b[0;34m\u001b[0m\u001b[0;34m\u001b[0m\u001b[0m\n",
            "\u001b[0;32m/usr/local/lib/python3.10/dist-packages/tensorflow/python/eager/polymorphic_function/atomic_function.py\u001b[0m in \u001b[0;36mcall_preflattened\u001b[0;34m(self, args)\u001b[0m\n\u001b[1;32m    214\u001b[0m   \u001b[0;32mdef\u001b[0m \u001b[0mcall_preflattened\u001b[0m\u001b[0;34m(\u001b[0m\u001b[0mself\u001b[0m\u001b[0;34m,\u001b[0m \u001b[0margs\u001b[0m\u001b[0;34m:\u001b[0m \u001b[0mSequence\u001b[0m\u001b[0;34m[\u001b[0m\u001b[0mcore\u001b[0m\u001b[0;34m.\u001b[0m\u001b[0mTensor\u001b[0m\u001b[0;34m]\u001b[0m\u001b[0;34m)\u001b[0m \u001b[0;34m->\u001b[0m \u001b[0mAny\u001b[0m\u001b[0;34m:\u001b[0m\u001b[0;34m\u001b[0m\u001b[0;34m\u001b[0m\u001b[0m\n\u001b[1;32m    215\u001b[0m     \u001b[0;34m\"\"\"Calls with flattened tensor inputs and returns the structured output.\"\"\"\u001b[0m\u001b[0;34m\u001b[0m\u001b[0;34m\u001b[0m\u001b[0m\n\u001b[0;32m--> 216\u001b[0;31m     \u001b[0mflat_outputs\u001b[0m \u001b[0;34m=\u001b[0m \u001b[0mself\u001b[0m\u001b[0;34m.\u001b[0m\u001b[0mcall_flat\u001b[0m\u001b[0;34m(\u001b[0m\u001b[0;34m*\u001b[0m\u001b[0margs\u001b[0m\u001b[0;34m)\u001b[0m\u001b[0;34m\u001b[0m\u001b[0;34m\u001b[0m\u001b[0m\n\u001b[0m\u001b[1;32m    217\u001b[0m     \u001b[0;32mreturn\u001b[0m \u001b[0mself\u001b[0m\u001b[0;34m.\u001b[0m\u001b[0mfunction_type\u001b[0m\u001b[0;34m.\u001b[0m\u001b[0mpack_output\u001b[0m\u001b[0;34m(\u001b[0m\u001b[0mflat_outputs\u001b[0m\u001b[0;34m)\u001b[0m\u001b[0;34m\u001b[0m\u001b[0;34m\u001b[0m\u001b[0m\n\u001b[1;32m    218\u001b[0m \u001b[0;34m\u001b[0m\u001b[0m\n",
            "\u001b[0;32m/usr/local/lib/python3.10/dist-packages/tensorflow/python/eager/polymorphic_function/atomic_function.py\u001b[0m in \u001b[0;36mcall_flat\u001b[0;34m(self, *args)\u001b[0m\n\u001b[1;32m    249\u001b[0m         \u001b[0;32mwith\u001b[0m \u001b[0mrecord\u001b[0m\u001b[0;34m.\u001b[0m\u001b[0mstop_recording\u001b[0m\u001b[0;34m(\u001b[0m\u001b[0;34m)\u001b[0m\u001b[0;34m:\u001b[0m\u001b[0;34m\u001b[0m\u001b[0;34m\u001b[0m\u001b[0m\n\u001b[1;32m    250\u001b[0m           \u001b[0;32mif\u001b[0m \u001b[0mself\u001b[0m\u001b[0;34m.\u001b[0m\u001b[0m_bound_context\u001b[0m\u001b[0;34m.\u001b[0m\u001b[0mexecuting_eagerly\u001b[0m\u001b[0;34m(\u001b[0m\u001b[0;34m)\u001b[0m\u001b[0;34m:\u001b[0m\u001b[0;34m\u001b[0m\u001b[0;34m\u001b[0m\u001b[0m\n\u001b[0;32m--> 251\u001b[0;31m             outputs = self._bound_context.call_function(\n\u001b[0m\u001b[1;32m    252\u001b[0m                 \u001b[0mself\u001b[0m\u001b[0;34m.\u001b[0m\u001b[0mname\u001b[0m\u001b[0;34m,\u001b[0m\u001b[0;34m\u001b[0m\u001b[0;34m\u001b[0m\u001b[0m\n\u001b[1;32m    253\u001b[0m                 \u001b[0mlist\u001b[0m\u001b[0;34m(\u001b[0m\u001b[0margs\u001b[0m\u001b[0;34m)\u001b[0m\u001b[0;34m,\u001b[0m\u001b[0;34m\u001b[0m\u001b[0;34m\u001b[0m\u001b[0m\n",
            "\u001b[0;32m/usr/local/lib/python3.10/dist-packages/tensorflow/python/eager/context.py\u001b[0m in \u001b[0;36mcall_function\u001b[0;34m(self, name, tensor_inputs, num_outputs)\u001b[0m\n\u001b[1;32m   1484\u001b[0m     \u001b[0mcancellation_context\u001b[0m \u001b[0;34m=\u001b[0m \u001b[0mcancellation\u001b[0m\u001b[0;34m.\u001b[0m\u001b[0mcontext\u001b[0m\u001b[0;34m(\u001b[0m\u001b[0;34m)\u001b[0m\u001b[0;34m\u001b[0m\u001b[0;34m\u001b[0m\u001b[0m\n\u001b[1;32m   1485\u001b[0m     \u001b[0;32mif\u001b[0m \u001b[0mcancellation_context\u001b[0m \u001b[0;32mis\u001b[0m \u001b[0;32mNone\u001b[0m\u001b[0;34m:\u001b[0m\u001b[0;34m\u001b[0m\u001b[0;34m\u001b[0m\u001b[0m\n\u001b[0;32m-> 1486\u001b[0;31m       outputs = execute.execute(\n\u001b[0m\u001b[1;32m   1487\u001b[0m           \u001b[0mname\u001b[0m\u001b[0;34m.\u001b[0m\u001b[0mdecode\u001b[0m\u001b[0;34m(\u001b[0m\u001b[0;34m\"utf-8\"\u001b[0m\u001b[0;34m)\u001b[0m\u001b[0;34m,\u001b[0m\u001b[0;34m\u001b[0m\u001b[0;34m\u001b[0m\u001b[0m\n\u001b[1;32m   1488\u001b[0m           \u001b[0mnum_outputs\u001b[0m\u001b[0;34m=\u001b[0m\u001b[0mnum_outputs\u001b[0m\u001b[0;34m,\u001b[0m\u001b[0;34m\u001b[0m\u001b[0;34m\u001b[0m\u001b[0m\n",
            "\u001b[0;32m/usr/local/lib/python3.10/dist-packages/tensorflow/python/eager/execute.py\u001b[0m in \u001b[0;36mquick_execute\u001b[0;34m(op_name, num_outputs, inputs, attrs, ctx, name)\u001b[0m\n\u001b[1;32m     51\u001b[0m   \u001b[0;32mtry\u001b[0m\u001b[0;34m:\u001b[0m\u001b[0;34m\u001b[0m\u001b[0;34m\u001b[0m\u001b[0m\n\u001b[1;32m     52\u001b[0m     \u001b[0mctx\u001b[0m\u001b[0;34m.\u001b[0m\u001b[0mensure_initialized\u001b[0m\u001b[0;34m(\u001b[0m\u001b[0;34m)\u001b[0m\u001b[0;34m\u001b[0m\u001b[0;34m\u001b[0m\u001b[0m\n\u001b[0;32m---> 53\u001b[0;31m     tensors = pywrap_tfe.TFE_Py_Execute(ctx._handle, device_name, op_name,\n\u001b[0m\u001b[1;32m     54\u001b[0m                                         inputs, attrs, num_outputs)\n\u001b[1;32m     55\u001b[0m   \u001b[0;32mexcept\u001b[0m \u001b[0mcore\u001b[0m\u001b[0;34m.\u001b[0m\u001b[0m_NotOkStatusException\u001b[0m \u001b[0;32mas\u001b[0m \u001b[0me\u001b[0m\u001b[0;34m:\u001b[0m\u001b[0;34m\u001b[0m\u001b[0;34m\u001b[0m\u001b[0m\n",
            "\u001b[0;31mKeyboardInterrupt\u001b[0m: "
          ]
        }
      ],
      "source": [
        "epochs = 30\n",
        "## Your code goes here, use 50 epochs.\n",
        "history = model.fit(\n",
        "  train_ds,\n",
        "  validation_data=val_ds,\n",
        "  epochs=epochs\n",
        ")"
      ]
    },
    {
      "cell_type": "markdown",
      "metadata": {
        "id": "iuvfCTsBWLMp"
      },
      "source": [
        "#### **Todo:**  Visualize the model results"
      ]
    },
    {
      "cell_type": "code",
      "execution_count": null,
      "metadata": {
        "id": "lCTXwfkTdRW1",
        "colab": {
          "base_uri": "https://localhost:8080/",
          "height": 699
        },
        "outputId": "506d14ea-5e53-4346-a542-6b0192e8e3d3"
      },
      "outputs": [
        {
          "output_type": "display_data",
          "data": {
            "text/plain": [
              "<Figure size 800x800 with 2 Axes>"
            ],
            "image/png": "[encoded data removed]"
          },
          "metadata": {}
        }
      ],
      "source": [
        "acc = history.history['accuracy']\n",
        "val_acc = history.history['val_accuracy']\n",
        "\n",
        "loss = history.history['loss']\n",
        "val_loss = history.history['val_loss']\n",
        "\n",
        "epochs_range = range(epochs)\n",
        "\n",
        "plt.figure(figsize=(8, 8))\n",
        "plt.subplot(1, 2, 1)\n",
        "plt.plot(epochs_range, acc, label='Training Accuracy')\n",
        "plt.plot(epochs_range, val_acc, label='Validation Accuracy')\n",
        "plt.legend(loc='lower right')\n",
        "plt.title('Training and Validation Accuracy')\n",
        "\n",
        "plt.subplot(1, 2, 2)\n",
        "plt.plot(epochs_range, loss, label='Training Loss')\n",
        "plt.plot(epochs_range, val_loss, label='Validation Loss')\n",
        "plt.legend(loc='upper right')\n",
        "plt.title('Training and Validation Loss')\n",
        "plt.show()"
      ]
    },
    {
      "cell_type": "markdown",
      "metadata": {
        "id": "Way4lakC4_p0"
      },
      "source": [
        "#### **Todo:**  Analyze your results here. Did you get rid of underfitting/overfitting? Did class rebalance help?\n",
        "\n"
      ]
    },
    {
      "cell_type": "markdown",
      "source": [
        "The overfitting seems to have vanished. This is evident from the marginal decrease in the difference between training and validation accuracy as compared to the previous graph."
      ],
      "metadata": {
        "id": "1sm3jKNDAeON"
      }
    },
    {
      "cell_type": "code",
      "execution_count": null,
      "metadata": {
        "id": "nV2BHg1dWrdY"
      },
      "outputs": [],
      "source": []
    }
  ],
  "metadata": {
    "accelerator": "GPU",
    "colab": {
      "provenance": [],
      "collapsed_sections": [
        "3vRTPbJEn-pX"
      ]
    },
    "kernelspec": {
      "display_name": "Python 3",
      "name": "python3"
    }
  },
  "nbformat": 4,
  "nbformat_minor": 0
}