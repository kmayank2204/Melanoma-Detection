{
  "cells": [
    {
      "cell_type": "markdown",
      "metadata": {
        "id": "yDriIbfa5lwD"
      },
      "source": [
        "Problem statement: To build a CNN based model which can accurately detect melanoma. Melanoma is a type of cancer that can be deadly if not detected early. It accounts for 75% of skin cancer deaths. A solution which can evaluate images and alert the dermatologists about the presence of melanoma has the potential to reduce a lot of manual effort needed in diagnosis."
      ]
    },
    {
      "cell_type": "code",
      "source": [
        "from google.colab import drive\n",
        "drive.mount('/content/drive')"
      ],
      "metadata": {
        "colab": {
          "base_uri": "https://localhost:8080/"
        },
        "id": "egce0n27e4mU",
        "outputId": "4cccc53d-3b4a-44cf-cabf-4bb90246f652"
      },
      "execution_count": 52,
      "outputs": [
        {
          "output_type": "stream",
          "name": "stdout",
          "text": [
            "Drive already mounted at /content/drive; to attempt to forcibly remount, call drive.mount(\"/content/drive\", force_remount=True).\n"
          ]
        }
      ]
    },
    {
      "cell_type": "markdown",
      "metadata": {
        "id": "lvR7ppk77v31"
      },
      "source": [
        "### Importing Skin Cancer Data\n",
        "#### To do: Take necessary actions to read the data"
      ]
    },
    {
      "cell_type": "markdown",
      "metadata": {
        "id": "JfcpIXQZN2Rh"
      },
      "source": [
        "### Importing all the important libraries"
      ]
    },
    {
      "cell_type": "code",
      "execution_count": 53,
      "metadata": {
        "id": "WC8xCQuELWms"
      },
      "outputs": [],
      "source": [
        "import pathlib\n",
        "import tensorflow as tf\n",
        "import matplotlib.pyplot as plt\n",
        "import numpy as np\n",
        "import pandas as pd\n",
        "import os\n",
        "import PIL\n",
        "from tensorflow import keras\n",
        "from tensorflow.keras import layers\n",
        "from tensorflow.keras.layers import Dense, Dropout, Activation, Flatten, Conv2D, MaxPooling2D\n",
        "from tensorflow.keras.models import Sequential"
      ]
    },
    {
      "cell_type": "code",
      "execution_count": 54,
      "metadata": {
        "id": "i0Y5zh74mE2K"
      },
      "outputs": [],
      "source": [
        "#from google.colab import drive\n",
        "#drive.mount('/content/drive',force_remount = True)"
      ]
    },
    {
      "cell_type": "markdown",
      "metadata": {
        "id": "RpUsRQwOOL72"
      },
      "source": [
        "This assignment uses a dataset of about 2357 images of skin cancer types. The dataset contains 9 sub-directories in each train and test subdirectories. The 9 sub-directories contains the images of 9 skin cancer types respectively."
      ]
    },
    {
      "cell_type": "markdown",
      "source": [
        "The file loaded into google drive is a zipped file, this needs to be unzipped first and saved into a new folder"
      ],
      "metadata": {
        "id": "61kVWeETyYdT"
      }
    },
    {
      "cell_type": "code",
      "source": [
        "#!unzip -q '/content/drive/MyDrive/CNN Assignment/CNN_assignment.zip' -d '/content/drive/MyDrive/CNN Assignment/CNN_assignment_Extracted'"
      ],
      "metadata": {
        "id": "itRovPbcvwyU"
      },
      "execution_count": 55,
      "outputs": []
    },
    {
      "cell_type": "code",
      "execution_count": 56,
      "metadata": {
        "id": "D57L-ovIKtI4"
      },
      "outputs": [],
      "source": [
        "# Defining the path for train and test images\n",
        "## Todo: Update the paths of the train and test dataset\n",
        "data_dir_train = pathlib.Path(\"/content/drive/MyDrive/CNN Assignment/CNN_assignment_Extracted/Skin cancer ISIC The International Skin Imaging Collaboration/Train\")\n",
        "data_dir_test = pathlib.Path(\"/content/drive/MyDrive/CNN Assignment/CNN_assignment_Extracted/Skin cancer ISIC The International Skin Imaging Collaboration/Test\")"
      ]
    },
    {
      "cell_type": "code",
      "execution_count": 57,
      "metadata": {
        "id": "DqksN1w5Fu-N",
        "colab": {
          "base_uri": "https://localhost:8080/"
        },
        "outputId": "6fa8f52b-4de0-46b0-81bb-36fc49d7fc18"
      },
      "outputs": [
        {
          "output_type": "stream",
          "name": "stdout",
          "text": [
            "2239\n",
            "118\n"
          ]
        }
      ],
      "source": [
        "image_count_train = len(list(data_dir_train.glob('*/*.jpg')))\n",
        "print(image_count_train)\n",
        "image_count_test = len(list(data_dir_test.glob('*/*.jpg')))\n",
        "print(image_count_test)"
      ]
    },
    {
      "cell_type": "markdown",
      "metadata": {
        "id": "O8HkfW3jPJun"
      },
      "source": [
        "### Load using keras.preprocessing\n",
        "\n",
        "Let's load these images off disk using the helpful image_dataset_from_directory utility."
      ]
    },
    {
      "cell_type": "markdown",
      "metadata": {
        "id": "cDBKZG3jPcMc"
      },
      "source": [
        "### Create a dataset\n",
        "\n",
        "Define some parameters for the loader:"
      ]
    },
    {
      "cell_type": "code",
      "execution_count": 58,
      "metadata": {
        "id": "VLfcXcZ9LjGv"
      },
      "outputs": [],
      "source": [
        "batch_size = 32\n",
        "img_height = 180\n",
        "img_width = 180"
      ]
    },
    {
      "cell_type": "markdown",
      "metadata": {
        "id": "Y5f5y43GPog1"
      },
      "source": [
        "Use 80% of the images for training, and 20% for validation."
      ]
    },
    {
      "cell_type": "code",
      "execution_count": 59,
      "metadata": {
        "id": "G1BWmDzr7w-5",
        "colab": {
          "base_uri": "https://localhost:8080/"
        },
        "outputId": "f0f4785d-5594-43b0-b6ae-e60717d2104d"
      },
      "outputs": [
        {
          "output_type": "stream",
          "name": "stdout",
          "text": [
            "Found 6739 files belonging to 9 classes.\n"
          ]
        }
      ],
      "source": [
        "## Write your train dataset here\n",
        "## Note use seed=123 while creating your dataset using tf.keras.preprocessing.image_dataset_from_directory\n",
        "## Note, make sure your resize your images to the size img_height*img_width, while writting the dataset\n",
        "\n",
        "train_ds = keras.preprocessing.image_dataset_from_directory(\n",
        "    data_dir_train,\n",
        "    image_size=(img_height,img_width),\n",
        "    batch_size = batch_size,\n",
        "    seed = 123\n",
        ")"
      ]
    },
    {
      "cell_type": "code",
      "execution_count": 60,
      "metadata": {
        "id": "LYch6-SR-i2g",
        "colab": {
          "base_uri": "https://localhost:8080/"
        },
        "outputId": "a4a89416-bed2-450c-f359-677813ba8471"
      },
      "outputs": [
        {
          "output_type": "stream",
          "name": "stdout",
          "text": [
            "Found 6739 files belonging to 9 classes.\n",
            "Using 5392 files for training.\n"
          ]
        }
      ],
      "source": [
        "## Write your validation dataset here\n",
        "## Note use seed=123 while creating your dataset using tf.keras.preprocessing.image_dataset_from_directory\n",
        "## Note, make sure your resize your images to the size img_height*img_width, while writting the dataset\n",
        "val_ds = keras.preprocessing.image_dataset_from_directory(\n",
        "    data_dir_train,\n",
        "    image_size=(img_height,img_width),\n",
        "    batch_size = batch_size,\n",
        "    subset = \"training\",\n",
        "    seed = 123,\n",
        "    validation_split = 0.2\n",
        ")"
      ]
    },
    {
      "cell_type": "code",
      "execution_count": 61,
      "metadata": {
        "id": "Bk0RV7G7-nad",
        "colab": {
          "base_uri": "https://localhost:8080/"
        },
        "outputId": "956166e2-ce63-46fa-bbc3-78a0bf8b7b6e"
      },
      "outputs": [
        {
          "output_type": "stream",
          "name": "stdout",
          "text": [
            "['actinic keratosis', 'basal cell carcinoma', 'dermatofibroma', 'melanoma', 'nevus', 'pigmented benign keratosis', 'seborrheic keratosis', 'squamous cell carcinoma', 'vascular lesion']\n"
          ]
        }
      ],
      "source": [
        "# List out all the classes of skin cancer and store them in a list.\n",
        "# You can find the class names in the class_names attribute on these datasets.\n",
        "# These correspond to the directory names in alphabetical order.\n",
        "class_names = train_ds.class_names\n",
        "print(class_names)"
      ]
    },
    {
      "cell_type": "markdown",
      "metadata": {
        "id": "jbsm5oYiQH_b"
      },
      "source": [
        "### Visualize the data\n",
        "#### Todo, create a code to visualize one instance of all the nine classes present in the dataset"
      ]
    },
    {
      "cell_type": "code",
      "execution_count": 62,
      "metadata": {
        "id": "tKILZ48I-q1k",
        "colab": {
          "base_uri": "https://localhost:8080/",
          "height": 1000
        },
        "collapsed": true,
        "outputId": "5015a608-c227-44a8-9f67-10777ad0de1f"
      },
      "outputs": [
        {
          "output_type": "display_data",
          "data": {
            "text/plain": [
              "<Figure size 1000x1000 with 9 Axes>"
            ],
            "image/png": "[encoded data removed]"
          },
          "metadata": {}
        }
      ],
      "source": [
        "import matplotlib.pyplot as plt\n",
        "\n",
        "### your code goes here, you can use training or validation data to visualize\n",
        "def plot_images_from_dataset(dataset, class_names, num_classes=9, images_per_class=1):\n",
        "    fig, axes = plt.subplots(num_classes, images_per_class, figsize=(10, 10))\n",
        "    axes = axes.flatten()\n",
        "\n",
        "    class_counts = {class_name: 0 for class_name in class_names}\n",
        "    plotted_images = {class_name: [] for class_name in class_names}\n",
        "\n",
        "    for images, labels in dataset:\n",
        "        for image, label in zip(images, labels):\n",
        "            class_name = class_names[label]\n",
        "            if class_counts[class_name] < images_per_class:\n",
        "                idx = class_counts[class_name] * num_classes + class_names.index(class_name)\n",
        "                axes[idx].imshow(image.numpy().astype(\"uint8\"))\n",
        "                axes[idx].set_title(class_name)\n",
        "                axes[idx].axis('off')\n",
        "                class_counts[class_name] += 1\n",
        "                if all(count == images_per_class for count in class_counts.values()):\n",
        "                    #break\n",
        "                    plt.tight_layout()\n",
        "                    plt.show()\n",
        "                    return\n",
        "        #if all(count == images_per_class for count in class_counts.values()):\n",
        "            #break\n",
        "\n",
        "    plt.tight_layout()\n",
        "    plt.show()\n",
        "\n",
        "# Plot images from the training dataset\n",
        "plot_images_from_dataset(train_ds, class_names)"
      ]
    },
    {
      "cell_type": "markdown",
      "metadata": {
        "id": "8cAZPYaeQjQy"
      },
      "source": [
        "The `image_batch` is a tensor of the shape `(32, 180, 180, 3)`. This is a batch of 32 images of shape `180x180x3` (the last dimension refers to color channels RGB). The `label_batch` is a tensor of the shape `(32,)`, these are corresponding labels to the 32 images."
      ]
    },
    {
      "cell_type": "markdown",
      "metadata": {
        "id": "jzVXBHiyQ7_I"
      },
      "source": [
        "`Dataset.cache()` keeps the images in memory after they're loaded off disk during the first epoch.\n",
        "\n",
        "`Dataset.prefetch()` overlaps data preprocessing and model execution while training."
      ]
    },
    {
      "cell_type": "code",
      "execution_count": 63,
      "metadata": {
        "id": "7wZlKRBEGNtU"
      },
      "outputs": [],
      "source": [
        "AUTOTUNE = tf.data.experimental.AUTOTUNE\n",
        "train_ds = train_ds.cache().shuffle(1000).prefetch(buffer_size=AUTOTUNE)\n",
        "val_ds = val_ds.cache().prefetch(buffer_size=AUTOTUNE)"
      ]
    },
    {
      "cell_type": "markdown",
      "metadata": {
        "id": "1JEAF6-sRyz8"
      },
      "source": [
        "### Create the model\n",
        "#### Todo: Create a CNN model, which can accurately detect 9 classes present in the dataset. Use ```layers.experimental.preprocessing.Rescaling``` to normalize pixel values between (0,1). The RGB channel values are in the `[0, 255]` range. This is not ideal for a neural network. Here, it is good to standardize values to be in the `[0, 1]`"
      ]
    },
    {
      "cell_type": "code",
      "execution_count": 64,
      "metadata": {
        "id": "ync9xoW7GZgn"
      },
      "outputs": [],
      "source": [
        "### Your code goes here\n",
        "model = Sequential(layers.experimental.preprocessing.Rescaling(scale = 1./255))\n",
        "model.add(Conv2D(32, (3, 3), padding='same',\n",
        "                 input_shape=(180,180,3)))\n",
        "model.add(Activation('relu'))\n",
        "model.add(Conv2D(32, (3, 3)))\n",
        "model.add(Activation('relu'))\n",
        "\n",
        "model.add(Flatten())\n",
        "model.add(Dense(128))\n",
        "model.add(Activation('relu'))\n",
        "model.add(Dropout(0.5))\n",
        "model.add(Dense(len(class_names)))\n",
        "model.add(Activation('softmax'))"
      ]
    },
    {
      "cell_type": "markdown",
      "metadata": {
        "id": "SDKzJmHwSCtt"
      },
      "source": [
        "### Compile the model\n",
        "Choose an appropirate optimiser and loss function for model training"
      ]
    },
    {
      "cell_type": "code",
      "execution_count": 65,
      "metadata": {
        "id": "XB8wKtiPGe1j"
      },
      "outputs": [],
      "source": [
        "### Todo, choose an appropirate optimiser and loss function\n",
        "model.compile(optimizer='adam',\n",
        "              loss='sparse_categorical_crossentropy',\n",
        "              metrics=['accuracy'])"
      ]
    },
    {
      "cell_type": "code",
      "execution_count": 66,
      "metadata": {
        "id": "_ZGWN4MZGhtJ",
        "colab": {
          "base_uri": "https://localhost:8080/"
        },
        "outputId": "e8faa9ce-6032-46f4-f43d-957bb52ea592"
      },
      "outputs": [
        {
          "output_type": "stream",
          "name": "stdout",
          "text": [
            "Model: \"sequential_2\"\n",
            "_________________________________________________________________\n",
            " Layer (type)                Output Shape              Param #   \n",
            "=================================================================\n",
            " rescaling_2 (Rescaling)     (None, 180, 180, 3)       0         \n",
            "                                                                 \n",
            " conv2d_4 (Conv2D)           (None, 180, 180, 32)      896       \n",
            "                                                                 \n",
            " activation_8 (Activation)   (None, 180, 180, 32)      0         \n",
            "                                                                 \n",
            " conv2d_5 (Conv2D)           (None, 178, 178, 32)      9248      \n",
            "                                                                 \n",
            " activation_9 (Activation)   (None, 178, 178, 32)      0         \n",
            "                                                                 \n",
            " flatten_2 (Flatten)         (None, 1013888)           0         \n",
            "                                                                 \n",
            " dense_4 (Dense)             (None, 128)               129777792 \n",
            "                                                                 \n",
            " activation_10 (Activation)  (None, 128)               0         \n",
            "                                                                 \n",
            " dropout_2 (Dropout)         (None, 128)               0         \n",
            "                                                                 \n",
            " dense_5 (Dense)             (None, 9)                 1161      \n",
            "                                                                 \n",
            " activation_11 (Activation)  (None, 9)                 0         \n",
            "                                                                 \n",
            "=================================================================\n",
            "Total params: 129789097 (495.11 MB)\n",
            "Trainable params: 129789097 (495.11 MB)\n",
            "Non-trainable params: 0 (0.00 Byte)\n",
            "_________________________________________________________________\n"
          ]
        }
      ],
      "source": [
        "# View the summary of all layers\n",
        "model.build((None, img_height, img_width, 3))\n",
        "model.summary()"
      ]
    },
    {
      "cell_type": "markdown",
      "metadata": {
        "id": "ljD_83rwSl5O"
      },
      "source": [
        "### Train the model"
      ]
    },
    {
      "cell_type": "code",
      "execution_count": 67,
      "metadata": {
        "id": "Kkfw2rJXGlYC",
        "colab": {
          "base_uri": "https://localhost:8080/"
        },
        "outputId": "33487c02-278c-47df-b2ee-9d0e0edd4e48",
        "collapsed": true
      },
      "outputs": [
        {
          "output_type": "stream",
          "name": "stdout",
          "text": [
            "Epoch 1/20\n",
            "211/211 [==============================] - 88s 226ms/step - loss: 3.3843 - accuracy: 0.2422 - val_loss: 1.8931 - val_accuracy: 0.3279\n",
            "Epoch 2/20\n",
            "211/211 [==============================] - 18s 86ms/step - loss: 1.6437 - accuracy: 0.4017 - val_loss: 1.2303 - val_accuracy: 0.5406\n",
            "Epoch 3/20\n",
            "211/211 [==============================] - 18s 85ms/step - loss: 1.2962 - accuracy: 0.5409 - val_loss: 0.9827 - val_accuracy: 0.6801\n",
            "Epoch 4/20\n",
            "211/211 [==============================] - 18s 84ms/step - loss: 1.0168 - accuracy: 0.6519 - val_loss: 0.6736 - val_accuracy: 0.8027\n",
            "Epoch 5/20\n",
            "211/211 [==============================] - 18s 83ms/step - loss: 0.8247 - accuracy: 0.7341 - val_loss: 0.4404 - val_accuracy: 0.8869\n",
            "Epoch 6/20\n",
            "211/211 [==============================] - 18s 83ms/step - loss: 0.5949 - accuracy: 0.8218 - val_loss: 0.3348 - val_accuracy: 0.9234\n",
            "Epoch 7/20\n",
            "211/211 [==============================] - 18s 84ms/step - loss: 0.4873 - accuracy: 0.8610 - val_loss: 0.3161 - val_accuracy: 0.9329\n",
            "Epoch 8/20\n",
            "211/211 [==============================] - 18s 84ms/step - loss: 0.3600 - accuracy: 0.8973 - val_loss: 0.1642 - val_accuracy: 0.9590\n",
            "Epoch 9/20\n",
            "211/211 [==============================] - 18s 85ms/step - loss: 0.2970 - accuracy: 0.9154 - val_loss: 0.1432 - val_accuracy: 0.9649\n",
            "Epoch 10/20\n",
            "211/211 [==============================] - 18s 84ms/step - loss: 0.2524 - accuracy: 0.9273 - val_loss: 0.1014 - val_accuracy: 0.9668\n",
            "Epoch 11/20\n",
            "211/211 [==============================] - 18s 84ms/step - loss: 0.2191 - accuracy: 0.9320 - val_loss: 0.1084 - val_accuracy: 0.9683\n",
            "Epoch 12/20\n",
            "211/211 [==============================] - 18s 85ms/step - loss: 0.2044 - accuracy: 0.9423 - val_loss: 0.0895 - val_accuracy: 0.9674\n",
            "Epoch 13/20\n",
            "211/211 [==============================] - 18s 84ms/step - loss: 0.1864 - accuracy: 0.9427 - val_loss: 0.1235 - val_accuracy: 0.9629\n",
            "Epoch 14/20\n",
            "211/211 [==============================] - 18s 84ms/step - loss: 0.1708 - accuracy: 0.9461 - val_loss: 0.1037 - val_accuracy: 0.9661\n",
            "Epoch 15/20\n",
            "211/211 [==============================] - 18s 85ms/step - loss: 0.1860 - accuracy: 0.9463 - val_loss: 0.0845 - val_accuracy: 0.9698\n",
            "Epoch 16/20\n",
            "211/211 [==============================] - 18s 84ms/step - loss: 0.1723 - accuracy: 0.9495 - val_loss: 0.0795 - val_accuracy: 0.9694\n",
            "Epoch 17/20\n",
            "211/211 [==============================] - 18s 85ms/step - loss: 0.1893 - accuracy: 0.9380 - val_loss: 0.0794 - val_accuracy: 0.9664\n",
            "Epoch 18/20\n",
            "211/211 [==============================] - 18s 84ms/step - loss: 0.1577 - accuracy: 0.9487 - val_loss: 0.0780 - val_accuracy: 0.9701\n",
            "Epoch 19/20\n",
            "211/211 [==============================] - 18s 85ms/step - loss: 0.1523 - accuracy: 0.9509 - val_loss: 0.0670 - val_accuracy: 0.9700\n",
            "Epoch 20/20\n",
            "211/211 [==============================] - 18s 84ms/step - loss: 0.1358 - accuracy: 0.9507 - val_loss: 0.0682 - val_accuracy: 0.9709\n"
          ]
        }
      ],
      "source": [
        "epochs = 20\n",
        "history = model.fit(\n",
        "  train_ds,\n",
        "  validation_data=val_ds,\n",
        "  epochs=epochs\n",
        ")"
      ]
    },
    {
      "cell_type": "markdown",
      "metadata": {
        "id": "w3679V8OShSE"
      },
      "source": [
        "### Visualizing training results"
      ]
    },
    {
      "cell_type": "code",
      "execution_count": 68,
      "metadata": {
        "id": "R1xkgk5nGubz",
        "colab": {
          "base_uri": "https://localhost:8080/",
          "height": 622
        },
        "outputId": "991ce4dc-b66e-4918-f69a-1111cda0271b"
      },
      "outputs": [
        {
          "output_type": "display_data",
          "data": {
            "text/plain": [
              "<Figure size 700x700 with 2 Axes>"
            ],
            "image/png": "[encoded data removed]"
          },
          "metadata": {}
        }
      ],
      "source": [
        "acc = history.history['accuracy']\n",
        "val_acc = history.history['val_accuracy']\n",
        "\n",
        "loss = history.history['loss']\n",
        "val_loss = history.history['val_loss']\n",
        "\n",
        "epochs_range = range(epochs)\n",
        "\n",
        "plt.figure(figsize=(7,7))\n",
        "plt.subplot(1, 2, 1)\n",
        "plt.plot(epochs_range, acc, label='Training Accuracy')\n",
        "plt.plot(epochs_range, val_acc, label='Validation Accuracy')\n",
        "plt.legend(loc='lower right')\n",
        "plt.title('Training and Validation Accuracy')\n",
        "\n",
        "plt.subplot(1, 2, 2)\n",
        "plt.plot(epochs_range, loss, label='Training Loss')\n",
        "plt.plot(epochs_range, val_loss, label='Validation Loss')\n",
        "plt.legend(loc='upper right')\n",
        "plt.title('Training and Validation Loss')\n",
        "plt.show()"
      ]
    },
    {
      "cell_type": "markdown",
      "metadata": {
        "id": "JvPphJYuSZhK"
      },
      "source": [
        "#### The model seems to be performing well with the training and validation data for the given number of epochs. As can be inferred from the chart above, the validation accuracy gradually increases as the number of epochs increase. This suggests the model is learning well with Backpropogation. Similarly, as can be inferred from the right chart, there is a knee bend around 2nd/3rd epoch suggesting a slow decrease in the training & validation loss."
      ]
    },
    {
      "cell_type": "markdown",
      "metadata": {
        "id": "3vRTPbJEn-pX"
      },
      "source": [
        "### Write your findings here"
      ]
    },
    {
      "cell_type": "code",
      "execution_count": 69,
      "metadata": {
        "id": "22hljAl6GykA"
      },
      "outputs": [],
      "source": [
        "# Todo, after you have analysed the model fit history for presence of underfit or overfit, choose an appropriate data augumentation strategy.\n",
        "# Your code goes here"
      ]
    },
    {
      "cell_type": "code",
      "execution_count": 70,
      "metadata": {
        "id": "XEjPWh8GG0C7"
      },
      "outputs": [],
      "source": [
        "# Todo, visualize how your augmentation strategy works for one instance of training image.\n",
        "# Your code goes here"
      ]
    },
    {
      "cell_type": "markdown",
      "metadata": {
        "id": "XhKDHlUdTuSX"
      },
      "source": [
        "### Todo:\n",
        "### Create the model, compile and train the model\n"
      ]
    },
    {
      "cell_type": "code",
      "execution_count": 71,
      "metadata": {
        "id": "W3V4l-O9G3dM"
      },
      "outputs": [],
      "source": [
        "## You can use Dropout layer if there is an evidence of overfitting in your findings\n",
        "\n",
        "## Your code goes here\n",
        "\n"
      ]
    },
    {
      "cell_type": "markdown",
      "metadata": {
        "id": "FfUWFp96UIAN"
      },
      "source": [
        "### Compiling the model"
      ]
    },
    {
      "cell_type": "code",
      "execution_count": 72,
      "metadata": {
        "id": "_-7yTm8IG8zR"
      },
      "outputs": [],
      "source": [
        "## Your code goes here"
      ]
    },
    {
      "cell_type": "markdown",
      "metadata": {
        "id": "kC-D_RWOURp6"
      },
      "source": [
        "### Training the model"
      ]
    },
    {
      "cell_type": "code",
      "execution_count": 73,
      "metadata": {
        "id": "UcPfkUASHBf9"
      },
      "outputs": [],
      "source": [
        "## Your code goes here, note: train your model for 20 epochs\n",
        "#history = ## your training code"
      ]
    },
    {
      "cell_type": "markdown",
      "metadata": {
        "id": "IhNOKtSyUYzC"
      },
      "source": [
        "### Visualizing the results"
      ]
    },
    {
      "cell_type": "markdown",
      "metadata": {
        "id": "7TdDi4u-VTkW"
      },
      "source": [
        "#### **Todo:** Find the distribution of classes in the training dataset.\n",
        "#### **Context:** Many times real life datasets can have class imbalance, one class can have proportionately higher number of samples compared to the others. Class imbalance can have a detrimental effect on the final model quality. Hence as a sanity check it becomes important to check what is the distribution of classes in the data."
      ]
    },
    {
      "cell_type": "code",
      "execution_count": 74,
      "metadata": {
        "id": "HAhwYgtTQRzq",
        "colab": {
          "base_uri": "https://localhost:8080/"
        },
        "outputId": "f3b4816d-8671-4f42-bde5-6a3bcc8d1a48"
      },
      "outputs": [
        {
          "output_type": "stream",
          "name": "stdout",
          "text": [
            "actinic keratosis:614 images\n",
            "basal cell carcinoma:876 images\n",
            "dermatofibroma:595 images\n",
            "melanoma:938 images\n",
            "nevus:857 images\n",
            "pigmented benign keratosis:962 images\n",
            "seborrheic keratosis:577 images\n",
            "squamous cell carcinoma:681 images\n",
            "vascular lesion:639 images\n"
          ]
        }
      ],
      "source": [
        "## Your code goes here.\n",
        "import collections\n",
        "\n",
        "# Making use of the counter in collections that helps in counting the number of repetitions of an object in a list and store it in a dictionary\n",
        "Imbalancecounter = collections.Counter()\n",
        "for images,labels in train_ds:\n",
        "  Imbalancecounter.update(labels.numpy())\n",
        "\n",
        "for index, name in enumerate(class_names):\n",
        "  print(f\"{name}:{Imbalancecounter[index]} images\")\n"
      ]
    },
    {
      "cell_type": "markdown",
      "metadata": {
        "id": "4csQL1dvO0b2"
      },
      "source": [
        "\n",
        "#### **Todo:** Write your findings here:\n",
        "#### - Which class has the least number of samples?\n",
        "#### - Ans: seborrheic keratosis has the least number of samples\n",
        "#### - Which classes dominate the data in terms proportionate number of samples?\n",
        "#### - Ans: pigmented benign keratosis dominates the data in terms of proportion of samples\n"
      ]
    },
    {
      "cell_type": "markdown",
      "metadata": {
        "id": "Hb-stKyHPf8v"
      },
      "source": [
        "#### **Todo:** Rectify the class imbalance\n",
        "#### **Context:** You can use a python package known as `Augmentor` (https://augmentor.readthedocs.io/en/master/) to add more samples across all classes so that none of the classes have very few samples."
      ]
    },
    {
      "cell_type": "code",
      "execution_count": 75,
      "metadata": {
        "id": "ItAg4rU-SzJh",
        "colab": {
          "base_uri": "https://localhost:8080/"
        },
        "outputId": "42c8d968-05fb-4d1a-d24a-adc1dabca2ee"
      },
      "outputs": [
        {
          "output_type": "stream",
          "name": "stdout",
          "text": [
            "Requirement already satisfied: Augmentor in /usr/local/lib/python3.10/dist-packages (0.2.12)\n",
            "Requirement already satisfied: Pillow>=5.2.0 in /usr/local/lib/python3.10/dist-packages (from Augmentor) (9.4.0)\n",
            "Requirement already satisfied: tqdm>=4.9.0 in /usr/local/lib/python3.10/dist-packages (from Augmentor) (4.66.4)\n",
            "Requirement already satisfied: numpy>=1.11.0 in /usr/local/lib/python3.10/dist-packages (from Augmentor) (1.25.2)\n"
          ]
        }
      ],
      "source": [
        "!pip install Augmentor"
      ]
    },
    {
      "cell_type": "markdown",
      "metadata": {
        "id": "BZKzTe3zWL4O"
      },
      "source": [
        "To use `Augmentor`, the following general procedure is followed:\n",
        "\n",
        "1. Instantiate a `Pipeline` object pointing to a directory containing your initial image data set.<br>\n",
        "2. Define a number of operations to perform on this data set using your `Pipeline` object.<br>\n",
        "3. Execute these operations by calling the `Pipeline’s` `sample()` method.\n"
      ]
    },
    {
      "cell_type": "code",
      "execution_count": 76,
      "metadata": {
        "colab": {
          "base_uri": "https://localhost:8080/"
        },
        "id": "9Egt9EHjR-Dd",
        "collapsed": true,
        "outputId": "925167b8-80a2-4e36-8903-43ff963eddbb"
      },
      "outputs": [
        {
          "output_type": "stream",
          "name": "stdout",
          "text": [
            "Initialised with 114 image(s) found.\n",
            "Output directory set to /content/drive/MyDrive/CNN Assignment/CNN_assignment_Extracted/Skin cancer ISIC The International Skin Imaging Collaboration/Train/actinic keratosis/output."
          ]
        },
        {
          "output_type": "stream",
          "name": "stderr",
          "text": [
            "Processing <PIL.Image.Image image mode=RGB size=600x450 at 0x7E72B0541D20>: 100%|██████████| 500/500 [00:21<00:00, 23.11 Samples/s]\n"
          ]
        },
        {
          "output_type": "stream",
          "name": "stdout",
          "text": [
            "Initialised with 376 image(s) found.\n",
            "Output directory set to /content/drive/MyDrive/CNN Assignment/CNN_assignment_Extracted/Skin cancer ISIC The International Skin Imaging Collaboration/Train/basal cell carcinoma/output."
          ]
        },
        {
          "output_type": "stream",
          "name": "stderr",
          "text": [
            "Processing <PIL.JpegImagePlugin.JpegImageFile image mode=RGB size=600x450 at 0x7E726B91C880>: 100%|██████████| 500/500 [00:26<00:00, 18.87 Samples/s]\n"
          ]
        },
        {
          "output_type": "stream",
          "name": "stdout",
          "text": [
            "Initialised with 95 image(s) found.\n",
            "Output directory set to /content/drive/MyDrive/CNN Assignment/CNN_assignment_Extracted/Skin cancer ISIC The International Skin Imaging Collaboration/Train/dermatofibroma/output."
          ]
        },
        {
          "output_type": "stream",
          "name": "stderr",
          "text": [
            "Processing <PIL.Image.Image image mode=RGB size=600x450 at 0x7E72B0541D20>: 100%|██████████| 500/500 [00:19<00:00, 25.89 Samples/s]\n"
          ]
        },
        {
          "output_type": "stream",
          "name": "stdout",
          "text": [
            "Initialised with 438 image(s) found.\n",
            "Output directory set to /content/drive/MyDrive/CNN Assignment/CNN_assignment_Extracted/Skin cancer ISIC The International Skin Imaging Collaboration/Train/melanoma/output."
          ]
        },
        {
          "output_type": "stream",
          "name": "stderr",
          "text": [
            "Processing <PIL.Image.Image image mode=RGB size=1024x768 at 0x7E72B02F5F60>: 100%|██████████| 500/500 [01:37<00:00,  5.14 Samples/s]\n"
          ]
        },
        {
          "output_type": "stream",
          "name": "stdout",
          "text": [
            "Initialised with 357 image(s) found.\n",
            "Output directory set to /content/drive/MyDrive/CNN Assignment/CNN_assignment_Extracted/Skin cancer ISIC The International Skin Imaging Collaboration/Train/nevus/output."
          ]
        },
        {
          "output_type": "stream",
          "name": "stderr",
          "text": [
            "Processing <PIL.Image.Image image mode=RGB size=1024x768 at 0x7E7240239300>: 100%|██████████| 500/500 [01:28<00:00,  5.62 Samples/s]\n"
          ]
        },
        {
          "output_type": "stream",
          "name": "stdout",
          "text": [
            "Initialised with 462 image(s) found.\n",
            "Output directory set to /content/drive/MyDrive/CNN Assignment/CNN_assignment_Extracted/Skin cancer ISIC The International Skin Imaging Collaboration/Train/pigmented benign keratosis/output."
          ]
        },
        {
          "output_type": "stream",
          "name": "stderr",
          "text": [
            "Processing <PIL.Image.Image image mode=RGB size=600x450 at 0x7E726B9BEE00>: 100%|██████████| 500/500 [00:19<00:00, 25.16 Samples/s]\n"
          ]
        },
        {
          "output_type": "stream",
          "name": "stdout",
          "text": [
            "Initialised with 77 image(s) found.\n",
            "Output directory set to /content/drive/MyDrive/CNN Assignment/CNN_assignment_Extracted/Skin cancer ISIC The International Skin Imaging Collaboration/Train/seborrheic keratosis/output."
          ]
        },
        {
          "output_type": "stream",
          "name": "stderr",
          "text": [
            "Processing <PIL.Image.Image image mode=RGB size=1024x768 at 0x7E724053E140>: 100%|██████████| 500/500 [00:41<00:00, 12.10 Samples/s]\n"
          ]
        },
        {
          "output_type": "stream",
          "name": "stdout",
          "text": [
            "Initialised with 181 image(s) found.\n",
            "Output directory set to /content/drive/MyDrive/CNN Assignment/CNN_assignment_Extracted/Skin cancer ISIC The International Skin Imaging Collaboration/Train/squamous cell carcinoma/output."
          ]
        },
        {
          "output_type": "stream",
          "name": "stderr",
          "text": [
            "Processing <PIL.Image.Image image mode=RGB size=600x450 at 0x7E7240333520>: 100%|██████████| 500/500 [00:20<00:00, 24.36 Samples/s]\n"
          ]
        },
        {
          "output_type": "stream",
          "name": "stdout",
          "text": [
            "Initialised with 139 image(s) found.\n",
            "Output directory set to /content/drive/MyDrive/CNN Assignment/CNN_assignment_Extracted/Skin cancer ISIC The International Skin Imaging Collaboration/Train/vascular lesion/output."
          ]
        },
        {
          "output_type": "stream",
          "name": "stderr",
          "text": [
            "Processing <PIL.Image.Image image mode=RGB size=600x450 at 0x7E726B9BCFA0>: 100%|██████████| 500/500 [00:19<00:00, 26.01 Samples/s]\n"
          ]
        }
      ],
      "source": [
        "path_to_training_dataset=\"/content/drive/MyDrive/CNN Assignment/CNN_assignment_Extracted/Skin cancer ISIC The International Skin Imaging Collaboration/Train/\"\n",
        "import Augmentor\n",
        "for i in class_names:\n",
        "    p = Augmentor.Pipeline(path_to_training_dataset + i)\n",
        "    p.rotate(probability=0.7, max_left_rotation=10, max_right_rotation=10)\n",
        "    p.sample(500) ## We are adding 500 samples per class to make sure that none of the classes are sparse."
      ]
    },
    {
      "cell_type": "markdown",
      "metadata": {
        "id": "CcBIFZGbWuFa"
      },
      "source": [
        "Augmentor has stored the augmented images in the output sub-directory of each of the sub-directories of skin cancer types.. Lets take a look at total count of augmented images."
      ]
    },
    {
      "cell_type": "code",
      "execution_count": 77,
      "metadata": {
        "colab": {
          "base_uri": "https://localhost:8080/"
        },
        "id": "jxWcMqZhdRWz",
        "outputId": "9a5060c3-7670-4d88-f8c0-c7c2892fab29"
      },
      "outputs": [
        {
          "output_type": "stream",
          "name": "stdout",
          "text": [
            "9000\n"
          ]
        }
      ],
      "source": [
        "image_count_train = len(list(data_dir_train.glob('*/output/*.jpg')))\n",
        "print(image_count_train)"
      ]
    },
    {
      "cell_type": "code",
      "source": [
        "data_dir_train"
      ],
      "metadata": {
        "colab": {
          "base_uri": "https://localhost:8080/"
        },
        "id": "swdnH-Rko3gx",
        "outputId": "31183682-3a03-4e8d-9e38-0122f6794d94"
      },
      "execution_count": 78,
      "outputs": [
        {
          "output_type": "execute_result",
          "data": {
            "text/plain": [
              "PosixPath('/content/drive/MyDrive/CNN Assignment/CNN_assignment_Extracted/Skin cancer ISIC The International Skin Imaging Collaboration/Train')"
            ]
          },
          "metadata": {},
          "execution_count": 78
        }
      ]
    },
    {
      "cell_type": "markdown",
      "metadata": {
        "id": "IJ5KarKq4kWJ"
      },
      "source": [
        "### Lets see the distribution of augmented data after adding new images to the original training data."
      ]
    },
    {
      "cell_type": "code",
      "execution_count": 79,
      "metadata": {
        "id": "6tODrYIY2nxJ",
        "collapsed": true
      },
      "outputs": [],
      "source": [
        "import glob\n",
        "path_list = [x for x in glob.glob(os.path.join(data_dir_train, '*','output', '*.jpg'))]\n",
        "path_list\n",
        "path_list_new = [x for x in glob.glob(os.path.join(data_dir_train, '*','output', '*.jpg'))]"
      ]
    },
    {
      "cell_type": "code",
      "execution_count": 80,
      "metadata": {
        "id": "nZvVdF7g3E1z",
        "colab": {
          "base_uri": "https://localhost:8080/"
        },
        "collapsed": true,
        "outputId": "f3f2ee85-22ff-4021-8d9f-3d69494e1735"
      },
      "outputs": [
        {
          "output_type": "execute_result",
          "data": {
            "text/plain": [
              "['actinic keratosis',\n",
              " 'actinic keratosis',\n",
              " 'actinic keratosis',\n",
              " 'actinic keratosis',\n",
              " 'actinic keratosis',\n",
              " 'actinic keratosis',\n",
              " 'actinic keratosis',\n",
              " 'actinic keratosis',\n",
              " 'actinic keratosis',\n",
              " 'actinic keratosis',\n",
              " 'actinic keratosis',\n",
              " 'actinic keratosis',\n",
              " 'actinic keratosis',\n",
              " 'actinic keratosis',\n",
              " 'actinic keratosis',\n",
              " 'actinic keratosis',\n",
              " 'actinic keratosis',\n",
              " 'actinic keratosis',\n",
              " 'actinic keratosis',\n",
              " 'actinic keratosis',\n",
              " 'actinic keratosis',\n",
              " 'actinic keratosis',\n",
              " 'actinic keratosis',\n",
              " 'actinic keratosis',\n",
              " 'actinic keratosis',\n",
              " 'actinic keratosis',\n",
              " 'actinic keratosis',\n",
              " 'actinic keratosis',\n",
              " 'actinic keratosis',\n",
              " 'actinic keratosis',\n",
              " 'actinic keratosis',\n",
              " 'actinic keratosis',\n",
              " 'actinic keratosis',\n",
              " 'actinic keratosis',\n",
              " 'actinic keratosis',\n",
              " 'actinic keratosis',\n",
              " 'actinic keratosis',\n",
              " 'actinic keratosis',\n",
              " 'actinic keratosis',\n",
              " 'actinic keratosis',\n",
              " 'actinic keratosis',\n",
              " 'actinic keratosis',\n",
              " 'actinic keratosis',\n",
              " 'actinic keratosis',\n",
              " 'actinic keratosis',\n",
              " 'actinic keratosis',\n",
              " 'actinic keratosis',\n",
              " 'actinic keratosis',\n",
              " 'actinic keratosis',\n",
              " 'actinic keratosis',\n",
              " 'actinic keratosis',\n",
              " 'actinic keratosis',\n",
              " 'actinic keratosis',\n",
              " 'actinic keratosis',\n",
              " 'actinic keratosis',\n",
              " 'actinic keratosis',\n",
              " 'actinic keratosis',\n",
              " 'actinic keratosis',\n",
              " 'actinic keratosis',\n",
              " 'actinic keratosis',\n",
              " 'actinic keratosis',\n",
              " 'actinic keratosis',\n",
              " 'actinic keratosis',\n",
              " 'actinic keratosis',\n",
              " 'actinic keratosis',\n",
              " 'actinic keratosis',\n",
              " 'actinic keratosis',\n",
              " 'actinic keratosis',\n",
              " 'actinic keratosis',\n",
              " 'actinic keratosis',\n",
              " 'actinic keratosis',\n",
              " 'actinic keratosis',\n",
              " 'actinic keratosis',\n",
              " 'actinic keratosis',\n",
              " 'actinic keratosis',\n",
              " 'actinic keratosis',\n",
              " 'actinic keratosis',\n",
              " 'actinic keratosis',\n",
              " 'actinic keratosis',\n",
              " 'actinic keratosis',\n",
              " 'actinic keratosis',\n",
              " 'actinic keratosis',\n",
              " 'actinic keratosis',\n",
              " 'actinic keratosis',\n",
              " 'actinic keratosis',\n",
              " 'actinic keratosis',\n",
              " 'actinic keratosis',\n",
              " 'actinic keratosis',\n",
              " 'actinic keratosis',\n",
              " 'actinic keratosis',\n",
              " 'actinic keratosis',\n",
              " 'actinic keratosis',\n",
              " 'actinic keratosis',\n",
              " 'actinic keratosis',\n",
              " 'actinic keratosis',\n",
              " 'actinic keratosis',\n",
              " 'actinic keratosis',\n",
              " 'actinic keratosis',\n",
              " 'actinic keratosis',\n",
              " 'actinic keratosis',\n",
              " 'actinic keratosis',\n",
              " 'actinic keratosis',\n",
              " 'actinic keratosis',\n",
              " 'actinic keratosis',\n",
              " 'actinic keratosis',\n",
              " 'actinic keratosis',\n",
              " 'actinic keratosis',\n",
              " 'actinic keratosis',\n",
              " 'actinic keratosis',\n",
              " 'actinic keratosis',\n",
              " 'actinic keratosis',\n",
              " 'actinic keratosis',\n",
              " 'actinic keratosis',\n",
              " 'actinic keratosis',\n",
              " 'actinic keratosis',\n",
              " 'actinic keratosis',\n",
              " 'actinic keratosis',\n",
              " 'actinic keratosis',\n",
              " 'actinic keratosis',\n",
              " 'actinic keratosis',\n",
              " 'actinic keratosis',\n",
              " 'actinic keratosis',\n",
              " 'actinic keratosis',\n",
              " 'actinic keratosis',\n",
              " 'actinic keratosis',\n",
              " 'actinic keratosis',\n",
              " 'actinic keratosis',\n",
              " 'actinic keratosis',\n",
              " 'actinic keratosis',\n",
              " 'actinic keratosis',\n",
              " 'actinic keratosis',\n",
              " 'actinic keratosis',\n",
              " 'actinic keratosis',\n",
              " 'actinic keratosis',\n",
              " 'actinic keratosis',\n",
              " 'actinic keratosis',\n",
              " 'actinic keratosis',\n",
              " 'actinic keratosis',\n",
              " 'actinic keratosis',\n",
              " 'actinic keratosis',\n",
              " 'actinic keratosis',\n",
              " 'actinic keratosis',\n",
              " 'actinic keratosis',\n",
              " 'actinic keratosis',\n",
              " 'actinic keratosis',\n",
              " 'actinic keratosis',\n",
              " 'actinic keratosis',\n",
              " 'actinic keratosis',\n",
              " 'actinic keratosis',\n",
              " 'actinic keratosis',\n",
              " 'actinic keratosis',\n",
              " 'actinic keratosis',\n",
              " 'actinic keratosis',\n",
              " 'actinic keratosis',\n",
              " 'actinic keratosis',\n",
              " 'actinic keratosis',\n",
              " 'actinic keratosis',\n",
              " 'actinic keratosis',\n",
              " 'actinic keratosis',\n",
              " 'actinic keratosis',\n",
              " 'actinic keratosis',\n",
              " 'actinic keratosis',\n",
              " 'actinic keratosis',\n",
              " 'actinic keratosis',\n",
              " 'actinic keratosis',\n",
              " 'actinic keratosis',\n",
              " 'actinic keratosis',\n",
              " 'actinic keratosis',\n",
              " 'actinic keratosis',\n",
              " 'actinic keratosis',\n",
              " 'actinic keratosis',\n",
              " 'actinic keratosis',\n",
              " 'actinic keratosis',\n",
              " 'actinic keratosis',\n",
              " 'actinic keratosis',\n",
              " 'actinic keratosis',\n",
              " 'actinic keratosis',\n",
              " 'actinic keratosis',\n",
              " 'actinic keratosis',\n",
              " 'actinic keratosis',\n",
              " 'actinic keratosis',\n",
              " 'actinic keratosis',\n",
              " 'actinic keratosis',\n",
              " 'actinic keratosis',\n",
              " 'actinic keratosis',\n",
              " 'actinic keratosis',\n",
              " 'actinic keratosis',\n",
              " 'actinic keratosis',\n",
              " 'actinic keratosis',\n",
              " 'actinic keratosis',\n",
              " 'actinic keratosis',\n",
              " 'actinic keratosis',\n",
              " 'actinic keratosis',\n",
              " 'actinic keratosis',\n",
              " 'actinic keratosis',\n",
              " 'actinic keratosis',\n",
              " 'actinic keratosis',\n",
              " 'actinic keratosis',\n",
              " 'actinic keratosis',\n",
              " 'actinic keratosis',\n",
              " 'actinic keratosis',\n",
              " 'actinic keratosis',\n",
              " 'actinic keratosis',\n",
              " 'actinic keratosis',\n",
              " 'actinic keratosis',\n",
              " 'actinic keratosis',\n",
              " 'actinic keratosis',\n",
              " 'actinic keratosis',\n",
              " 'actinic keratosis',\n",
              " 'actinic keratosis',\n",
              " 'actinic keratosis',\n",
              " 'actinic keratosis',\n",
              " 'actinic keratosis',\n",
              " 'actinic keratosis',\n",
              " 'actinic keratosis',\n",
              " 'actinic keratosis',\n",
              " 'actinic keratosis',\n",
              " 'actinic keratosis',\n",
              " 'actinic keratosis',\n",
              " 'actinic keratosis',\n",
              " 'actinic keratosis',\n",
              " 'actinic keratosis',\n",
              " 'actinic keratosis',\n",
              " 'actinic keratosis',\n",
              " 'actinic keratosis',\n",
              " 'actinic keratosis',\n",
              " 'actinic keratosis',\n",
              " 'actinic keratosis',\n",
              " 'actinic keratosis',\n",
              " 'actinic keratosis',\n",
              " 'actinic keratosis',\n",
              " 'actinic keratosis',\n",
              " 'actinic keratosis',\n",
              " 'actinic keratosis',\n",
              " 'actinic keratosis',\n",
              " 'actinic keratosis',\n",
              " 'actinic keratosis',\n",
              " 'actinic keratosis',\n",
              " 'actinic keratosis',\n",
              " 'actinic keratosis',\n",
              " 'actinic keratosis',\n",
              " 'actinic keratosis',\n",
              " 'actinic keratosis',\n",
              " 'actinic keratosis',\n",
              " 'actinic keratosis',\n",
              " 'actinic keratosis',\n",
              " 'actinic keratosis',\n",
              " 'actinic keratosis',\n",
              " 'actinic keratosis',\n",
              " 'actinic keratosis',\n",
              " 'actinic keratosis',\n",
              " 'actinic keratosis',\n",
              " 'actinic keratosis',\n",
              " 'actinic keratosis',\n",
              " 'actinic keratosis',\n",
              " 'actinic keratosis',\n",
              " 'actinic keratosis',\n",
              " 'actinic keratosis',\n",
              " 'actinic keratosis',\n",
              " 'actinic keratosis',\n",
              " 'actinic keratosis',\n",
              " 'actinic keratosis',\n",
              " 'actinic keratosis',\n",
              " 'actinic keratosis',\n",
              " 'actinic keratosis',\n",
              " 'actinic keratosis',\n",
              " 'actinic keratosis',\n",
              " 'actinic keratosis',\n",
              " 'actinic keratosis',\n",
              " 'actinic keratosis',\n",
              " 'actinic keratosis',\n",
              " 'actinic keratosis',\n",
              " 'actinic keratosis',\n",
              " 'actinic keratosis',\n",
              " 'actinic keratosis',\n",
              " 'actinic keratosis',\n",
              " 'actinic keratosis',\n",
              " 'actinic keratosis',\n",
              " 'actinic keratosis',\n",
              " 'actinic keratosis',\n",
              " 'actinic keratosis',\n",
              " 'actinic keratosis',\n",
              " 'actinic keratosis',\n",
              " 'actinic keratosis',\n",
              " 'actinic keratosis',\n",
              " 'actinic keratosis',\n",
              " 'actinic keratosis',\n",
              " 'actinic keratosis',\n",
              " 'actinic keratosis',\n",
              " 'actinic keratosis',\n",
              " 'actinic keratosis',\n",
              " 'actinic keratosis',\n",
              " 'actinic keratosis',\n",
              " 'actinic keratosis',\n",
              " 'actinic keratosis',\n",
              " 'actinic keratosis',\n",
              " 'actinic keratosis',\n",
              " 'actinic keratosis',\n",
              " 'actinic keratosis',\n",
              " 'actinic keratosis',\n",
              " 'actinic keratosis',\n",
              " 'actinic keratosis',\n",
              " 'actinic keratosis',\n",
              " 'actinic keratosis',\n",
              " 'actinic keratosis',\n",
              " 'actinic keratosis',\n",
              " 'actinic keratosis',\n",
              " 'actinic keratosis',\n",
              " 'actinic keratosis',\n",
              " 'actinic keratosis',\n",
              " 'actinic keratosis',\n",
              " 'actinic keratosis',\n",
              " 'actinic keratosis',\n",
              " 'actinic keratosis',\n",
              " 'actinic keratosis',\n",
              " 'actinic keratosis',\n",
              " 'actinic keratosis',\n",
              " 'actinic keratosis',\n",
              " 'actinic keratosis',\n",
              " 'actinic keratosis',\n",
              " 'actinic keratosis',\n",
              " 'actinic keratosis',\n",
              " 'actinic keratosis',\n",
              " 'actinic keratosis',\n",
              " 'actinic keratosis',\n",
              " 'actinic keratosis',\n",
              " 'actinic keratosis',\n",
              " 'actinic keratosis',\n",
              " 'actinic keratosis',\n",
              " 'actinic keratosis',\n",
              " 'actinic keratosis',\n",
              " 'actinic keratosis',\n",
              " 'actinic keratosis',\n",
              " 'actinic keratosis',\n",
              " 'actinic keratosis',\n",
              " 'actinic keratosis',\n",
              " 'actinic keratosis',\n",
              " 'actinic keratosis',\n",
              " 'actinic keratosis',\n",
              " 'actinic keratosis',\n",
              " 'actinic keratosis',\n",
              " 'actinic keratosis',\n",
              " 'actinic keratosis',\n",
              " 'actinic keratosis',\n",
              " 'actinic keratosis',\n",
              " 'actinic keratosis',\n",
              " 'actinic keratosis',\n",
              " 'actinic keratosis',\n",
              " 'actinic keratosis',\n",
              " 'actinic keratosis',\n",
              " 'actinic keratosis',\n",
              " 'actinic keratosis',\n",
              " 'actinic keratosis',\n",
              " 'actinic keratosis',\n",
              " 'actinic keratosis',\n",
              " 'actinic keratosis',\n",
              " 'actinic keratosis',\n",
              " 'actinic keratosis',\n",
              " 'actinic keratosis',\n",
              " 'actinic keratosis',\n",
              " 'actinic keratosis',\n",
              " 'actinic keratosis',\n",
              " 'actinic keratosis',\n",
              " 'actinic keratosis',\n",
              " 'actinic keratosis',\n",
              " 'actinic keratosis',\n",
              " 'actinic keratosis',\n",
              " 'actinic keratosis',\n",
              " 'actinic keratosis',\n",
              " 'actinic keratosis',\n",
              " 'actinic keratosis',\n",
              " 'actinic keratosis',\n",
              " 'actinic keratosis',\n",
              " 'actinic keratosis',\n",
              " 'actinic keratosis',\n",
              " 'actinic keratosis',\n",
              " 'actinic keratosis',\n",
              " 'actinic keratosis',\n",
              " 'actinic keratosis',\n",
              " 'actinic keratosis',\n",
              " 'actinic keratosis',\n",
              " 'actinic keratosis',\n",
              " 'actinic keratosis',\n",
              " 'actinic keratosis',\n",
              " 'actinic keratosis',\n",
              " 'actinic keratosis',\n",
              " 'actinic keratosis',\n",
              " 'actinic keratosis',\n",
              " 'actinic keratosis',\n",
              " 'actinic keratosis',\n",
              " 'actinic keratosis',\n",
              " 'actinic keratosis',\n",
              " 'actinic keratosis',\n",
              " 'actinic keratosis',\n",
              " 'actinic keratosis',\n",
              " 'actinic keratosis',\n",
              " 'actinic keratosis',\n",
              " 'actinic keratosis',\n",
              " 'actinic keratosis',\n",
              " 'actinic keratosis',\n",
              " 'actinic keratosis',\n",
              " 'actinic keratosis',\n",
              " 'actinic keratosis',\n",
              " 'actinic keratosis',\n",
              " 'actinic keratosis',\n",
              " 'actinic keratosis',\n",
              " 'actinic keratosis',\n",
              " 'actinic keratosis',\n",
              " 'actinic keratosis',\n",
              " 'actinic keratosis',\n",
              " 'actinic keratosis',\n",
              " 'actinic keratosis',\n",
              " 'actinic keratosis',\n",
              " 'actinic keratosis',\n",
              " 'actinic keratosis',\n",
              " 'actinic keratosis',\n",
              " 'actinic keratosis',\n",
              " 'actinic keratosis',\n",
              " 'actinic keratosis',\n",
              " 'actinic keratosis',\n",
              " 'actinic keratosis',\n",
              " 'actinic keratosis',\n",
              " 'actinic keratosis',\n",
              " 'actinic keratosis',\n",
              " 'actinic keratosis',\n",
              " 'actinic keratosis',\n",
              " 'actinic keratosis',\n",
              " 'actinic keratosis',\n",
              " 'actinic keratosis',\n",
              " 'actinic keratosis',\n",
              " 'actinic keratosis',\n",
              " 'actinic keratosis',\n",
              " 'actinic keratosis',\n",
              " 'actinic keratosis',\n",
              " 'actinic keratosis',\n",
              " 'actinic keratosis',\n",
              " 'actinic keratosis',\n",
              " 'actinic keratosis',\n",
              " 'actinic keratosis',\n",
              " 'actinic keratosis',\n",
              " 'actinic keratosis',\n",
              " 'actinic keratosis',\n",
              " 'actinic keratosis',\n",
              " 'actinic keratosis',\n",
              " 'actinic keratosis',\n",
              " 'actinic keratosis',\n",
              " 'actinic keratosis',\n",
              " 'actinic keratosis',\n",
              " 'actinic keratosis',\n",
              " 'actinic keratosis',\n",
              " 'actinic keratosis',\n",
              " 'actinic keratosis',\n",
              " 'actinic keratosis',\n",
              " 'actinic keratosis',\n",
              " 'actinic keratosis',\n",
              " 'actinic keratosis',\n",
              " 'actinic keratosis',\n",
              " 'actinic keratosis',\n",
              " 'actinic keratosis',\n",
              " 'actinic keratosis',\n",
              " 'actinic keratosis',\n",
              " 'actinic keratosis',\n",
              " 'actinic keratosis',\n",
              " 'actinic keratosis',\n",
              " 'actinic keratosis',\n",
              " 'actinic keratosis',\n",
              " 'actinic keratosis',\n",
              " 'actinic keratosis',\n",
              " 'actinic keratosis',\n",
              " 'actinic keratosis',\n",
              " 'actinic keratosis',\n",
              " 'actinic keratosis',\n",
              " 'actinic keratosis',\n",
              " 'actinic keratosis',\n",
              " 'actinic keratosis',\n",
              " 'actinic keratosis',\n",
              " 'actinic keratosis',\n",
              " 'actinic keratosis',\n",
              " 'actinic keratosis',\n",
              " 'actinic keratosis',\n",
              " 'actinic keratosis',\n",
              " 'actinic keratosis',\n",
              " 'actinic keratosis',\n",
              " 'actinic keratosis',\n",
              " 'actinic keratosis',\n",
              " 'actinic keratosis',\n",
              " 'actinic keratosis',\n",
              " 'actinic keratosis',\n",
              " 'actinic keratosis',\n",
              " 'actinic keratosis',\n",
              " 'actinic keratosis',\n",
              " 'actinic keratosis',\n",
              " 'actinic keratosis',\n",
              " 'actinic keratosis',\n",
              " 'actinic keratosis',\n",
              " 'actinic keratosis',\n",
              " 'actinic keratosis',\n",
              " 'actinic keratosis',\n",
              " 'actinic keratosis',\n",
              " 'actinic keratosis',\n",
              " 'actinic keratosis',\n",
              " 'actinic keratosis',\n",
              " 'actinic keratosis',\n",
              " 'actinic keratosis',\n",
              " 'actinic keratosis',\n",
              " 'actinic keratosis',\n",
              " 'actinic keratosis',\n",
              " 'actinic keratosis',\n",
              " 'actinic keratosis',\n",
              " 'actinic keratosis',\n",
              " 'actinic keratosis',\n",
              " 'actinic keratosis',\n",
              " 'actinic keratosis',\n",
              " 'actinic keratosis',\n",
              " 'actinic keratosis',\n",
              " 'actinic keratosis',\n",
              " 'actinic keratosis',\n",
              " 'actinic keratosis',\n",
              " 'actinic keratosis',\n",
              " 'actinic keratosis',\n",
              " 'actinic keratosis',\n",
              " 'actinic keratosis',\n",
              " 'actinic keratosis',\n",
              " 'actinic keratosis',\n",
              " 'actinic keratosis',\n",
              " 'actinic keratosis',\n",
              " 'actinic keratosis',\n",
              " 'actinic keratosis',\n",
              " 'actinic keratosis',\n",
              " 'actinic keratosis',\n",
              " 'actinic keratosis',\n",
              " 'actinic keratosis',\n",
              " 'actinic keratosis',\n",
              " 'actinic keratosis',\n",
              " 'actinic keratosis',\n",
              " 'actinic keratosis',\n",
              " 'actinic keratosis',\n",
              " 'actinic keratosis',\n",
              " 'actinic keratosis',\n",
              " 'actinic keratosis',\n",
              " 'actinic keratosis',\n",
              " 'actinic keratosis',\n",
              " 'actinic keratosis',\n",
              " 'actinic keratosis',\n",
              " 'actinic keratosis',\n",
              " 'actinic keratosis',\n",
              " 'actinic keratosis',\n",
              " 'actinic keratosis',\n",
              " 'actinic keratosis',\n",
              " 'actinic keratosis',\n",
              " 'actinic keratosis',\n",
              " 'actinic keratosis',\n",
              " 'actinic keratosis',\n",
              " 'actinic keratosis',\n",
              " 'actinic keratosis',\n",
              " 'actinic keratosis',\n",
              " 'actinic keratosis',\n",
              " 'actinic keratosis',\n",
              " 'actinic keratosis',\n",
              " 'actinic keratosis',\n",
              " 'actinic keratosis',\n",
              " 'actinic keratosis',\n",
              " 'actinic keratosis',\n",
              " 'actinic keratosis',\n",
              " 'actinic keratosis',\n",
              " 'actinic keratosis',\n",
              " 'actinic keratosis',\n",
              " 'actinic keratosis',\n",
              " 'actinic keratosis',\n",
              " 'actinic keratosis',\n",
              " 'actinic keratosis',\n",
              " 'actinic keratosis',\n",
              " 'actinic keratosis',\n",
              " 'actinic keratosis',\n",
              " 'actinic keratosis',\n",
              " 'actinic keratosis',\n",
              " 'actinic keratosis',\n",
              " 'actinic keratosis',\n",
              " 'actinic keratosis',\n",
              " 'actinic keratosis',\n",
              " 'actinic keratosis',\n",
              " 'actinic keratosis',\n",
              " 'actinic keratosis',\n",
              " 'actinic keratosis',\n",
              " 'actinic keratosis',\n",
              " 'actinic keratosis',\n",
              " 'actinic keratosis',\n",
              " 'actinic keratosis',\n",
              " 'actinic keratosis',\n",
              " 'actinic keratosis',\n",
              " 'actinic keratosis',\n",
              " 'actinic keratosis',\n",
              " 'actinic keratosis',\n",
              " 'actinic keratosis',\n",
              " 'actinic keratosis',\n",
              " 'actinic keratosis',\n",
              " 'actinic keratosis',\n",
              " 'actinic keratosis',\n",
              " 'actinic keratosis',\n",
              " 'actinic keratosis',\n",
              " 'actinic keratosis',\n",
              " 'actinic keratosis',\n",
              " 'actinic keratosis',\n",
              " 'actinic keratosis',\n",
              " 'actinic keratosis',\n",
              " 'actinic keratosis',\n",
              " 'actinic keratosis',\n",
              " 'actinic keratosis',\n",
              " 'actinic keratosis',\n",
              " 'actinic keratosis',\n",
              " 'actinic keratosis',\n",
              " 'actinic keratosis',\n",
              " 'actinic keratosis',\n",
              " 'actinic keratosis',\n",
              " 'actinic keratosis',\n",
              " 'actinic keratosis',\n",
              " 'actinic keratosis',\n",
              " 'actinic keratosis',\n",
              " 'actinic keratosis',\n",
              " 'actinic keratosis',\n",
              " 'actinic keratosis',\n",
              " 'actinic keratosis',\n",
              " 'actinic keratosis',\n",
              " 'actinic keratosis',\n",
              " 'actinic keratosis',\n",
              " 'actinic keratosis',\n",
              " 'actinic keratosis',\n",
              " 'actinic keratosis',\n",
              " 'actinic keratosis',\n",
              " 'actinic keratosis',\n",
              " 'actinic keratosis',\n",
              " 'actinic keratosis',\n",
              " 'actinic keratosis',\n",
              " 'actinic keratosis',\n",
              " 'actinic keratosis',\n",
              " 'actinic keratosis',\n",
              " 'actinic keratosis',\n",
              " 'actinic keratosis',\n",
              " 'actinic keratosis',\n",
              " 'actinic keratosis',\n",
              " 'actinic keratosis',\n",
              " 'actinic keratosis',\n",
              " 'actinic keratosis',\n",
              " 'actinic keratosis',\n",
              " 'actinic keratosis',\n",
              " 'actinic keratosis',\n",
              " 'actinic keratosis',\n",
              " 'actinic keratosis',\n",
              " 'actinic keratosis',\n",
              " 'actinic keratosis',\n",
              " 'actinic keratosis',\n",
              " 'actinic keratosis',\n",
              " 'actinic keratosis',\n",
              " 'actinic keratosis',\n",
              " 'actinic keratosis',\n",
              " 'actinic keratosis',\n",
              " 'actinic keratosis',\n",
              " 'actinic keratosis',\n",
              " 'actinic keratosis',\n",
              " 'actinic keratosis',\n",
              " 'actinic keratosis',\n",
              " 'actinic keratosis',\n",
              " 'actinic keratosis',\n",
              " 'actinic keratosis',\n",
              " 'actinic keratosis',\n",
              " 'actinic keratosis',\n",
              " 'actinic keratosis',\n",
              " 'actinic keratosis',\n",
              " 'actinic keratosis',\n",
              " 'actinic keratosis',\n",
              " 'actinic keratosis',\n",
              " 'actinic keratosis',\n",
              " 'actinic keratosis',\n",
              " 'actinic keratosis',\n",
              " 'actinic keratosis',\n",
              " 'actinic keratosis',\n",
              " 'actinic keratosis',\n",
              " 'actinic keratosis',\n",
              " 'actinic keratosis',\n",
              " 'actinic keratosis',\n",
              " 'actinic keratosis',\n",
              " 'actinic keratosis',\n",
              " 'actinic keratosis',\n",
              " 'actinic keratosis',\n",
              " 'actinic keratosis',\n",
              " 'actinic keratosis',\n",
              " 'actinic keratosis',\n",
              " 'actinic keratosis',\n",
              " 'actinic keratosis',\n",
              " 'actinic keratosis',\n",
              " 'actinic keratosis',\n",
              " 'actinic keratosis',\n",
              " 'actinic keratosis',\n",
              " 'actinic keratosis',\n",
              " 'actinic keratosis',\n",
              " 'actinic keratosis',\n",
              " 'actinic keratosis',\n",
              " 'actinic keratosis',\n",
              " 'actinic keratosis',\n",
              " 'actinic keratosis',\n",
              " 'actinic keratosis',\n",
              " 'actinic keratosis',\n",
              " 'actinic keratosis',\n",
              " 'actinic keratosis',\n",
              " 'actinic keratosis',\n",
              " 'actinic keratosis',\n",
              " 'actinic keratosis',\n",
              " 'actinic keratosis',\n",
              " 'actinic keratosis',\n",
              " 'actinic keratosis',\n",
              " 'actinic keratosis',\n",
              " 'actinic keratosis',\n",
              " 'actinic keratosis',\n",
              " 'actinic keratosis',\n",
              " 'actinic keratosis',\n",
              " 'actinic keratosis',\n",
              " 'actinic keratosis',\n",
              " 'actinic keratosis',\n",
              " 'actinic keratosis',\n",
              " 'actinic keratosis',\n",
              " 'actinic keratosis',\n",
              " 'actinic keratosis',\n",
              " 'actinic keratosis',\n",
              " 'actinic keratosis',\n",
              " 'actinic keratosis',\n",
              " 'actinic keratosis',\n",
              " 'actinic keratosis',\n",
              " 'actinic keratosis',\n",
              " 'actinic keratosis',\n",
              " 'actinic keratosis',\n",
              " 'actinic keratosis',\n",
              " 'actinic keratosis',\n",
              " 'actinic keratosis',\n",
              " 'actinic keratosis',\n",
              " 'actinic keratosis',\n",
              " 'actinic keratosis',\n",
              " 'actinic keratosis',\n",
              " 'actinic keratosis',\n",
              " 'actinic keratosis',\n",
              " 'actinic keratosis',\n",
              " 'actinic keratosis',\n",
              " 'actinic keratosis',\n",
              " 'actinic keratosis',\n",
              " 'actinic keratosis',\n",
              " 'actinic keratosis',\n",
              " 'actinic keratosis',\n",
              " 'actinic keratosis',\n",
              " 'actinic keratosis',\n",
              " 'actinic keratosis',\n",
              " 'actinic keratosis',\n",
              " 'actinic keratosis',\n",
              " 'actinic keratosis',\n",
              " 'actinic keratosis',\n",
              " 'actinic keratosis',\n",
              " 'actinic keratosis',\n",
              " 'actinic keratosis',\n",
              " 'actinic keratosis',\n",
              " 'actinic keratosis',\n",
              " 'actinic keratosis',\n",
              " 'actinic keratosis',\n",
              " 'actinic keratosis',\n",
              " 'actinic keratosis',\n",
              " 'actinic keratosis',\n",
              " 'actinic keratosis',\n",
              " 'actinic keratosis',\n",
              " 'actinic keratosis',\n",
              " 'actinic keratosis',\n",
              " 'actinic keratosis',\n",
              " 'actinic keratosis',\n",
              " 'actinic keratosis',\n",
              " 'actinic keratosis',\n",
              " 'actinic keratosis',\n",
              " 'actinic keratosis',\n",
              " 'actinic keratosis',\n",
              " 'actinic keratosis',\n",
              " 'actinic keratosis',\n",
              " 'actinic keratosis',\n",
              " 'actinic keratosis',\n",
              " 'actinic keratosis',\n",
              " 'actinic keratosis',\n",
              " 'actinic keratosis',\n",
              " 'actinic keratosis',\n",
              " 'actinic keratosis',\n",
              " 'actinic keratosis',\n",
              " 'actinic keratosis',\n",
              " 'actinic keratosis',\n",
              " 'actinic keratosis',\n",
              " 'actinic keratosis',\n",
              " 'actinic keratosis',\n",
              " 'actinic keratosis',\n",
              " 'actinic keratosis',\n",
              " 'actinic keratosis',\n",
              " 'actinic keratosis',\n",
              " 'actinic keratosis',\n",
              " 'actinic keratosis',\n",
              " 'actinic keratosis',\n",
              " 'actinic keratosis',\n",
              " 'actinic keratosis',\n",
              " 'actinic keratosis',\n",
              " 'actinic keratosis',\n",
              " 'actinic keratosis',\n",
              " 'actinic keratosis',\n",
              " 'actinic keratosis',\n",
              " 'actinic keratosis',\n",
              " 'actinic keratosis',\n",
              " 'actinic keratosis',\n",
              " 'actinic keratosis',\n",
              " 'actinic keratosis',\n",
              " 'actinic keratosis',\n",
              " 'actinic keratosis',\n",
              " 'actinic keratosis',\n",
              " 'actinic keratosis',\n",
              " 'actinic keratosis',\n",
              " 'actinic keratosis',\n",
              " 'actinic keratosis',\n",
              " 'actinic keratosis',\n",
              " 'actinic keratosis',\n",
              " 'actinic keratosis',\n",
              " 'actinic keratosis',\n",
              " 'actinic keratosis',\n",
              " 'actinic keratosis',\n",
              " 'actinic keratosis',\n",
              " 'actinic keratosis',\n",
              " 'actinic keratosis',\n",
              " 'actinic keratosis',\n",
              " 'actinic keratosis',\n",
              " 'actinic keratosis',\n",
              " 'actinic keratosis',\n",
              " 'actinic keratosis',\n",
              " 'actinic keratosis',\n",
              " 'actinic keratosis',\n",
              " 'actinic keratosis',\n",
              " 'actinic keratosis',\n",
              " 'actinic keratosis',\n",
              " 'actinic keratosis',\n",
              " 'actinic keratosis',\n",
              " 'actinic keratosis',\n",
              " 'actinic keratosis',\n",
              " 'actinic keratosis',\n",
              " 'actinic keratosis',\n",
              " 'actinic keratosis',\n",
              " 'actinic keratosis',\n",
              " 'actinic keratosis',\n",
              " 'actinic keratosis',\n",
              " 'actinic keratosis',\n",
              " 'actinic keratosis',\n",
              " 'actinic keratosis',\n",
              " 'actinic keratosis',\n",
              " 'actinic keratosis',\n",
              " 'actinic keratosis',\n",
              " 'actinic keratosis',\n",
              " 'actinic keratosis',\n",
              " 'actinic keratosis',\n",
              " 'actinic keratosis',\n",
              " 'actinic keratosis',\n",
              " 'actinic keratosis',\n",
              " 'actinic keratosis',\n",
              " 'actinic keratosis',\n",
              " 'actinic keratosis',\n",
              " 'actinic keratosis',\n",
              " 'actinic keratosis',\n",
              " 'actinic keratosis',\n",
              " 'actinic keratosis',\n",
              " 'actinic keratosis',\n",
              " 'actinic keratosis',\n",
              " 'actinic keratosis',\n",
              " 'actinic keratosis',\n",
              " 'actinic keratosis',\n",
              " 'actinic keratosis',\n",
              " 'actinic keratosis',\n",
              " 'actinic keratosis',\n",
              " 'actinic keratosis',\n",
              " 'actinic keratosis',\n",
              " 'actinic keratosis',\n",
              " 'actinic keratosis',\n",
              " 'actinic keratosis',\n",
              " 'actinic keratosis',\n",
              " 'actinic keratosis',\n",
              " 'actinic keratosis',\n",
              " 'actinic keratosis',\n",
              " 'actinic keratosis',\n",
              " 'actinic keratosis',\n",
              " 'actinic keratosis',\n",
              " 'actinic keratosis',\n",
              " 'actinic keratosis',\n",
              " 'actinic keratosis',\n",
              " 'actinic keratosis',\n",
              " 'actinic keratosis',\n",
              " 'actinic keratosis',\n",
              " 'actinic keratosis',\n",
              " 'actinic keratosis',\n",
              " 'actinic keratosis',\n",
              " 'actinic keratosis',\n",
              " 'actinic keratosis',\n",
              " 'actinic keratosis',\n",
              " 'actinic keratosis',\n",
              " 'actinic keratosis',\n",
              " 'actinic keratosis',\n",
              " 'actinic keratosis',\n",
              " 'actinic keratosis',\n",
              " 'actinic keratosis',\n",
              " 'actinic keratosis',\n",
              " 'actinic keratosis',\n",
              " 'actinic keratosis',\n",
              " 'actinic keratosis',\n",
              " 'actinic keratosis',\n",
              " 'actinic keratosis',\n",
              " 'actinic keratosis',\n",
              " 'actinic keratosis',\n",
              " 'actinic keratosis',\n",
              " 'actinic keratosis',\n",
              " 'actinic keratosis',\n",
              " 'actinic keratosis',\n",
              " 'actinic keratosis',\n",
              " 'actinic keratosis',\n",
              " 'actinic keratosis',\n",
              " 'actinic keratosis',\n",
              " 'actinic keratosis',\n",
              " 'actinic keratosis',\n",
              " 'actinic keratosis',\n",
              " 'actinic keratosis',\n",
              " 'actinic keratosis',\n",
              " 'actinic keratosis',\n",
              " 'actinic keratosis',\n",
              " 'actinic keratosis',\n",
              " 'actinic keratosis',\n",
              " 'actinic keratosis',\n",
              " 'actinic keratosis',\n",
              " 'actinic keratosis',\n",
              " 'actinic keratosis',\n",
              " 'actinic keratosis',\n",
              " 'actinic keratosis',\n",
              " 'actinic keratosis',\n",
              " 'actinic keratosis',\n",
              " 'actinic keratosis',\n",
              " 'actinic keratosis',\n",
              " 'actinic keratosis',\n",
              " 'actinic keratosis',\n",
              " 'actinic keratosis',\n",
              " 'actinic keratosis',\n",
              " 'actinic keratosis',\n",
              " 'actinic keratosis',\n",
              " 'actinic keratosis',\n",
              " 'actinic keratosis',\n",
              " 'actinic keratosis',\n",
              " 'actinic keratosis',\n",
              " 'actinic keratosis',\n",
              " 'actinic keratosis',\n",
              " 'actinic keratosis',\n",
              " 'actinic keratosis',\n",
              " 'actinic keratosis',\n",
              " 'actinic keratosis',\n",
              " 'actinic keratosis',\n",
              " 'actinic keratosis',\n",
              " 'actinic keratosis',\n",
              " 'actinic keratosis',\n",
              " 'actinic keratosis',\n",
              " 'actinic keratosis',\n",
              " 'actinic keratosis',\n",
              " 'actinic keratosis',\n",
              " 'actinic keratosis',\n",
              " 'actinic keratosis',\n",
              " 'actinic keratosis',\n",
              " 'actinic keratosis',\n",
              " 'actinic keratosis',\n",
              " 'actinic keratosis',\n",
              " 'actinic keratosis',\n",
              " 'actinic keratosis',\n",
              " 'actinic keratosis',\n",
              " 'actinic keratosis',\n",
              " 'actinic keratosis',\n",
              " 'actinic keratosis',\n",
              " 'actinic keratosis',\n",
              " 'actinic keratosis',\n",
              " 'actinic keratosis',\n",
              " 'actinic keratosis',\n",
              " 'actinic keratosis',\n",
              " 'actinic keratosis',\n",
              " 'actinic keratosis',\n",
              " 'actinic keratosis',\n",
              " 'actinic keratosis',\n",
              " 'actinic keratosis',\n",
              " 'actinic keratosis',\n",
              " 'actinic keratosis',\n",
              " 'actinic keratosis',\n",
              " 'actinic keratosis',\n",
              " 'actinic keratosis',\n",
              " 'actinic keratosis',\n",
              " 'actinic keratosis',\n",
              " 'actinic keratosis',\n",
              " 'actinic keratosis',\n",
              " 'actinic keratosis',\n",
              " 'actinic keratosis',\n",
              " 'actinic keratosis',\n",
              " 'actinic keratosis',\n",
              " 'actinic keratosis',\n",
              " 'actinic keratosis',\n",
              " 'actinic keratosis',\n",
              " 'actinic keratosis',\n",
              " 'actinic keratosis',\n",
              " ...]"
            ]
          },
          "metadata": {},
          "execution_count": 80
        }
      ],
      "source": [
        "lesion_list_new = [os.path.basename(os.path.dirname(os.path.dirname(y))) for y in glob.glob(os.path.join(data_dir_train, '*','output', '*.jpg'))]\n",
        "lesion_list_new"
      ]
    },
    {
      "cell_type": "code",
      "execution_count": 81,
      "metadata": {
        "id": "okcqVFAA2nxK"
      },
      "outputs": [],
      "source": [
        "dataframe_dict_new = dict(zip(path_list_new, lesion_list_new))"
      ]
    },
    {
      "cell_type": "code",
      "execution_count": 82,
      "metadata": {
        "id": "njzBxTNT2nxK"
      },
      "outputs": [],
      "source": [
        "df2 = pd.DataFrame(list(dataframe_dict_new.items()),columns = ['Path','Label'])\n",
        "#new_df = original_df.append(df2)"
      ]
    },
    {
      "cell_type": "code",
      "execution_count": 83,
      "metadata": {
        "id": "5j45rmxd2nxK",
        "colab": {
          "base_uri": "https://localhost:8080/"
        },
        "collapsed": true,
        "outputId": "8c0a85d3-2e6e-4a45-bd17-6dee688683e8"
      },
      "outputs": [
        {
          "output_type": "execute_result",
          "data": {
            "text/plain": [
              "Label\n",
              "actinic keratosis             1000\n",
              "basal cell carcinoma          1000\n",
              "dermatofibroma                1000\n",
              "melanoma                      1000\n",
              "nevus                         1000\n",
              "pigmented benign keratosis    1000\n",
              "seborrheic keratosis          1000\n",
              "squamous cell carcinoma       1000\n",
              "vascular lesion               1000\n",
              "Name: count, dtype: int64"
            ]
          },
          "metadata": {},
          "execution_count": 83
        }
      ],
      "source": [
        "#new_df['Label'].value_counts()\n",
        "df2['Label'].value_counts()"
      ]
    },
    {
      "cell_type": "markdown",
      "metadata": {
        "id": "9NirFBvGPmgI"
      },
      "source": [
        "So, now we have added 500 images to all the classes to maintain some class balance. We can add more images as we want to improve training process."
      ]
    },
    {
      "cell_type": "markdown",
      "metadata": {
        "id": "9EnspeMbRWNs"
      },
      "source": [
        "#### **Todo**: Train the model on the data created using Augmentor"
      ]
    },
    {
      "cell_type": "code",
      "execution_count": 84,
      "metadata": {
        "id": "hFcj1XgndRWz"
      },
      "outputs": [],
      "source": [
        "batch_size = 32\n",
        "img_height = 180\n",
        "img_width = 180"
      ]
    },
    {
      "cell_type": "markdown",
      "metadata": {
        "id": "0haOU11Ey8ey"
      },
      "source": [
        "#### **Todo:** Create a training dataset"
      ]
    },
    {
      "cell_type": "code",
      "execution_count": 85,
      "metadata": {
        "id": "H4ZY11judRWz",
        "colab": {
          "base_uri": "https://localhost:8080/"
        },
        "outputId": "8f55c904-ef17-44b7-8611-b5908ce83b82"
      },
      "outputs": [
        {
          "output_type": "stream",
          "name": "stdout",
          "text": [
            "Found 11239 files belonging to 9 classes.\n"
          ]
        }
      ],
      "source": [
        "data_dir_train=\"/content/drive/MyDrive/CNN Assignment/CNN_assignment_Extracted/Skin cancer ISIC The International Skin Imaging Collaboration/Train\"\n",
        "train_ds = tf.keras.preprocessing.image_dataset_from_directory(\n",
        "  data_dir_train,\n",
        "  seed=123,\n",
        "  #validation_split = 0.2,\n",
        "  #subset = ## Todo choose the correct parameter value, so that only training data is refered to,\n",
        "  image_size=(img_height, img_width),\n",
        "  batch_size=batch_size)"
      ]
    },
    {
      "cell_type": "markdown",
      "source": [
        "4500 + 2239 = 6739 Files/Images found"
      ],
      "metadata": {
        "id": "TvdROtsvrNLj"
      }
    },
    {
      "cell_type": "markdown",
      "metadata": {
        "id": "mwNJVDuBP5kf"
      },
      "source": [
        "#### **Todo:** Create a validation dataset"
      ]
    },
    {
      "cell_type": "code",
      "execution_count": 86,
      "metadata": {
        "id": "TX191d_3dRW0",
        "colab": {
          "base_uri": "https://localhost:8080/"
        },
        "outputId": "2fa57f11-7f29-4e8c-f29e-f8a7c54e1d28"
      },
      "outputs": [
        {
          "output_type": "stream",
          "name": "stdout",
          "text": [
            "Found 11239 files belonging to 9 classes.\n",
            "Using 8992 files for training.\n"
          ]
        }
      ],
      "source": [
        "val_ds = tf.keras.preprocessing.image_dataset_from_directory(\n",
        "  data_dir_train,\n",
        "  seed=123,\n",
        "  validation_split = 0.2,\n",
        "  subset = \"training\",\n",
        "  image_size=(img_height, img_width),\n",
        "  batch_size=batch_size)"
      ]
    },
    {
      "cell_type": "markdown",
      "metadata": {
        "id": "JaoWeOEpVjqH"
      },
      "source": [
        "#### **Todo:** Create your model (make sure to include normalization)"
      ]
    },
    {
      "cell_type": "code",
      "execution_count": 87,
      "metadata": {
        "id": "Ch0MuKvFVr7O"
      },
      "outputs": [],
      "source": [
        "## your code goes here\n",
        "model = Sequential(layers.experimental.preprocessing.Rescaling(scale = 1./255))\n",
        "model.add(Conv2D(32, (3, 3), padding='same',\n",
        "                 input_shape=(180,180,3)))\n",
        "model.add(Activation('relu'))\n",
        "model.add(Conv2D(32, (3, 3)))\n",
        "model.add(Activation('relu'))\n",
        "\n",
        "model.add(Flatten())\n",
        "model.add(Dense(128))\n",
        "model.add(Activation('relu'))\n",
        "model.add(Dropout(0.5))\n",
        "model.add(Dense(len(class_names)))\n",
        "model.add(Activation('softmax'))"
      ]
    },
    {
      "cell_type": "markdown",
      "metadata": {
        "id": "Bu5N9LxkVx1B"
      },
      "source": [
        "#### **Todo:** Compile your model (Choose optimizer and loss function appropriately)"
      ]
    },
    {
      "cell_type": "code",
      "execution_count": 88,
      "metadata": {
        "id": "H47GWmLbdRW1"
      },
      "outputs": [],
      "source": [
        "## your code goes here\n",
        "model.compile(optimizer='adam',\n",
        "              loss='sparse_categorical_crossentropy',\n",
        "              metrics=['accuracy'])"
      ]
    },
    {
      "cell_type": "markdown",
      "metadata": {
        "id": "9gS-Y1bJV7uy"
      },
      "source": [
        "#### **Todo:**  Train your model"
      ]
    },
    {
      "cell_type": "code",
      "execution_count": 89,
      "metadata": {
        "id": "fcV6OdI4dRW1",
        "colab": {
          "base_uri": "https://localhost:8080/"
        },
        "outputId": "d8f978d5-9d61-404b-ee19-79db8e402963"
      },
      "outputs": [
        {
          "output_type": "stream",
          "name": "stdout",
          "text": [
            "Epoch 1/30\n",
            "352/352 [==============================] - 134s 374ms/step - loss: 2.8308 - accuracy: 0.2051 - val_loss: 2.0091 - val_accuracy: 0.2421\n",
            "Epoch 2/30\n",
            "352/352 [==============================] - 120s 338ms/step - loss: 1.7612 - accuracy: 0.3558 - val_loss: 1.4421 - val_accuracy: 0.4883\n",
            "Epoch 3/30\n",
            "352/352 [==============================] - 123s 348ms/step - loss: 1.5549 - accuracy: 0.4219 - val_loss: 1.2782 - val_accuracy: 0.5694\n",
            "Epoch 4/30\n",
            "352/352 [==============================] - 121s 342ms/step - loss: 1.2456 - accuracy: 0.5575 - val_loss: 0.9856 - val_accuracy: 0.6575\n",
            "Epoch 5/30\n",
            "352/352 [==============================] - 119s 335ms/step - loss: 0.9649 - accuracy: 0.6673 - val_loss: 0.6319 - val_accuracy: 0.7954\n",
            "Epoch 6/30\n",
            "352/352 [==============================] - 119s 336ms/step - loss: 0.7694 - accuracy: 0.7530 - val_loss: 0.4485 - val_accuracy: 0.8723\n",
            "Epoch 7/30\n",
            "352/352 [==============================] - 119s 335ms/step - loss: 0.5998 - accuracy: 0.8115 - val_loss: 0.3458 - val_accuracy: 0.9002\n",
            "Epoch 8/30\n",
            "352/352 [==============================] - 122s 343ms/step - loss: 0.5023 - accuracy: 0.8446 - val_loss: 0.2650 - val_accuracy: 0.9286\n",
            "Epoch 9/30\n",
            "352/352 [==============================] - 122s 342ms/step - loss: 0.4239 - accuracy: 0.8805 - val_loss: 0.1922 - val_accuracy: 0.9508\n",
            "Epoch 10/30\n",
            "352/352 [==============================] - 154s 435ms/step - loss: 0.3378 - accuracy: 0.9027 - val_loss: 0.1751 - val_accuracy: 0.9520\n",
            "Epoch 11/30\n",
            "352/352 [==============================] - 121s 342ms/step - loss: 0.2878 - accuracy: 0.9151 - val_loss: 0.1269 - val_accuracy: 0.9607\n",
            "Epoch 12/30\n",
            "352/352 [==============================] - 120s 336ms/step - loss: 0.2449 - accuracy: 0.9253 - val_loss: 0.1310 - val_accuracy: 0.9592\n",
            "Epoch 13/30\n",
            "352/352 [==============================] - 153s 432ms/step - loss: 0.2422 - accuracy: 0.9292 - val_loss: 0.1015 - val_accuracy: 0.9642\n",
            "Epoch 14/30\n",
            "352/352 [==============================] - 120s 339ms/step - loss: 0.1936 - accuracy: 0.9350 - val_loss: 0.0948 - val_accuracy: 0.9642\n",
            "Epoch 15/30\n",
            "352/352 [==============================] - 119s 336ms/step - loss: 0.2012 - accuracy: 0.9349 - val_loss: 0.0935 - val_accuracy: 0.9634\n",
            "Epoch 16/30\n",
            "352/352 [==============================] - 119s 335ms/step - loss: 0.1920 - accuracy: 0.9379 - val_loss: 0.0932 - val_accuracy: 0.9663\n",
            "Epoch 17/30\n",
            "352/352 [==============================] - 118s 334ms/step - loss: 0.1717 - accuracy: 0.9441 - val_loss: 0.0873 - val_accuracy: 0.9651\n",
            "Epoch 18/30\n",
            "352/352 [==============================] - 154s 434ms/step - loss: 0.1691 - accuracy: 0.9434 - val_loss: 0.0836 - val_accuracy: 0.9672\n",
            "Epoch 19/30\n",
            "352/352 [==============================] - 125s 350ms/step - loss: 0.1615 - accuracy: 0.9447 - val_loss: 0.0751 - val_accuracy: 0.9680\n",
            "Epoch 20/30\n",
            "352/352 [==============================] - 122s 342ms/step - loss: 0.1430 - accuracy: 0.9492 - val_loss: 0.0752 - val_accuracy: 0.9673\n",
            "Epoch 21/30\n",
            "352/352 [==============================] - 119s 333ms/step - loss: 0.1436 - accuracy: 0.9482 - val_loss: 0.0804 - val_accuracy: 0.9626\n",
            "Epoch 22/30\n",
            "352/352 [==============================] - 117s 330ms/step - loss: 0.1552 - accuracy: 0.9495 - val_loss: 0.0781 - val_accuracy: 0.9667\n",
            "Epoch 23/30\n",
            "352/352 [==============================] - 151s 428ms/step - loss: 0.1318 - accuracy: 0.9524 - val_loss: 0.1111 - val_accuracy: 0.9601\n",
            "Epoch 24/30\n",
            "352/352 [==============================] - 119s 334ms/step - loss: 0.2691 - accuracy: 0.9251 - val_loss: 0.0852 - val_accuracy: 0.9657\n",
            "Epoch 25/30\n",
            "352/352 [==============================] - 119s 334ms/step - loss: 0.1673 - accuracy: 0.9399 - val_loss: 0.0745 - val_accuracy: 0.9663\n",
            "Epoch 26/30\n",
            "352/352 [==============================] - 118s 332ms/step - loss: 0.1379 - accuracy: 0.9499 - val_loss: 0.0716 - val_accuracy: 0.9644\n",
            "Epoch 27/30\n",
            "352/352 [==============================] - 118s 331ms/step - loss: 0.1302 - accuracy: 0.9530 - val_loss: 0.0733 - val_accuracy: 0.9677\n",
            "Epoch 28/30\n",
            "352/352 [==============================] - 117s 329ms/step - loss: 0.1483 - accuracy: 0.9489 - val_loss: 0.1265 - val_accuracy: 0.9502\n",
            "Epoch 29/30\n",
            "352/352 [==============================] - 119s 336ms/step - loss: 0.1367 - accuracy: 0.9522 - val_loss: 0.0693 - val_accuracy: 0.9690\n",
            "Epoch 30/30\n",
            "352/352 [==============================] - 117s 329ms/step - loss: 0.1293 - accuracy: 0.9537 - val_loss: 0.0682 - val_accuracy: 0.9679\n"
          ]
        }
      ],
      "source": [
        "epochs = 30\n",
        "## Your code goes here, use 50 epochs.\n",
        "history = model.fit(\n",
        "  train_ds,\n",
        "  validation_data=val_ds,\n",
        "  epochs=epochs\n",
        ")"
      ]
    },
    {
      "cell_type": "markdown",
      "metadata": {
        "id": "iuvfCTsBWLMp"
      },
      "source": [
        "#### **Todo:**  Visualize the model results"
      ]
    },
    {
      "cell_type": "code",
      "execution_count": 90,
      "metadata": {
        "id": "lCTXwfkTdRW1",
        "colab": {
          "base_uri": "https://localhost:8080/",
          "height": 699
        },
        "outputId": "506d14ea-5e53-4346-a542-6b0192e8e3d3"
      },
      "outputs": [
        {
          "output_type": "display_data",
          "data": {
            "text/plain": [
              "<Figure size 800x800 with 2 Axes>"
            ],
            "image/png": "[encoded data removed]"
          },
          "metadata": {}
        }
      ],
      "source": [
        "acc = history.history['accuracy']\n",
        "val_acc = history.history['val_accuracy']\n",
        "\n",
        "loss = history.history['loss']\n",
        "val_loss = history.history['val_loss']\n",
        "\n",
        "epochs_range = range(epochs)\n",
        "\n",
        "plt.figure(figsize=(8, 8))\n",
        "plt.subplot(1, 2, 1)\n",
        "plt.plot(epochs_range, acc, label='Training Accuracy')\n",
        "plt.plot(epochs_range, val_acc, label='Validation Accuracy')\n",
        "plt.legend(loc='lower right')\n",
        "plt.title('Training and Validation Accuracy')\n",
        "\n",
        "plt.subplot(1, 2, 2)\n",
        "plt.plot(epochs_range, loss, label='Training Loss')\n",
        "plt.plot(epochs_range, val_loss, label='Validation Loss')\n",
        "plt.legend(loc='upper right')\n",
        "plt.title('Training and Validation Loss')\n",
        "plt.show()"
      ]
    },
    {
      "cell_type": "markdown",
      "metadata": {
        "id": "Way4lakC4_p0"
      },
      "source": [
        "#### **Todo:**  Analyze your results here. Did you get rid of underfitting/overfitting? Did class rebalance help?\n",
        "\n"
      ]
    },
    {
      "cell_type": "markdown",
      "source": [
        "The overfitting seems to have vanished. This is evident from the marginal decrease in the difference between training and validation accuracy as compared to the previous graph."
      ],
      "metadata": {
        "id": "1sm3jKNDAeON"
      }
    },
    {
      "cell_type": "code",
      "execution_count": 90,
      "metadata": {
        "id": "nV2BHg1dWrdY"
      },
      "outputs": [],
      "source": []
    }
  ],
  "metadata": {
    "accelerator": "GPU",
    "colab": {
      "provenance": [],
      "collapsed_sections": [
        "3vRTPbJEn-pX"
      ]
    },
    "kernelspec": {
      "display_name": "Python 3",
      "name": "python3"
    }
  },
  "nbformat": 4,
  "nbformat_minor": 0
}